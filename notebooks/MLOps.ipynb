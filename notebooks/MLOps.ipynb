{
 "cells": [
  {
   "cell_type": "markdown",
   "metadata": {},
   "source": [
    "# Structure"
   ]
  },
  {
   "cell_type": "markdown",
   "metadata": {},
   "source": [
    "- api/: This folder contains the FastAPI module.\n",
    "  - __init__.py: An empty file indicating that this directory should be treated as a Python package.\n",
    "  - fast.py: Contains the FastAPI application setup. The main FastAPI application file that integrates the dyslexia classification and text simplification modules.\n",
    "\n",
    "- backend/: This folder contains the modules for dyslexia classification and text simplification.\n",
    "  - __init__.py: An empty file indicating that this directory should be treated as a Python package.\n",
    "  - dyslexia_classifier/: Module for the dyslexia classification model.\n",
    "    - model.py: Contains the dyslexia classification model implementation.\n",
    "    - dyslexia_classifier_api.py: Implements the FastAPI routes for dyslexia classification.\n",
    "  - text_simplification/: Module for the text simplification model.\n",
    "    - model.py: Contains the text simplification model implementation.\n",
    "    - text_simplification_api.py: Implements the FastAPI routes for text simplification.\n",
    "- data/: This folder contains modules related to data processing\n",
    "  - __init__.py: An empty file indicating that this directory should be treated as a Python package.\n",
    "  - preprocessing/: Module for text preprocessing.\n",
    "  - text_preprocessing.py: Contains functions for preprocessing text data.\n",
    "- Dockerfile: Configuration file for Docker, ensuring consistent environments.\n",
    "- Makefile: File with tasks to automate common workflows.\n",
    "- requirements.txt: File listing project dependencies.\n",
    "- requirements_dev.txt\n",
    "- README.md: Project documentation."
   ]
  },
  {
   "cell_type": "markdown",
   "metadata": {},
   "source": [
    "## FastApi"
   ]
  },
  {
   "cell_type": "code",
   "execution_count": null,
   "metadata": {},
   "outputs": [],
   "source": [
    "from fastapi import FastAPI\n",
    "from fastapi.middleware.cors import CORSMiddleware #do we include middleware? ask TA\n"
   ]
  },
  {
   "cell_type": "code",
   "execution_count": null,
   "metadata": {},
   "outputs": [],
   "source": [
    "app = FastAPI()\n"
   ]
  },
  {
   "cell_type": "markdown",
   "metadata": {},
   "source": [
    "- Middleware in FastAPI is code that runs befre processing the request and after processing the response.\n",
    "- CORS: Cross-Origin Resource Sharing.\n",
    "- Allowing all middleware is optional, but good practice for dev purposes."
   ]
  },
  {
   "cell_type": "code",
   "execution_count": null,
   "metadata": {},
   "outputs": [],
   "source": [
    "app.add_middleware(\n",
    "    CORSMiddleware,\n",
    "    allow_origins=[\"*\"],  # Allows all origins\n",
    "    allow_credentials=True,\n",
    "    allow_methods=[\"*\"],  # Allows all methods\n",
    "    allow_headers=[\"*\"],  # Allows all headers\n",
    ")\n"
   ]
  },
  {
   "cell_type": "markdown",
   "metadata": {},
   "source": [
    "- `@app.post(\"/classify-dyslexia\")` is a decorator provided by FastAPI. It's used to define an HTTP endopoint. In this case, it specifies that the function `classify_dislexia` will handle HTTP POST requests to the `/classify-dyslexia` endpoint.\n",
    "- `def classify_dyslexia(text: str)`: This is the function that will be executed when a POST request is made to \"/classify-dyslexia\". It takes a single parameter text, which is expected to be a string representing the text you want to classify for dyslexia.\n",
    "**We should include an error if the user include an url**\n",
    "try: This block is used to encapsulate the code that might raise an exception.\n",
    "result = classify_text(text): This line is calling a function named classify_text with the provided text. Presumably, classify_text is a function from your dyslexia classification module that applies a machine learning or deep learning model to classify the given text. -> idea\n",
    "\n",
    "return {\"result\": result}: If the classification is successful, the function returns a dictionary with the key \"result\" and the classification result. This result will be part of the response sent back to the client.\n",
    "\n",
    "except Exception as e:: This block catches any exceptions that might occur in the try block.\n",
    "\n",
    "raise HTTPException(status_code=500, detail=str(e)): If an exception occurs, it raises an HTTPException with a status code of 500 (Internal Server Error) and provides a detailed message extracted from the exception (str(e)). This will result in an appropriate error response being sent back to the client."
   ]
  },
  {
   "cell_type": "code",
   "execution_count": null,
   "metadata": {},
   "outputs": [],
   "source": [
    "# Endpoint for dyslexia classification\n",
    "@app.post(\"/classify-dyslexia\")\n",
    "def classify_dyslexia(text: str):\n",
    "    try:\n",
    "        # Call the dyslexia classification model\n",
    "        result = classify_text(text)\n",
    "\n",
    "        # Return the classification result\n",
    "        return {\"result\": result}\n",
    "    except Exception as e:\n",
    "        # Handle exceptions, e.g., model not loaded or input validation error\n",
    "        # str(e) convert te exception object to a string\n",
    "        raise HTTPException(status_code=500, detail=str(e))\n"
   ]
  },
  {
   "cell_type": "code",
   "execution_count": null,
   "metadata": {},
   "outputs": [],
   "source": [
    "# Endpoint for text simplification\n",
    "@app.post(\"/simplify-text\")\n",
    "def simplify_text_endpoint(text: str):\n",
    "    try:\n",
    "        # Call the text simplification model\n",
    "        simplified_text = simplify_text(text)\n",
    "\n",
    "        # Return the simplified text\n",
    "        return {\"result\": simplified_text}\n",
    "    except Exception as e:\n",
    "        # Handle exceptions, e.g., model not loaded or input validation error\n",
    "        raise HTTPException(status_code=500, detail=str(e))\n"
   ]
  },
  {
   "cell_type": "code",
   "execution_count": null,
   "metadata": {},
   "outputs": [],
   "source": [
    "# Default endpoint\n",
    "@app.get(\"/\")\n",
    "def root():\n",
    "    return {\"message\": \"Welcome to the Dyslexia Classification API by neuroCraft!\"}\n"
   ]
  },
  {
   "cell_type": "markdown",
   "metadata": {},
   "source": [
    "## Requirements files:"
   ]
  },
  {
   "cell_type": "markdown",
   "metadata": {},
   "source": [
    "### requirements.txt"
   ]
  },
  {
   "cell_type": "code",
   "execution_count": null,
   "metadata": {},
   "outputs": [],
   "source": [
    "# data science\n",
    "numpy\n",
    "pandas\n",
    "\n",
    "# Uncomment if you use sklearn\n",
    "# scikit-learn\n",
    "\n",
    "# Install the correct TensorFlow version\n",
    "# Uncomment if you use TensorFlow\n",
    "# tensorflow~=2.13    # For both Intel and Apple silicon\n",
    "\n",
    "# Google Cloud\n",
    "google-cloud-storage\n",
    "\n",
    "python-dotenv\n",
    "\n",
    "# API\n",
    "fastapi\n",
    "uvicorn\n"
   ]
  },
  {
   "cell_type": "markdown",
   "metadata": {},
   "source": [
    "### requirements_dev.txt"
   ]
  },
  {
   "cell_type": "code",
   "execution_count": null,
   "metadata": {},
   "outputs": [],
   "source": [
    "# packaging\n",
    "pip\n",
    "setuptools\n",
    "twine\n",
    "wheel\n",
    "\n",
    "# python and debugging\n",
    "ipdb\n",
    "ipykernel\n",
    "\n",
    "# jupyter and data viz\n",
    "matplotlib\n",
    "seaborn\n"
   ]
  },
  {
   "cell_type": "code",
   "execution_count": null,
   "metadata": {},
   "outputs": [],
   "source": []
  }
 ],
 "metadata": {
  "language_info": {
   "name": "python"
  }
 },
 "nbformat": 4,
 "nbformat_minor": 2
}
