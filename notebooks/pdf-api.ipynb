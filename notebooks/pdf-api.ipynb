{
 "cells": [
  {
   "cell_type": "code",
   "execution_count": 1,
   "metadata": {},
   "outputs": [],
   "source": [
    "from PyPDF2 import PdfReader"
   ]
  },
  {
   "cell_type": "code",
   "execution_count": 2,
   "metadata": {},
   "outputs": [],
   "source": [
    "def extract_text_from_pdf(file_path):\n",
    "    \"\"\"\n",
    "    Extract text from a PDF file.\n",
    "\n",
    "    Args:\n",
    "    - file_path (str): Path to the PDF file.\n",
    "\n",
    "    Returns:\n",
    "    - str: Text extracted from the PDF.\n",
    "    \"\"\"\n",
    "    try:\n",
    "        with open(file_path, 'rb') as file:\n",
    "            pdf_reader = PdfReader(file)\n",
    "            text = ''\n",
    "            for page_num in range(len(pdf_reader.pages)):\n",
    "                page = pdf_reader.pages[page_num]\n",
    "                text += page.extract_text()\n",
    "        return text\n",
    "    except Exception as e:\n",
    "        print(f\"Error extracting text from PDF: {e}\")\n",
    "        return None"
   ]
  },
  {
   "cell_type": "code",
   "execution_count": 3,
   "metadata": {},
   "outputs": [
    {
     "name": "stdout",
     "output_type": "stream",
     "text": [
      "/home/patricia/code/ChristineSi/neuroCraft/notebooks\n"
     ]
    }
   ],
   "source": [
    "import os\n",
    "print(os.getcwd())"
   ]
  },
  {
   "cell_type": "code",
   "execution_count": 4,
   "metadata": {},
   "outputs": [
    {
     "name": "stdout",
     "output_type": "stream",
     "text": [
      "/C84/C104/C101 /C102/C117/C116/C117/C114/C101 /C111/C102 /C112/C104/C105/C108/C111/C115/C111/C112/C104/C121\n",
      "/C74/C111/C104/C110 /C82/C46 /C83/C101/C97/C114/C108/C101\n",
      "/C68/C101/C112/C97/C114/C116/C109/C101/C110/C116/C111/C102/C80/C104/C105/C108/C111/C115/C111/C112/C104/C121/C44/C85/C110/C105/C118/C101/C114/C115/C105/C116/C121/C111/C102/C67/C97/C108/C105/C102/C111/C114/C110/C105/C97 /C246/C66/C101/C114/C107/C101/C108/C101/C121/C44/C66/C101/C114/C107/C101/C108/C101/C121/C44/C67/C65/C57/C52/C55/C50/C48/C44/C85/C83/C65\n",
      "/C84/C104/C101/C114/C101 /C105/C115 /C110/C111 /C115/C104/C97/C114/C112 /C100/C105/C118/C105/C100/C105/C110/C103 /C108/C105/C110/C101/C98/C101/C116/C119/C101/C101/C110 /C115/C99/C105/C101/C110/C99/C101 /C97/C110/C100/C112/C104/C105/C108/C111/C115/C111/C112/C104/C121/C44 /C98/C117/C116 /C112/C104/C105/C108/C111/C115/C111/C112/C104/C105/C99/C97/C108 /C112/C114/C111/C98/C108/C101/C109/C115 /C116/C101/C110/C100/C116/C111 /C104/C97/C118/C101\n",
      "/C116/C104/C114/C101/C101 /C115/C112/C101/C99/C105/C97/C108 /C102/C101/C97/C116/C117/C114/C101/C115/C46 /C70/C105/C114/C115/C116/C44 /C116/C104/C101/C121 /C116/C101/C110/C100 /C116/C111 /C99/C111/C110/C99/C101/C114/C110 /C108/C97/C114/C103/C101 /C102/C114/C97/C109/C101/C119/C111/C114/C107/C115 /C114/C97/C116/C104/C101/C114 /C116/C104/C97/C110 /C115/C112/C101/C99/C105/C162/C99 /C113/C117/C101/C115/C116/C105/C111/C110/C115 /C119/C105/C116/C104/C105/C110\n",
      "/C116/C104/C101 /C102/C114/C97/C109/C101/C119/C111/C114/C107/C46 /C83/C101/C99/C111/C110/C100/C44 /C116/C104/C101/C121 /C97/C114/C101 /C113/C117/C101/C115/C116/C105/C111/C110/C115 /C102/C111/C114 /C119/C104/C105/C99/C104 /C116/C104/C101/C114/C101 /C105/C115 /C110/C111 /C103/C101/C110/C101/C114/C97/C108/C108/C121 /C97/C99/C99/C101/C112/C116/C101/C100 /C109/C101/C116/C104/C111/C100 /C111/C102 /C115/C111/C108/C117/C116/C105/C111/C110/C46\n",
      "/C65/C110/C100 /C116/C104/C105/C114/C100 /C116/C104/C101/C121 /C116/C101/C110/C100 /C116/C111 /C105/C110/C118/C111/C108/C118/C101 /C99/C111/C110/C99/C101/C112/C116/C117/C97/C108 /C105/C115/C115/C117/C101/C115/C46 /C70/C111/C114 /C116/C104/C101/C115/C101 /C114/C101/C97/C115/C111/C110/C115 /C97 /C112/C104/C105/C108/C111/C115/C111/C112/C104/C105/C99/C97/C108 /C112/C114/C111/C98/C108/C101/C109 /C115/C117/C99/C104 /C97/C115 /C116/C104/C101/C110/C97/C116/C117/C114/C101 /C111/C102 /C108/C105/C102/C101 /C99/C97/C110/C98/C101/C99/C111/C109/C101 /C97 /C115/C99/C105/C101/C110/C116/C105/C162/C99 /C112/C114/C111/C98/C108/C101/C109 /C105/C102 /C105/C116 /C105/C115 /C112/C117/C116 /C105/C110/C116/C111 /C97 /C115/C104/C97/C112/C101 /C119/C104/C101/C114/C101 /C105/C116 /C97/C100/C109/C105/C116/C115 /C111/C102 /C115/C99/C105/C101/C110/C116/C105/C162/C99 /C114/C101/C115/C111/C108/C117/C45/C116/C105/C111/C110/C46 /C80/C104/C105/C108/C111/C115/C111/C112/C104/C121 /C105/C110 /C116/C104/C101 /C50/C48/C116/C104 /C99/C101/C110/C116/C117/C114/C121 /C119/C97/C115 /C99/C104/C97/C114/C97/C99/C116/C101/C114/C105/C122/C101/C100 /C98/C121 /C97 /C99/C111/C110/C99/C101/C114/C110 /C119/C105/C116/C104 /C108/C111/C103/C105/C99 /C97/C110/C100 /C108/C97/C110/C103/C117/C97/C103/C101/C44 /C119/C104/C105/C99/C104 /C105/C115/C109/C97/C114/C107/C101/C100/C108/C121 /C100/C105/C161/C101/C114/C101/C110/C116 /C102/C114/C111/C109 /C116/C104/C101 /C99/C111/C110/C99/C101/C114/C110/C115 /C111/C102 /C101/C97/C114/C108/C105/C101/C114 /C99/C101/C110/C116/C117/C114/C105/C101/C115 /C111/C102 /C112/C104/C105/C108/C111/C115/C111/C112/C104/C121/C46 /C72/C111/C119/C101/C118/C101/C114/C44 /C105/C116 /C115/C104/C97/C114/C101/C100 /C119/C105/C116/C104 /C116/C104/C101/C69/C117/C114/C111/C112/C101/C97/C110 /C112/C104/C105/C108/C111/C115/C111/C112/C104/C105/C99/C97/C108/C116/C114/C97/C100/C105/C116/C105/C111/C110 /C115/C105/C110/C99/C101 /C116/C104/C101/C49/C55/C116/C104 /C99/C101/C110/C116/C117/C114/C121 /C97/C110 /C101/C120/C99/C101/C115/C115/C105/C118/C101 /C99/C111/C110/C99/C101/C114/C110/C119/C105/C116/C104 /C105/C115/C115/C117/C101/C115 /C105/C110/C116/C104/C101 /C116/C104/C101/C111/C114/C121 /C111/C102/C107/C110/C111/C119/C108/C101/C100/C103/C101/C97/C110/C100/C119/C105/C116/C104/C115/C99/C101/C112/C116/C105/C99/C105/C115/C109/C46/C65/C115/C116/C104/C101/C99/C101/C110/C116/C117/C114/C121/C101/C110/C100/C115/C44/C119/C101/C99/C97/C110/C115/C101/C101/C116/C104/C97/C116/C115/C99/C101/C112/C116/C105/C99/C105/C115/C109/C110/C111/C108/C111/C110/C103/C101/C114/C111/C99/C99/C117/C112/C105/C101/C115/C99/C101/C110/C116/C114/C101/C115/C116/C97/C103/C101/C44 /C97/C110/C100 /C116/C104/C105/C115 /C101/C110/C97/C98/C108/C101/C115 /C117/C115 /C116/C111 /C104/C97/C118/C101 /C97 /C109/C111/C114/C101 /C99/C111/C110/C115/C116/C114/C117/C99/C116/C105/C118/C101 /C97/C112/C112/C114/C111/C97/C99/C104 /C116/C111 /C112/C104/C105/C108/C111/C115/C111/C112/C104/C105/C99/C97/C108 /C112/C114/C111/C98/C108/C101/C109/C115 /C116/C104/C97/C110 /C119/C97/C115/C112/C111/C115/C115/C105/C98/C108/C101 /C102/C111/C114 /C101/C97/C114/C108/C105/C101/C114 /C103/C101/C110/C101/C114/C97/C116/C105/C111/C110/C115/C46 /C84/C104/C105/C115 /C115/C105/C116/C117/C97/C116/C105/C111/C110 /C105/C115 /C115/C111/C109/C101/C119/C104/C97/C116 /C97/C110/C97/C108/C111/C103/C111/C117/C115 /C116/C111 /C116/C104/C101 /C115/C104/C105/C102/C116 /C102/C114/C111/C109 /C116/C104/C101 /C115/C99/C101/C112/C116/C105/C99/C97/C108/C99/C111/C110/C99/C101/C114/C110/C115 /C111/C102 /C83/C111/C99/C114/C97/C116/C101/C115 /C97/C110/C100 /C80/C108/C97/C116/C111 /C116/C111 /C116/C104/C101 /C99/C111/C110/C115/C116/C114/C117/C99/C116/C105/C118/C101 /C112/C104/C105/C108/C111/C115/C111/C112/C104/C105/C99/C97/C108 /C101/C110/C116/C101/C114/C112/C114/C105/C115/C101 /C111/C102 /C65/C114/C105/C115/C116/C111/C116/C108/C101/C46 /C87/C105/C116/C104 /C116/C104/C97/C116 /C105/C110/C109/C105/C110/C100/C44 /C119/C101 /C99/C97/C110 /C100/C105/C115/C99/C117/C115/C115 /C116/C104/C101 /C112/C114/C111/C115/C112/C101/C99/C116/C115 /C102/C111/C114 /C116/C104/C101 /C102/C111/C108/C108/C111/C119/C105/C110/C103 /C115/C105/C120 /C112/C104/C105/C108/C111/C115/C111/C112/C104/C105/C99/C97/C108 /C97/C114/C101/C97/C115/C58 /C40/C105/C41 /C116/C104/C101 /C116/C114/C97/C100/C105/C116/C105/C111/C110/C97/C108 /C109/C105/C110/C100 /C94\n",
      "/C98/C111/C100/C121 /C112/C114/C111/C98/C108/C101/C109/C59 /C40/C105/C105/C41 /C116/C104/C101 /C112/C104/C105/C108/C111/C115/C111/C112/C104/C121 /C111/C102 /C109/C105/C110/C100 /C97/C110/C100 /C99/C111/C103/C110/C105/C116/C105/C118/C101 /C115/C99/C105/C101/C110/C99/C101/C59 /C40/C105/C105/C105/C41 /C116/C104/C101 /C112/C104/C105/C108/C111/C115/C111/C112/C104/C121 /C111/C102 /C108/C97/C110/C103/C117/C97/C103/C101/C59\n",
      "/C40/C105/C118/C41 /C116/C104/C101/C112/C104/C105/C108/C111/C115/C111/C112/C104/C121/C111/C102/C115/C111/C99/C105/C101/C116/C121/C59/C40/C118/C41/C101/C116/C104/C105/C99/C115/C97/C110/C100/C112/C114/C97/C99/C116/C105/C99/C97/C108/C114/C101/C97/C115/C111/C110/C59/C40/C118/C105/C41/C116/C104/C101/C112/C104/C105/C108/C111/C115/C111/C112/C104/C121/C111/C102/C115/C99/C105/C101/C110/C99/C101/C46\n",
      "/C84/C104/C101 /C103/C101/C110/C101/C114/C97/C108 /C116/C104/C101/C109/C101 /C111/C102 /C116/C104/C101/C115/C101 /C105/C110/C118/C101/C115/C116/C105/C103/C97/C116/C105/C111/C110/C115/C44 /C73 /C98/C101/C108/C105/C101/C118/C101/C44 /C105/C115 /C116/C104/C97/C116 /C116/C104/C101 /C97/C112/C112/C114/C97/C105/C115/C97/C108 /C111/C102 /C116/C104/C101 /C116/C114/C117/C101 /C115/C105/C103/C110/C105/C162/C99/C97/C110/C99/C101 /C111/C102\n",
      "/C105/C115/C115/C117/C101/C115 /C105/C110 /C116/C104/C101 /C112/C104/C105/C108/C111/C115/C111/C112/C104/C121 /C111/C102 /C107/C110/C111/C119/C108/C101/C100/C103/C101 /C101/C110/C97/C98/C108/C101/C115 /C117/C115 /C116/C111 /C104/C97/C118/C101 /C97 /C109/C111/C114/C101 /C99/C111/C110/C115/C116/C114/C117/C99/C116/C105/C118/C101 /C97/C99/C99/C111/C117/C110/C116 /C111/C102 /C118/C97/C114/C105/C111/C117/C115 /C111/C116/C104/C101/C114/C112/C104/C105/C108/C111/C115/C111/C112/C104/C105/C99/C97/C108/C112/C114/C111/C98/C108/C101/C109/C115/C116/C104/C97/C110/C104/C97/C115/C116/C121/C112/C105/C99/C97/C108/C108/C121/C98/C101/C101/C110/C112/C111/C115/C115/C105/C98/C108/C101/C102/C111/C114/C116/C104/C101/C112/C97/C115/C116/C116/C104/C114/C101/C101/C99/C101/C110/C116/C117/C114/C105/C101/C115/C46\n",
      "/C75/C101/C121/C119/C111/C114/C100/C115/C58 /C112/C104/C105/C108/C111/C115/C111/C112/C104/C121/C59/C115/C99/C105/C101/C110/C99/C101/C59/C109/C105/C110/C100 /C94/C98/C111/C100/C121/C112/C114/C111/C98/C108/C101/C109/C59/C99/C111/C103/C110/C105/C116/C105/C118/C101/C115/C99/C105/C101/C110/C99/C101/C59/C101/C112/C105/C115/C116/C101/C109/C111/C108/C111/C103/C121/C59/C101/C116/C104/C105/C99/C115\n",
      "/C49/C46 /C80/C72/C73/C76/C79/C83/C79/C80/C72/C89 /C65/C78/C68 /C83/C67/C73/C69/C78/C67/C69\n",
      "/C66/C101/C99/C97/C117/C115/C101/C116/C104/C105/C115 /C97/C114/C116/C105/C99/C108/C101 /C105/C115 /C105/C110/C116/C101/C110/C100/C101/C100/C102/C111/C114/C97/C112/C114/C101/C100/C111/C109/C105/C110/C97/C110/C116/C108/C121 /C115/C99/C105/C101/C110/C45\n",
      "/C116/C105/C162/C99 /C97/C117/C100/C105/C101/C110/C99/C101/C44 /C73 /C119/C105/C108/C108 /C98/C101/C103/C105/C110 /C98/C121 /C101/C120/C112/C108/C97/C105/C110/C105/C110/C103 /C115/C111/C109/C101 /C111/C102 /C116/C104/C101/C115/C105/C109/C105/C108/C97/C114/C105/C116/C105/C101/C115 /C97/C110/C100 /C100/C105/C161/C101/C114/C101/C110/C99/C101/C115 /C98/C101/C116/C119/C101/C101/C110 /C115/C99/C105/C101/C110/C99/C101 /C97/C110/C100 /C112/C104/C105/C108/C111/C45/C115/C111/C112/C104/C121/C46 /C84/C104/C101/C114/C101 /C105/C115 /C110/C111 /C115/C104/C97/C114/C112 /C100/C105/C118/C105/C100/C105/C110/C103 /C108/C105/C110/C101 /C98/C101/C116/C119/C101/C101/C110 /C116/C104/C101 /C116/C119/C111/C46/C66/C111/C116/C104/C44 /C105/C110 /C112/C114/C105/C110/C99/C105/C112/C108/C101/C44 /C97/C114/C101 /C117/C110/C105/C118/C101/C114/C115/C97/C108 /C105/C110 /C115/C117/C98/C106/C101/C99/C116 /C109/C97/C116/C116/C101/C114 /C97/C110/C100/C98/C111/C116/C104 /C97/C105/C109 /C97/C116 /C116/C104/C101/C116/C114/C117/C116/C104/C46 /C72/C111/C119/C101/C118/C101/C114/C44 /C116/C104/C111/C117/C103/C104/C116/C104/C101/C114/C101 /C105/C115 /C110/C111 /C115/C104/C97/C114/C112/C100/C105/C118/C105/C100/C105/C110/C103 /C108/C105/C110/C101/C44 /C116/C104/C101/C114/C101 /C97/C114/C101 /C105/C109/C112/C111/C114/C116/C97/C110/C116 /C100/C105/C161/C101/C114/C101/C110/C99/C101/C115 /C105/C110 /C109/C101/C116/C104/C111/C100/C44/C115/C116/C121/C108/C101 /C97/C110/C100 /C112/C114/C101/C115/C117/C112/C112/C111/C115/C105/C116/C105/C111/C110/C115/C46 /C80/C104/C105/C108/C111/C115/C111/C112/C104/C105/C99/C97/C108 /C112/C114/C111/C98/C108/C101/C109/C115 /C116/C101/C110/C100 /C116/C111/C104/C97/C118/C101 /C116/C104/C114/C101/C101 /C114/C101/C108/C97/C116/C101/C100 /C102/C101/C97/C116/C117/C114/C101/C115 /C116/C104/C97/C116 /C115/C99/C105/C101/C110/C116/C105/C162/C99 /C112/C114/C111/C98/C108/C101/C109/C115 /C100/C111 /C110/C111/C116/C104/C97/C118/C101/C46 /C70/C105/C114/C115/C116/C44 /C112/C104/C105/C108/C111/C115/C111/C112/C104/C121 /C105/C115 /C105/C110 /C108/C97/C114/C103/C101 /C112/C97/C114/C116 /C99/C111/C110/C99/C101/C114/C110/C101/C100 /C119/C105/C116/C104/C113/C117/C101/C115/C116/C105/C111/C110/C115 /C116/C104/C97/C116 /C119/C101 /C104/C97/C118/C101 /C110/C111/C116 /C121/C101/C116 /C102/C111/C117/C110/C100 /C97 /C115/C97/C116/C105/C115/C102/C97/C99/C116/C111/C114/C121 /C97/C110/C100/C115/C121/C115/C116/C101/C109/C97/C116/C105/C99/C119/C97/C121/C116/C111/C97/C110/C115/C119/C101/C114/C46 /C83/C101/C99/C111/C110/C100/C44/C112/C104/C105/C108/C111/C115/C111/C112/C104/C105/C99/C97/C108/C113/C117/C101/C115/C116/C105/C111/C110/C115\n",
      "/C116/C101/C110/C100 /C116/C111 /C98/C101 /C119/C104/C97/C116 /C73 /C119/C105/C108/C108 /C99/C97/C108/C108/C96/C102/C114/C97/C109/C101/C119/C111/C114/C107/C39/C113/C117/C101/C115/C116/C105/C111/C110/C115/C59 /C116/C104/C97/C116 /C105/C115/C44\n",
      "/C116/C104/C101/C121 /C116/C101/C110/C100 /C116/C111 /C100/C101/C97/C108 /C119/C105/C116/C104 /C108/C97/C114/C103/C101 /C102/C114/C97/C109/C101/C119/C111/C114/C107/C115 /C111/C102 /C112/C104/C101/C110/C111/C109/C101/C110/C97/C44/C114/C97/C116/C104/C101/C114 /C116/C104/C97/C110 /C119/C105/C116/C104 /C115/C112/C101/C99/C105/C162/C99 /C105/C110/C100/C105/C118/C105/C100/C117/C97/C108 /C113/C117/C101/C115/C116/C105/C111/C110/C115/C46 /C65/C110/C100 /C116/C104/C105/C114/C100/C44/C112/C104/C105/C108/C111/C115/C111/C112/C104/C105/C99/C97/C108 /C113/C117/C101/C115/C116/C105/C111/C110/C115 /C97/C114/C101 /C116/C121/C112/C105/C99/C97/C108/C108/C121 /C97/C98/C111/C117/C116 /C99/C111/C110/C99/C101/C112/C116/C117/C97/C108/C105/C115/C115/C117/C101/C115/C59 /C116/C104/C101/C121 /C97/C114/C101 /C111/C102/C116/C101/C110 /C113/C117/C101/C115/C116/C105/C111/C110/C115 /C97/C98/C111/C117/C116 /C111/C117/C114 /C99/C111/C110/C99/C101/C112/C116/C115 /C97/C110/C100/C116/C104/C101 /C114/C101/C108/C97/C116/C105/C111/C110/C115/C104/C105/C112/C98/C101/C116/C119/C101/C101/C110 /C111/C117/C114 /C99/C111/C110/C99/C101/C112/C116/C115 /C97/C110/C100/C116/C104/C101 /C119/C111/C114/C108/C100/C116/C104/C101/C121/C114/C101/C112/C114/C101/C115/C101/C110/C116/C46\n",
      "/C84/C104/C101/C115/C101 /C100/C105/C161/C101/C114/C101/C110/C99/C101/C115 /C119/C105/C108/C108 /C98/C101/C99/C111/C109/C101 /C99/C108/C101/C97/C114/C101/C114 /C105/C102 /C119/C101 /C99/C111/C110/C115/C105/C100/C101/C114\n",
      "/C97/C99/C116/C117/C97/C108 /C101/C120/C97/C109/C112/C108/C101/C115/C46 /C84/C104/C101 /C113/C117/C101/C115/C116/C105/C111/C110 /C96/C87/C104/C97/C116 /C105/C115 /C116/C104/C101 /C99/C97/C117/C115/C101 /C111/C102/C99/C97/C110/C99/C101/C114/C63/C39 /C105/C115 /C97 /C115/C99/C105/C101/C110/C116/C105/C162/C99 /C97/C110/C100 /C110/C111/C116 /C97 /C112/C104/C105/C108/C111/C115/C111/C112/C104/C105/C99/C97/C108 /C113/C117/C101/C115/C116/C105/C111/C110/C46/C84/C104/C101/C113/C117/C101/C115/C116/C105/C111/C110/C96/C87/C104/C97/C116/C105/C115/C116/C104/C101/C110/C97/C116/C117/C114/C101/C111/C102/C99/C97/C117/C115/C97/C116/C105/C111/C110/C63/C39/C105/C115/C97/C112/C104/C105/C108/C111/C45\n",
      "/C115/C111/C112/C104/C105/C99/C97/C108 /C97/C110/C100 /C110/C111/C116 /C97 /C115/C99/C105/C101/C110/C116/C105/C162/C99 /C113/C117/C101/C115/C116/C105/C111/C110/C46 /C83/C105/C109/C105/C108/C97/C114/C108/C121 /C116/C104/C101 /C113/C117/C101/C115/C45\n",
      "/C116/C105/C111/C110 /C96/C72/C111/C119 /C109/C97/C110/C121 /C110/C101/C117/C114/C111/C116/C114/C97/C110/C115/C109/C105/C116/C116/C101/C114/C115 /C97/C114/C101 /C116/C104/C101/C114/C101/C63/C39 /C105/C115 /C97/C115/C99/C105/C101/C110/C116/C105/C162/C99 /C97/C110/C100 /C110/C111/C116 /C97 /C112/C104/C105/C108/C111/C115/C111/C112/C104/C105/C99/C97/C108 /C113/C117/C101/C115/C116/C105/C111/C110/C59 /C98/C117/C116 /C116/C104/C101 /C113/C117/C101/C115/C45/C116/C105/C111/C110/C96/C87/C104/C97/C116/C105/C115/C116/C104/C101/C114/C101/C108/C97/C116/C105/C111/C110/C115/C104/C105/C112/C98/C101/C116/C119/C101/C101/C110 /C109/C105/C110/C100/C97/C110/C100/C98/C111/C100/C121/C63/C39/C105/C115/C115/C116/C105/C108/C108/C44 /C105/C110 /C108/C97/C114/C103/C101 /C112/C97/C114/C116/C44 /C97 /C112/C104/C105/C108/C111/C115/C111/C112/C104/C105/C99/C97/C108 /C113/C117/C101/C115/C116/C105/C111/C110/C46 /C73/C110 /C101/C97/C99/C104 /C99/C97/C115/C101/C116/C104/C101 /C112/C104/C105/C108/C111/C115/C111/C112/C104/C105/C99/C97/C108 /C113/C117/C101/C115/C116/C105/C111/C110/C115 /C99/C97/C110/C110/C111/C116 /C98/C101 /C115/C101/C116/C116/C108/C101/C100 /C98/C121 /C116/C104/C101\n",
      "/C115/C105/C109/C112/C108/C101/C97/C112/C112/C108/C105/C99/C97/C116/C105/C111/C110/C111/C102/C101/C105/C116/C104/C101/C114/C101/C120/C112/C101/C114/C105/C109/C101/C110/C116/C97/C108/C111/C114/C109/C97/C116/C104/C101/C109/C97/C116/C105/C99/C97/C108\n",
      "/C109/C101/C116/C104/C111/C100/C115/C44 /C116/C104/C101/C121 /C97/C114/C101 /C97/C98/C111/C117/C116 /C108/C97/C114/C103/C101 /C102/C114/C97/C109/C101/C119/C111/C114/C107/C115 /C97/C110/C100 /C116/C104/C101/C121\n",
      "/C105/C110/C118/C111/C108/C118/C101 /C99/C111/C110/C99/C101/C112/C116/C117/C97/C108 /C105/C115/C115/C117/C101/C115/C46 /C83/C111/C109/C101/C116/C105/C109/C101/C115 /C109/C97/C106/C111/C114 /C115/C99/C105/C101/C110/C116/C105/C162/C99/C97/C100/C118/C97/C110/C99/C101/C115/C97/C114/C101/C99/C111/C110/C116/C114/C105/C98/C117/C116/C105/C111/C110/C115/C116/C111/C98/C111/C116/C104/C115/C99/C105/C101/C110/C99/C101/C97/C110/C100/C112/C104/C105/C108/C111/C115/C111/C112/C104/C121/C98/C101/C99/C97/C117/C115/C101 /C116/C104/C101/C121 /C105/C110/C118/C111/C108/C118/C101 /C99/C104/C97/C110/C103/C101/C115 /C105/C110 /C102/C114/C97/C109/C101/C119/C111/C114/C107/C115 /C97/C110/C100 /C114/C101/C118/C105/C115/C105/C111/C110/C111/C102 /C99/C111/C110/C99/C101/C112/C116/C115/C46 /C69/C105/C110/C115/C116/C101/C105/C110/C39/C115 /C114/C101/C108/C97/C116/C105/C118/C105/C116/C121 /C116/C104/C101/C111/C114/C121 /C105/C115 /C97/C110 /C111/C98/C118/C105/C111/C117/C115/C50/C48/C116/C104/C45/C99/C101/C110/C116/C117/C114/C121/C101/C120/C97/C109/C112/C108/C101/C46\n",
      "/C66/C101/C99/C97/C117/C115/C101 /C112/C104/C105/C108/C111/C115/C111/C112/C104/C121 /C100/C101/C97/C108/C115 /C119/C105/C116/C104 /C102/C114/C97/C109/C101/C119/C111/C114/C107 /C113/C117/C101/C115/C116/C105/C111/C110/C115\n",
      "/C97/C110/C100 /C119/C105/C116/C104 /C113/C117/C101/C115/C116/C105/C111/C110/C115 /C116/C104/C97/C116 /C119/C101 /C100/C111 /C110/C111/C116 /C107/C110/C111/C119 /C104/C111/C119 /C116/C111 /C97/C110/C115/C119/C101/C114/C115/C121/C115/C116/C101/C109/C97/C116/C105/C99/C97/C108/C108/C121/C44 /C105/C116 /C116/C101/C110/C100/C115 /C116/C111 /C115/C116/C97/C110/C100 /C105/C110 /C97 /C112/C101/C99/C117/C108/C105/C97/C114 /C114/C101/C108/C97/C116/C105/C111/C110/C115/C104/C105/C112/C116/C111 /C116/C104/C101 /C110/C97/C116/C117/C114/C97/C108 /C115/C99/C105/C101/C110/C99/C101/C115/C46 /C65/C115 /C115/C111/C111/C110 /C97/C115 /C119/C101 /C99/C97/C110 /C114/C101/C118/C105/C115/C101 /C97/C110/C100/C102/C111/C114/C109/C117/C108/C97/C116/C101 /C97 /C112/C104/C105/C108/C111/C115/C111/C112/C104/C105/C99/C97/C108 /C113/C117/C101/C115/C116/C105/C111/C110 /C116/C111 /C116/C104/C101 /C112/C111/C105/C110/C116 /C116/C104/C97/C116 /C119/C101/C99/C97/C110 /C162/C110/C100 /C97 /C115/C121/C115/C116/C101/C109/C97/C116/C105/C99 /C119/C97/C121 /C116/C111 /C97/C110/C115/C119/C101/C114 /C105/C116/C44 /C105/C116 /C99/C101/C97/C115/C101/C115 /C116/C111 /C98/C101\n",
      "/C112/C104/C105/C108/C111/C115/C111/C112/C104/C105/C99/C97/C108 /C97/C110/C100 /C98/C101/C99/C111/C109/C101/C115 /C115/C99/C105/C101/C110/C116/C105/C162/C99/C46 /C83/C111/C109/C101/C116/C104/C105/C110/C103 /C118/C101/C114/C121\n",
      "/C109/C117/C99/C104 /C108/C105/C107/C101 /C116/C104/C105/C115 /C104/C97/C112/C112/C101/C110/C101/C100 /C116/C111 /C116/C104/C101 /C112/C114/C111/C98/C108/C101/C109 /C111/C102 /C108/C105/C102/C101/C46 /C73/C116 /C119/C97/C115/C111/C110/C99/C101 /C99/C111/C110/C115/C105/C100/C101/C114/C101/C100 /C97 /C112/C104/C105/C108/C111/C115/C111/C112/C104/C105/C99/C97/C108 /C112/C114/C111/C98/C108/C101/C109 /C104/C111/C119 /C96/C105/C110/C101/C114/C116/C39/C109/C97/C116/C116/C101/C114 /C99/C111/C117/C108/C100 /C98/C101/C99/C111/C109/C101 /C96/C97/C108/C105/C118/C101/C39/C46 /C65/C115 /C119/C101 /C99/C97/C109/C101 /C116/C111 /C117/C110/C100/C101/C114/C115/C116/C97/C110/C100/C116/C104/C101/C109/C111/C108/C101/C99/C117/C108/C97/C114/C98/C105/C111/C108/C111/C103/C105/C99/C97/C108/C109/C101/C99/C104/C97/C110/C105/C115/C109/C115/C111/C102/C108/C105/C102/C101/C44/C116/C104/C105/C115/C99/C101/C97/C115/C101/C100/C116/C111/C98/C101/C97/C112/C104/C105/C108/C111/C115/C111/C112/C104/C105/C99/C97/C108/C113/C117/C101/C115/C116/C105/C111/C110/C97/C110/C100/C98/C101/C99/C97/C109/C101/C97/C109/C97/C116/C116/C101/C114/C111/C102 /C101/C115/C116/C97/C98/C45/C108/C105/C115/C104/C101/C100 /C115/C99/C105/C101/C110/C116/C105/C162/C99 /C102/C97/C99/C116/C46 /C73/C116 /C105/C115 /C104/C97/C114/C100 /C102/C111/C114 /C117/C115 /C116/C111/C100/C97/C121 /C116/C111 /C114/C101/C99/C111/C118/C101/C114 /C116/C104/C101/C105/C110/C116/C101/C110/C115/C105/C116/C121 /C119/C105/C116/C104 /C119/C104/C105/C99/C104 /C116/C104/C105/C115 /C105/C115/C115/C117/C101 /C119/C97/C115 /C111/C110/C99/C101 /C100/C101/C98/C97/C116/C101/C100/C46 /C84/C104/C101/C112/C111/C105/C110/C116 /C105/C115 /C110/C111/C116 /C115/C111 /C109/C117/C99/C104 /C116/C104/C97/C116 /C116/C104/C101 /C109/C101/C99/C104/C97/C110/C105/C115/C116/C115 /C119/C111/C110 /C97/C110/C100 /C116/C104/C101/C118/C105/C116/C97/C108/C105/C115/C116/C115 /C108/C111/C115/C116/C44 /C98/C117/C116 /C116/C104/C97/C116 /C119/C101 /C99/C97/C109/C101 /C116/C111 /C104/C97/C118/C101 /C97 /C109/C117/C99/C104 /C114/C105/C99/C104/C101/C114/C99/C111/C110/C99/C101/C112/C116 /C111/C102 /C116/C104/C101 /C98/C105/C111/C108/C111/C103/C105/C99/C97/C108 /C109/C101/C99/C104/C97/C110/C105/C115/C109/C115 /C111/C102 /C108/C105/C102/C101 /C97/C110/C100 /C104/C101/C114/C101/C100/C105/C116/C121/C46\n",
      "/C73 /C104/C111/C112/C101 /C97 /C115/C105/C109/C105/C108/C97/C114 /C116/C104/C105/C110/C103 /C119/C105/C108/C108 /C104/C97/C112/C112/C101/C110 /C116/C111 /C116/C104/C101 /C112/C114/C111/C98/C108/C101/C109 /C111/C102\n",
      "/C99/C111/C110/C115/C99/C105/C111/C117/C115/C110/C101/C115/C115 /C97/C110/C100 /C105/C116/C115 /C114/C101/C108/C97/C116/C105/C111/C110 /C116/C111 /C98/C114/C97/C105/C110 /C112/C114/C111/C99/C101/C115/C115/C101/C115/C46 /C65/C115 /C73/C119/C114/C105/C116/C101 /C116/C104/C105/C115 /C105/C116 /C105/C115 /C115/C116/C105/C108/C108 /C114/C101/C103/C97/C114/C100/C101/C100 /C98/C121 /C109/C97/C110/C121 /C97/C115 /C97 /C112/C104/C105/C108/C111/C115/C111/C45/C112/C104/C105/C99/C97/C108 /C113/C117/C101/C115/C116/C105/C111/C110/C44 /C98/C117/C116 /C73 /C98/C101/C108/C105/C101/C118/C101 /C119/C105/C116/C104 /C114/C101/C99/C101/C110/C116 /C112/C114/C111/C103/C114/C101/C115/C115 /C105/C110/C110/C101/C117/C114/C111/C98/C105/C111/C108/C111/C103/C121 /C97/C110/C100 /C119/C105/C116/C104 /C97 /C112/C104/C105/C108/C111/C115/C111/C112/C104/C105/C99/C97/C108 /C99/C114/C105/C116/C105/C113/C117/C101 /C111/C102 /C116/C104/C101\n",
      "/C80/C104/C105/C108/C46/C84/C114/C97/C110/C115/C46/C82/C46/C83/C111/C99/C46/C76/C111/C110/C100/C46 /C66/C40 /C49 /C57 /C57 /C57 /C41 /C51/C53/C52/C44/C50 /C48/C54 /C57 /C94 /C50 /C48 /C56/C48 /C50/C48/C54/C57 /C38/C49/C57/C57/C57 /C84/C104/C101 /C82/C111/C121/C97/C108 /C83/C111/C99/C105/C101/C116/C121\n",
      " Downloaded from https://royalsocietypublishing.org/ on 11 December 2023 \n",
      "\n"
     ]
    }
   ],
   "source": [
    "pdf_filepath = '/home/patricia/code/ChristineSi/neuroCraft/raw_data/The future of philosophy _ John R. Searle-1.pdf'\n",
    "extracted_text = extract_text_from_pdf(pdf_filepath)\n",
    "print(extracted_text)"
   ]
  },
  {
   "cell_type": "code",
   "execution_count": 5,
   "metadata": {},
   "outputs": [],
   "source": [
    "# Extract text from the PDF\n",
    "pdf_filepath = '../raw_data/Acoustic and Auditory Phonetics-1.pdf'\n",
    "pdf_text = extract_text_from_pdf(pdf_filepath)"
   ]
  },
  {
   "cell_type": "code",
   "execution_count": 6,
   "metadata": {},
   "outputs": [],
   "source": [
    "def chunk_text(text, max_chunk_size=200):\n",
    "    \"\"\"\n",
    "    Split a long excerpt into chunks of a specified size while preserving sentence boundaries.\n",
    "\n",
    "    Args:\n",
    "    - text (str): Input text.\n",
    "    - max_chunk_size (int): Maximum number of words in each chunk.\n",
    "\n",
    "    Returns:\n",
    "    - list: List of text chunks.\n",
    "    \"\"\"\n",
    "    words = text.split()\n",
    "    chunks = []\n",
    "    current_chunk = \"\"\n",
    "\n",
    "    for word in words:\n",
    "        # Check if adding the current word exceeds the max_chunk_size\n",
    "        if len(current_chunk.split()) + len(word.split()) <= max_chunk_size:\n",
    "            current_chunk += ' ' + word\n",
    "        else:\n",
    "            # Add the current chunk to the list\n",
    "            chunks.append(current_chunk.strip())\n",
    "            current_chunk = word\n",
    "\n",
    "    # Add the last chunk\n",
    "    chunks.append(current_chunk.strip())\n",
    "\n",
    "    return chunks\n"
   ]
  },
  {
   "cell_type": "code",
   "execution_count": 7,
   "metadata": {},
   "outputs": [
    {
     "name": "stdout",
     "output_type": "stream",
     "text": [
      "Chunk 1: Keith Johnson Acoustic and Auditory Phonetics; 2nd ed. Blackwell, Oxford 2003 192 pp.; £ 17.99 ISBN 1–405–10123–7 This volume is a revised and expanded (second) edition of a textbook first publishedin 1997. Already the successful first editionreceived high praise and it seems to be a some-what unrewarding task to (re-)review a bookthat has been labelled as ‘(...) well-thought-out textbook (...) invaluable for students whowant to know more than the basic elementsof acoustic phonetics’ (P. Ladefoged), ‘the bestphonetics textbook I’ve ever used’ (J. Pierre-humbert), and ‘an excellent phonetics text forstudents of linguistic phonetics and speechscience’ (C.A. Fowler) [all citations takenfrom the back cover of the book]. However,this second edition contains a new chapter onspeech perception and additional sectionson digital filtering and cross-linguistic voweland consonant perception. Thus, the presentreview sets out to give a brief sketch of thebook’s contents and its didactical techniqueswith special attention to the newly addedtopics. Written for students in linguistic phonet- ics, in speech and hearing science, as wellas in branches of electrical engineering andcognitive psychology dealing with speech,the book offers a nontechnical introductionto the acoustic theory of speech production,to acoustic properties of major classes ofspeech sounds, and to the auditory represen-tation and perception of speech. These topicsare\n",
      "Chunk 2: conveyed in a lucid, sometimes almostcolloquial style, which reflects the author’steaching experience and his awareness of thestudents’ difficulties in grasping abstract con-cepts of acoustic and perceptual phonetics.The great didactic value of the textbook underreview is enhanced by a lot of grey-shadowedboxes dealing with ‘semi-related stuff’ (asthe author puts it). These semi-related stuff boxes informally address digressive questionsof students, ranging from underwater speechto the aerodynamics of freeways, connectingacoustic terms and perceptual phenomena toeveryday experience. One can highly agreewith the author ‘that some of the most interest-ing stuff in the book is in the boxes’ (p. 2). Before going to the description and dis- cussion of the various chapters there are twogeneral positive remarks to be made whichapply to the textbook as a whole. First, theauthor does not only deal with acoustic andauditory phonetics in different chapters, he also successfully combines these two aspectsof speech sounds throughout the book, thusdemonstrating that the linguistic significanceof speech acoustics greatly depends on theauditory systems of human beings. Second,despite the highly technical foundation ofacoustics the author refrains from introducingtoo many formulas although ‘the really inter-esting part of acoustic phonetics starts whenyou get out a calculator’ (p. 2). Even in dis-cussing several analysis techniques of digitalsound processing\n",
      "Chunk 3: (p. 28ff.) he succeeds inreducing mathematics to practical instructionswithout loss of (phonetically relevant) infor-mation. The volume under review is subdivided into nine chapters, followed by references(pp. 168–173), answers to selected short-answer questions (pp. 174–178) and an index(pp. 179–182). Each chapter is completed byexercises, consisting of a paragraph of ‘suffi-cient jargon’ (i.e. a list of technical terms dealtwith in the preceding text) and of a series ofshort-answer questions. Unfortunately, not allof these questions are answered in the appen-dix mentioned above. Otherwise the exercisescould have met the requirements of a text-book for an autodidactic study of the field.By the way, there is a typographical error inthe answer section concerning the formula forantiformant frequency (p. 178); the numeratorof the formula should read ‘(2 ×1 – 1)c’ 56Libri DOI: 10.1159/000078663\n"
     ]
    }
   ],
   "source": [
    "# Check if text extraction was successful\n",
    "if pdf_text is not None:\n",
    "    # Pass the extracted text through the chunk_text function\n",
    "    text_chunks = chunk_text(pdf_text)\n",
    "\n",
    "    # Print the first few chunks as an example\n",
    "    for i, chunk in enumerate(text_chunks[:5]):\n",
    "        print(f\"Chunk {i + 1}: {chunk}\")\n",
    "else:\n",
    "    print(\"Text extraction from the PDF failed.\")"
   ]
  },
  {
   "cell_type": "markdown",
   "metadata": {},
   "source": [
    "GOOD CHUNK TEXT"
   ]
  },
  {
   "cell_type": "code",
   "execution_count": 8,
   "metadata": {},
   "outputs": [],
   "source": [
    "def chunk_text(text, max_chunk_size=200):\n",
    "    \"\"\"\n",
    "    Split a long excerpt into chunks of a specified size while preserving sentence boundaries.\n",
    "\n",
    "    Args:\n",
    "    - text (str): Input text.\n",
    "    - max_chunk_size (int): Maximum number of words in each chunk.\n",
    "\n",
    "    Returns:\n",
    "    - list: List of text chunks.\n",
    "    \"\"\"\n",
    "    words = text.split()\n",
    "    chunks = []\n",
    "    current_chunk = \"\"\n",
    "\n",
    "    for word in words:\n",
    "        # Check if adding the current word exceeds the max_chunk_size\n",
    "        if len(current_chunk.split()) + len(word.split()) <= max_chunk_size:\n",
    "            current_chunk += ' ' + word\n",
    "        else:\n",
    "            # Check if the last character in the current_chunk is a sentence-ending punctuation\n",
    "            if current_chunk[-1] in ['.', '!', '?']:\n",
    "                chunks.append(current_chunk.strip())\n",
    "                current_chunk = word\n",
    "            else:\n",
    "                # If not, find the last sentence-ending punctuation and create a new chunk\n",
    "                last_sentence_end = max(current_chunk.rfind('.'), current_chunk.rfind('!'), current_chunk.rfind('?'))\n",
    "                if last_sentence_end != -1:\n",
    "                    chunks.append(current_chunk[:last_sentence_end + 1].strip())\n",
    "                    current_chunk = current_chunk[last_sentence_end + 1:] + ' ' + word\n",
    "                else:\n",
    "                    chunks.append(current_chunk.strip())\n",
    "                    current_chunk = word\n",
    "\n",
    "    # Add the last chunk\n",
    "    chunks.append(current_chunk.strip())\n",
    "\n",
    "    return chunks"
   ]
  },
  {
   "cell_type": "code",
   "execution_count": 9,
   "metadata": {},
   "outputs": [
    {
     "name": "stdout",
     "output_type": "stream",
     "text": [
      "Chunk 1: Keith Johnson Acoustic and Auditory Phonetics; 2nd ed. Blackwell, Oxford 2003 192 pp.; £ 17.99 ISBN 1–405–10123–7 This volume is a revised and expanded (second) edition of a textbook first publishedin 1997. Already the successful first editionreceived high praise and it seems to be a some-what unrewarding task to (re-)review a bookthat has been labelled as ‘(...) well-thought-out textbook (...) invaluable for students whowant to know more than the basic elementsof acoustic phonetics’ (P. Ladefoged), ‘the bestphonetics textbook I’ve ever used’ (J. Pierre-humbert), and ‘an excellent phonetics text forstudents of linguistic phonetics and speechscience’ (C.A. Fowler) [all citations takenfrom the back cover of the book]. However,this second edition contains a new chapter onspeech perception and additional sectionson digital filtering and cross-linguistic voweland consonant perception. Thus, the presentreview sets out to give a brief sketch of thebook’s contents and its didactical techniqueswith special attention to the newly addedtopics. Written for students in linguistic phonet- ics, in speech and hearing science, as wellas in branches of electrical engineering andcognitive psychology dealing with speech,the book offers a nontechnical introductionto the acoustic theory of speech production,to acoustic properties of major classes ofspeech sounds, and to the auditory represen-tation and perception of speech.\n",
      "Chunk 2: These topicsare conveyed in a lucid, sometimes almostcolloquial style, which reflects the author’steaching experience and his awareness of thestudents’ difficulties in grasping abstract con-cepts of acoustic and perceptual phonetics.The great didactic value of the textbook underreview is enhanced by a lot of grey-shadowedboxes dealing with ‘semi-related stuff’ (asthe author puts it). These semi-related stuff boxes informally address digressive questionsof students, ranging from underwater speechto the aerodynamics of freeways, connectingacoustic terms and perceptual phenomena toeveryday experience. One can highly agreewith the author ‘that some of the most interest-ing stuff in the book is in the boxes’ (p. 2). Before going to the description and dis- cussion of the various chapters there are twogeneral positive remarks to be made whichapply to the textbook as a whole. First, theauthor does not only deal with acoustic andauditory phonetics in different chapters, he also successfully combines these two aspectsof speech sounds throughout the book, thusdemonstrating that the linguistic significanceof speech acoustics greatly depends on theauditory systems of human beings. Second,despite the highly technical foundation ofacoustics the author refrains from introducingtoo many formulas although ‘the really inter-esting part of acoustic phonetics starts whenyou get out a calculator’ (p. 2).\n",
      "Chunk 3: Even in dis-cussing several analysis techniques of digitalsound processing (p. 28ff.) he succeeds inreducing mathematics to practical instructionswithout loss of (phonetically relevant) infor-mation. The volume under review is subdivided into nine chapters, followed by references(pp. 168–173), answers to selected short-answer questions (pp. 174–178) and an index(pp. 179–182). Each chapter is completed byexercises, consisting of a paragraph of ‘suffi-cient jargon’ (i.e. a list of technical terms dealtwith in the preceding text) and of a series ofshort-answer questions. Unfortunately, not allof these questions are answered in the appen-dix mentioned above. Otherwise the exercisescould have met the requirements of a text-book for an autodidactic study of the field.By the way, there is a typographical error inthe answer section concerning the formula forantiformant frequency (p. 178); the numeratorof the formula should read ‘(2 ×1 – 1)c’ 56Libri DOI: 10.1159/000078663\n"
     ]
    }
   ],
   "source": [
    "# Check if text extraction was successful\n",
    "if pdf_text is not None:\n",
    "    # Pass the extracted text through the chunk_text function\n",
    "    text_chunks = chunk_text(pdf_text)\n",
    "\n",
    "    # Print the first few chunks as an example\n",
    "    for i, chunk in enumerate(text_chunks[:5]):\n",
    "        print(f\"Chunk {i + 1}: {chunk}\")\n",
    "else:\n",
    "    print(\"Text extraction from the PDF failed.\")"
   ]
  },
  {
   "cell_type": "code",
   "execution_count": 10,
   "metadata": {},
   "outputs": [
    {
     "name": "stdout",
     "output_type": "stream",
     "text": [
      "Chunk 1 has 198 words.\n",
      "Chunk 2 has 193 words.\n",
      "Chunk 3 has 135 words.\n",
      "\n",
      "Chunk 1:\n",
      "Keith Johnson Acoustic and Auditory Phonetics; 2nd ed. Blackwell, Oxford 2003 192 pp.; £ 17.99 ISBN 1–405–10123–7 This volume is a revised and expanded (second) edition of a textbook first publishedin 1997. Already the successful first editionreceived high praise and it seems to be a some-what unrewarding task to (re-)review a bookthat has been labelled as ‘(...) well-thought-out textbook (...) invaluable for students whowant to know more than the basic elementsof acoustic phonetics’ (P. Ladefoged), ‘the bestphonetics textbook I’ve ever used’ (J. Pierre-humbert), and ‘an excellent phonetics text forstudents of linguistic phonetics and speechscience’ (C.A. Fowler) [all citations takenfrom the back cover of the book]. However,this second edition contains a new chapter onspeech perception and additional sectionson digital filtering and cross-linguistic voweland consonant perception. Thus, the presentreview sets out to give a brief sketch of thebook’s contents and its didactical techniqueswith special attention to the newly addedtopics. Written for students in linguistic phonet- ics, in speech and hearing science, as wellas in branches of electrical engineering andcognitive psychology dealing with speech,the book offers a nontechnical introductionto the acoustic theory of speech production,to acoustic properties of major classes ofspeech sounds, and to the auditory represen-tation and perception of speech.\n",
      "\n",
      "Chunk 2:\n",
      "These topicsare conveyed in a lucid, sometimes almostcolloquial style, which reflects the author’steaching experience and his awareness of thestudents’ difficulties in grasping abstract con-cepts of acoustic and perceptual phonetics.The great didactic value of the textbook underreview is enhanced by a lot of grey-shadowedboxes dealing with ‘semi-related stuff’ (asthe author puts it). These semi-related stuff boxes informally address digressive questionsof students, ranging from underwater speechto the aerodynamics of freeways, connectingacoustic terms and perceptual phenomena toeveryday experience. One can highly agreewith the author ‘that some of the most interest-ing stuff in the book is in the boxes’ (p. 2). Before going to the description and dis- cussion of the various chapters there are twogeneral positive remarks to be made whichapply to the textbook as a whole. First, theauthor does not only deal with acoustic andauditory phonetics in different chapters, he also successfully combines these two aspectsof speech sounds throughout the book, thusdemonstrating that the linguistic significanceof speech acoustics greatly depends on theauditory systems of human beings. Second,despite the highly technical foundation ofacoustics the author refrains from introducingtoo many formulas although ‘the really inter-esting part of acoustic phonetics starts whenyou get out a calculator’ (p. 2).\n",
      "\n",
      "Chunk 3:\n",
      "Even in dis-cussing several analysis techniques of digitalsound processing (p. 28ff.) he succeeds inreducing mathematics to practical instructionswithout loss of (phonetically relevant) infor-mation. The volume under review is subdivided into nine chapters, followed by references(pp. 168–173), answers to selected short-answer questions (pp. 174–178) and an index(pp. 179–182). Each chapter is completed byexercises, consisting of a paragraph of ‘suffi-cient jargon’ (i.e. a list of technical terms dealtwith in the preceding text) and of a series ofshort-answer questions. Unfortunately, not allof these questions are answered in the appen-dix mentioned above. Otherwise the exercisescould have met the requirements of a text-book for an autodidactic study of the field.By the way, there is a typographical error inthe answer section concerning the formula forantiformant frequency (p. 178); the numeratorof the formula should read ‘(2 ×1 – 1)c’ 56Libri DOI: 10.1159/000078663\n"
     ]
    }
   ],
   "source": [
    "# Extract text from the PDF\n",
    "pdf_filepath = '../raw_data/Acoustic and Auditory Phonetics-1.pdf'\n",
    "pdf_text = extract_text_from_pdf(pdf_filepath)\n",
    "\n",
    "# Check if text extraction was successful\n",
    "if pdf_text is not None:\n",
    "    # Pass the extracted text through the chunk_text function\n",
    "    text_chunks = chunk_text(pdf_text)\n",
    "\n",
    "    # Print the word count for each chunk\n",
    "    for i, chunk in enumerate(text_chunks):\n",
    "        word_count = len(chunk.split())\n",
    "        print(f\"Chunk {i + 1} has {word_count} words.\")\n",
    "\n",
    "    # Print the first few chunks as an example\n",
    "    for i, chunk in enumerate(text_chunks[:5]):\n",
    "        print(f\"\\nChunk {i + 1}:\\n{chunk}\")\n",
    "else:\n",
    "    print(\"Text extraction from the PDF failed.\")"
   ]
  },
  {
   "cell_type": "code",
   "execution_count": 11,
   "metadata": {},
   "outputs": [
    {
     "name": "stderr",
     "output_type": "stream",
     "text": [
      "2023-12-13 12:24:28.079653: E external/local_xla/xla/stream_executor/cuda/cuda_dnn.cc:9261] Unable to register cuDNN factory: Attempting to register factory for plugin cuDNN when one has already been registered\n",
      "2023-12-13 12:24:28.079722: E external/local_xla/xla/stream_executor/cuda/cuda_fft.cc:607] Unable to register cuFFT factory: Attempting to register factory for plugin cuFFT when one has already been registered\n",
      "2023-12-13 12:24:28.081351: E external/local_xla/xla/stream_executor/cuda/cuda_blas.cc:1515] Unable to register cuBLAS factory: Attempting to register factory for plugin cuBLAS when one has already been registered\n",
      "2023-12-13 12:24:28.090959: I tensorflow/core/platform/cpu_feature_guard.cc:182] This TensorFlow binary is optimized to use available CPU instructions in performance-critical operations.\n",
      "To enable the following instructions: AVX2 FMA, in other operations, rebuild TensorFlow with the appropriate compiler flags.\n",
      "2023-12-13 12:24:29.269350: W tensorflow/compiler/tf2tensorrt/utils/py_utils.cc:38] TF-TRT Warning: Could not find TensorRT\n"
     ]
    },
    {
     "ename": "ModuleNotFoundError",
     "evalue": "No module named 'neurocraft.backend'",
     "output_type": "error",
     "traceback": [
      "\u001b[0;31m---------------------------------------------------------------------------\u001b[0m",
      "\u001b[0;31mModuleNotFoundError\u001b[0m                       Traceback (most recent call last)",
      "Cell \u001b[0;32mIn[11], line 3\u001b[0m\n\u001b[1;32m      1\u001b[0m \u001b[38;5;28;01mimport\u001b[39;00m \u001b[38;5;21;01msys\u001b[39;00m\n\u001b[1;32m      2\u001b[0m sys\u001b[38;5;241m.\u001b[39mpath\u001b[38;5;241m.\u001b[39mappend(\u001b[38;5;124m'\u001b[39m\u001b[38;5;124m/home/patricia/code/ChristineSi/neuroCraft\u001b[39m\u001b[38;5;124m'\u001b[39m)\n\u001b[0;32m----> 3\u001b[0m \u001b[38;5;28;01mfrom\u001b[39;00m \u001b[38;5;21;01mneurocraft\u001b[39;00m\u001b[38;5;21;01m.\u001b[39;00m\u001b[38;5;21;01minterface\u001b[39;00m\u001b[38;5;21;01m.\u001b[39;00m\u001b[38;5;21;01mmain\u001b[39;00m \u001b[38;5;28;01mimport\u001b[39;00m pred\n",
      "File \u001b[0;32m~/.pyenv/versions/3.10.6/envs/neuroCraft/lib/python3.10/site-packages/neurocraft/interface/main.py:13\u001b[0m\n\u001b[1;32m     10\u001b[0m \u001b[38;5;28;01mimport\u001b[39;00m \u001b[38;5;21;01mtensorflow\u001b[39;00m \u001b[38;5;28;01mas\u001b[39;00m \u001b[38;5;21;01mtf\u001b[39;00m\n\u001b[1;32m     11\u001b[0m tf\u001b[38;5;241m.\u001b[39mconfig\u001b[38;5;241m.\u001b[39mset_visible_devices([], \u001b[38;5;124m'\u001b[39m\u001b[38;5;124mGPU\u001b[39m\u001b[38;5;124m'\u001b[39m)\n\u001b[0;32m---> 13\u001b[0m \u001b[38;5;28;01mfrom\u001b[39;00m \u001b[38;5;21;01mneurocraft\u001b[39;00m\u001b[38;5;21;01m.\u001b[39;00m\u001b[38;5;21;01mbackend\u001b[39;00m\u001b[38;5;21;01m.\u001b[39;00m\u001b[38;5;21;01mdyslexia_classifier\u001b[39;00m\u001b[38;5;21;01m.\u001b[39;00m\u001b[38;5;21;01mdata\u001b[39;00m \u001b[38;5;28;01mimport\u001b[39;00m load_data, preprocess_train_test_data, preprocess_text, embed_data, define_X_y, split_data\n\u001b[1;32m     14\u001b[0m \u001b[38;5;28;01mfrom\u001b[39;00m \u001b[38;5;21;01mneurocraft\u001b[39;00m\u001b[38;5;21;01m.\u001b[39;00m\u001b[38;5;21;01mbackend\u001b[39;00m\u001b[38;5;21;01m.\u001b[39;00m\u001b[38;5;21;01mdyslexia_classifier\u001b[39;00m\u001b[38;5;21;01m.\u001b[39;00m\u001b[38;5;21;01mnlp_model\u001b[39;00m \u001b[38;5;28;01mimport\u001b[39;00m NLPModel\n\u001b[1;32m     15\u001b[0m \u001b[38;5;28;01mfrom\u001b[39;00m \u001b[38;5;21;01mneurocraft\u001b[39;00m\u001b[38;5;21;01m.\u001b[39;00m\u001b[38;5;21;01mbackend\u001b[39;00m\u001b[38;5;21;01m.\u001b[39;00m\u001b[38;5;21;01mdyslexia_classifier\u001b[39;00m\u001b[38;5;21;01m.\u001b[39;00m\u001b[38;5;21;01mregistry\u001b[39;00m \u001b[38;5;28;01mimport\u001b[39;00m save_model, load_model\n",
      "\u001b[0;31mModuleNotFoundError\u001b[0m: No module named 'neurocraft.backend'"
     ]
    }
   ],
   "source": [
    "import sys\n",
    "sys.path.append('/home/patricia/code/ChristineSi/neuroCraft')\n",
    "from neurocraft.interface.main import pred"
   ]
  },
  {
   "cell_type": "code",
   "execution_count": null,
   "metadata": {},
   "outputs": [
    {
     "name": "stdout",
     "output_type": "stream",
     "text": [
      "True\n",
      "[PosixPath('/home/patricia/code/ChristineSi/neuroCraft/.env'), PosixPath('/home/patricia/code/ChristineSi/neuroCraft/.env.yaml'), PosixPath('/home/patricia/code/ChristineSi/neuroCraft/.envrc'), PosixPath('/home/patricia/code/ChristineSi/neuroCraft/.git'), PosixPath('/home/patricia/code/ChristineSi/neuroCraft/.gitignore'), PosixPath('/home/patricia/code/ChristineSi/neuroCraft/.python-version'), PosixPath('/home/patricia/code/ChristineSi/neuroCraft/Dockerfile'), PosixPath('/home/patricia/code/ChristineSi/neuroCraft/Makefile'), PosixPath('/home/patricia/code/ChristineSi/neuroCraft/README.md'), PosixPath('/home/patricia/code/ChristineSi/neuroCraft/build'), PosixPath('/home/patricia/code/ChristineSi/neuroCraft/interface'), PosixPath('/home/patricia/code/ChristineSi/neuroCraft/neurocraft'), PosixPath('/home/patricia/code/ChristineSi/neuroCraft/neurocraft.egg-info'), PosixPath('/home/patricia/code/ChristineSi/neuroCraft/notebooks'), PosixPath('/home/patricia/code/ChristineSi/neuroCraft/raw_data'), PosixPath('/home/patricia/code/ChristineSi/neuroCraft/requirements.txt'), PosixPath('/home/patricia/code/ChristineSi/neuroCraft/requirements_dev.txt'), PosixPath('/home/patricia/code/ChristineSi/neuroCraft/setup.py')]\n"
     ]
    }
   ],
   "source": [
    "# Import the necessary modules\n",
    "import sys\n",
    "from pathlib import Path\n",
    "\n",
    "# Add the neuroCraft directory to the path\n",
    "neurocraft_path = Path('/home/patricia/code/ChristineSi/neuroCraft')\n",
    "sys.path.append(str(neurocraft_path))\n",
    "\n",
    "# Verify the content of the neuroCraft directory\n",
    "print(neurocraft_path.is_dir())\n",
    "print(sorted(neurocraft_path.glob('*')))"
   ]
  },
  {
   "cell_type": "code",
   "execution_count": null,
   "metadata": {},
   "outputs": [
    {
     "data": {
      "text/plain": [
       "['.git',\n",
       " 'neurocraft',\n",
       " 'Dockerfile',\n",
       " '.gitignore',\n",
       " 'neurocraft.egg-info',\n",
       " 'build',\n",
       " '.envrc',\n",
       " '.env',\n",
       " 'Makefile',\n",
       " 'requirements.txt',\n",
       " 'setup.py',\n",
       " 'raw_data',\n",
       " 'README.md',\n",
       " 'notebooks',\n",
       " 'requirements_dev.txt',\n",
       " '.python-version',\n",
       " 'backend',\n",
       " '.env.yaml',\n",
       " 'dataset',\n",
       " 'interface']"
      ]
     },
     "execution_count": 33,
     "metadata": {},
     "output_type": "execute_result"
    }
   ],
   "source": [
    "import os\n",
    "\n",
    "project_path = '/home/patricia/code/ChristineSi/neuroCraft'\n",
    "os.listdir(project_path)"
   ]
  },
  {
   "cell_type": "code",
   "execution_count": null,
   "metadata": {},
   "outputs": [],
   "source": [
    "import sys\n",
    "sys.path.append('/home/patricia/code/ChristineSi/neuroCraft/neurocraft/backend')"
   ]
  },
  {
   "cell_type": "code",
   "execution_count": null,
   "metadata": {},
   "outputs": [],
   "source": [
    "from text_simplification.simplification_model import TextSimplificationModel"
   ]
  },
  {
   "cell_type": "code",
   "execution_count": null,
   "metadata": {},
   "outputs": [
    {
     "name": "stdout",
     "output_type": "stream",
     "text": [
      "\n",
      "Chunk 1 Simplified Text:\n",
      "The given text is an example of a hard text difficulty level. It contains complex vocabulary, long sentences, and technical terms related to acoustic phonetics. It is written for students in linguistic phonetics, speech and hearing science, electrical engineering, and cognitive psychology. The text provides a nontechnical introduction to the acoustic theory of speech production, acoustic properties of speech sounds, and auditory representation and perception of speech.\n",
      "Original Chunk 1:\n",
      "Keith Johnson Acoustic and Auditory Phonetics; 2nd ed. Blackwell, Oxford 2003 192 pp.; £ 17.99 ISBN 1–405–10123–7 This volume is a revised and expanded (second) edition of a textbook first publishedin 1997. Already the successful first editionreceived high praise and it seems to be a some-what unrewarding task to (re-)review a bookthat has been labelled as ‘(...) well-thought-out textbook (...) invaluable for students whowant to know more than the basic elementsof acoustic phonetics’ (P. Ladefoged), ‘the bestphonetics textbook I’ve ever used’ (J. Pierre-humbert), and ‘an excellent phonetics text forstudents of linguistic phonetics and speechscience’ (C.A. Fowler) [all citations takenfrom the back cover of the book]. However,this second edition contains a new chapter onspeech perception and additional sectionson digital filtering and cross-linguistic voweland consonant perception. Thus, the presentreview sets out to give a brief sketch of thebook’s contents and its didactical techniqueswith special attention to the newly addedtopics. Written for students in linguistic phonet- ics, in speech and hearing science, as wellas in branches of electrical engineering andcognitive psychology dealing with speech,the book offers a nontechnical introductionto the acoustic theory of speech production,to acoustic properties of major classes ofspeech sounds, and to the auditory represen-tation and perception of speech.\n",
      "\n",
      "Chunk 2 Simplified Text:\n",
      "This text is at a difficult level. It contains complex language and technical terms related to acoustic and perceptual phonetics. It also includes references to specific pages and chapters in a textbook, indicating a higher level of knowledge and understanding required to comprehend the content.\n",
      "Original Chunk 2:\n",
      "These topicsare conveyed in a lucid, sometimes almostcolloquial style, which reflects the author’steaching experience and his awareness of thestudents’ difficulties in grasping abstract con-cepts of acoustic and perceptual phonetics.The great didactic value of the textbook underreview is enhanced by a lot of grey-shadowedboxes dealing with ‘semi-related stuff’ (asthe author puts it). These semi-related stuff boxes informally address digressive questionsof students, ranging from underwater speechto the aerodynamics of freeways, connectingacoustic terms and perceptual phenomena toeveryday experience. One can highly agreewith the author ‘that some of the most interest-ing stuff in the book is in the boxes’ (p. 2). Before going to the description and dis- cussion of the various chapters there are twogeneral positive remarks to be made whichapply to the textbook as a whole. First, theauthor does not only deal with acoustic andauditory phonetics in different chapters, he also successfully combines these two aspectsof speech sounds throughout the book, thusdemonstrating that the linguistic significanceof speech acoustics greatly depends on theauditory systems of human beings. Second,despite the highly technical foundation ofacoustics the author refrains from introducingtoo many formulas although ‘the really inter-esting part of acoustic phonetics starts whenyou get out a calculator’ (p. 2).\n",
      "\n",
      "Chunk 3 Simplified Text:\n",
      "This text is at a difficult level.\n",
      "Original Chunk 3:\n",
      "Even in dis-cussing several analysis techniques of digitalsound processing (p. 28ff.) he succeeds inreducing mathematics to practical instructionswithout loss of (phonetically relevant) infor-mation. The volume under review is subdivided into nine chapters, followed by references(pp. 168–173), answers to selected short-answer questions (pp. 174–178) and an index(pp. 179–182). Each chapter is completed byexercises, consisting of a paragraph of ‘suffi-cient jargon’ (i.e. a list of technical terms dealtwith in the preceding text) and of a series ofshort-answer questions. Unfortunately, not allof these questions are answered in the appen-dix mentioned above. Otherwise the exercisescould have met the requirements of a text-book for an autodidactic study of the field.By the way, there is a typographical error inthe answer section concerning the formula forantiformant frequency (p. 178); the numeratorof the formula should read ‘(2 ×1 – 1)c’ 56Libri DOI: 10.1159/000078663\n"
     ]
    }
   ],
   "source": [
    "# Assuming you have already defined extract_text_from_pdf, the updated chunk_text function,\n",
    "# and the TextSimplificationModel class\n",
    "\n",
    "# Extract text from the PDF\n",
    "pdf_filepath = '../raw_data/Acoustic and Auditory Phonetics-1.pdf'\n",
    "pdf_text = extract_text_from_pdf(pdf_filepath)\n",
    "\n",
    "# Check if text extraction was successful\n",
    "if pdf_text is not None:\n",
    "    # Pass the extracted text through the chunk_text function\n",
    "    text_chunks = chunk_text(pdf_text)\n",
    "\n",
    "    # Create an instance of the TextSimplificationModel\n",
    "    simplification_model = TextSimplificationModel()\n",
    "\n",
    "    # Apply the simplification model to each chunk\n",
    "    for i, chunk in enumerate(text_chunks):\n",
    "        # Simplify the chunk using the text simplification model\n",
    "        simplified_chunk = simplification_model.simplify_text(chunk)\n",
    "\n",
    "        # Print the result for each chunk\n",
    "        print(f\"\\nChunk {i + 1} Simplified Text:\\n{simplified_chunk}\")\n",
    "\n",
    "        # Print the original chunk content\n",
    "        print(f\"Original Chunk {i + 1}:\\n{chunk}\")\n",
    "else:\n",
    "    print(\"Text extraction from the PDF failed.\")"
   ]
  },
  {
   "cell_type": "code",
   "execution_count": null,
   "metadata": {},
   "outputs": [
    {
     "ename": "NameError",
     "evalue": "name 'pred' is not defined",
     "output_type": "error",
     "traceback": [
      "\u001b[0;31m---------------------------------------------------------------------------\u001b[0m",
      "\u001b[0;31mNameError\u001b[0m                                 Traceback (most recent call last)",
      "Cell \u001b[0;32mIn[22], line 16\u001b[0m\n\u001b[1;32m     13\u001b[0m \u001b[38;5;66;03m# Apply the classification model to each chunk\u001b[39;00m\n\u001b[1;32m     14\u001b[0m \u001b[38;5;28;01mfor\u001b[39;00m i, chunk \u001b[38;5;129;01min\u001b[39;00m \u001b[38;5;28menumerate\u001b[39m(text_chunks):\n\u001b[1;32m     15\u001b[0m     \u001b[38;5;66;03m# Classify the chunk using your classification model (replace classify_chunk with your actual function)\u001b[39;00m\n\u001b[0;32m---> 16\u001b[0m     classification_result \u001b[38;5;241m=\u001b[39m \u001b[43mpred\u001b[49m(X_pred\u001b[38;5;241m=\u001b[39mchunk)\n\u001b[1;32m     18\u001b[0m     \u001b[38;5;66;03m# Print the result for each chunk\u001b[39;00m\n\u001b[1;32m     19\u001b[0m     \u001b[38;5;28mprint\u001b[39m(\u001b[38;5;124mf\u001b[39m\u001b[38;5;124m\"\u001b[39m\u001b[38;5;130;01m\\n\u001b[39;00m\u001b[38;5;124mChunk \u001b[39m\u001b[38;5;132;01m{\u001b[39;00mi\u001b[38;5;250m \u001b[39m\u001b[38;5;241m+\u001b[39m\u001b[38;5;250m \u001b[39m\u001b[38;5;241m1\u001b[39m\u001b[38;5;132;01m}\u001b[39;00m\u001b[38;5;124m Classification Result: \u001b[39m\u001b[38;5;132;01m{\u001b[39;00mclassification_result\u001b[38;5;132;01m}\u001b[39;00m\u001b[38;5;124m\"\u001b[39m)\n",
      "\u001b[0;31mNameError\u001b[0m: name 'pred' is not defined"
     ]
    }
   ],
   "source": [
    "# Assuming you have already defined extract_text_from_pdf, the updated chunk_text function,\n",
    "# and the pred function\n",
    "\n",
    "# Extract text from the PDF\n",
    "pdf_filepath = '../raw_data/Acoustic and Auditory Phonetics-1.pdf'\n",
    "pdf_text = extract_text_from_pdf(pdf_filepath)\n",
    "\n",
    "# Check if text extraction was successful\n",
    "if pdf_text is not None:\n",
    "    # Pass the extracted text through the chunk_text function\n",
    "    text_chunks = chunk_text(pdf_text)\n",
    "\n",
    "    # Apply the classification model to each chunk\n",
    "    for i, chunk in enumerate(text_chunks):\n",
    "        # Classify the chunk using your classification model (replace classify_chunk with your actual function)\n",
    "        classification_result = pred(X_pred=chunk)\n",
    "\n",
    "        # Print the result for each chunk\n",
    "        print(f\"\\nChunk {i + 1} Classification Result: {classification_result}\")\n",
    "\n",
    "        # Print the chunk content\n",
    "        print(f\"Chunk {i + 1}:\\n{chunk}\")\n",
    "else:\n",
    "    print(\"Text extraction from the PDF failed.\")"
   ]
  },
  {
   "cell_type": "code",
   "execution_count": 15,
   "metadata": {},
   "outputs": [
    {
     "name": "stdout",
     "output_type": "stream",
     "text": [
      "Keith Johnson\n",
      "Acoustic and Auditory Phonetics;\n",
      "2nd ed.\n",
      "Blackwell, Oxford 2003\n",
      "192 pp.; £ 17.99 \n",
      "ISBN 1–405–10123–7\n",
      "This volume is a revised and expanded\n",
      "(second) edition of a textbook first published\n",
      "in 1997. Already the successful first edition\n",
      "received high praise and it seems to be a some-\n",
      "what unrewarding task to (re-)review a book\n",
      "that has been labelled as ‘(...) well-thought-\n",
      "out textbook (...) invaluable for students who\n",
      "want to know more than the basic elements\n",
      "of acoustic phonetics’ (P. Ladefoged), ‘the best\n",
      "phonetics textbook I’ve ever used’ (J. Pierre-\n",
      "humbert), and ‘an excellent phonetics text for\n",
      "students of linguistic phonetics and speech\n",
      "science’ (C.A. Fowler) [all citations taken\n",
      "from the back cover of the book]. However,\n",
      "this second edition contains a new chapter on\n",
      "speech perception and additional sections\n",
      "on digital filtering and cross-linguistic vowel\n",
      "and consonant perception. Thus, the present\n",
      "review sets out to give a brief sketch of the\n",
      "book’s contents and its didactical techniques\n",
      "with special attention to the newly added\n",
      "topics.\n",
      "Written for students in linguistic phonet-\n",
      "ics, in speech and hearing science, as well\n",
      "as in branches of electrical engineering and\n",
      "cognitive psychology dealing with speech,\n",
      "the book offers a nontechnical introduction\n",
      "to the acoustic theory of speech production,\n",
      "to acoustic properties of major classes of\n",
      "speech sounds, and to the auditory represen-\n",
      "tation and perception of speech. These topics\n",
      "are conveyed in a lucid, sometimes almost\n",
      "colloquial style, which reflects the author’s\n",
      "teaching experience and his awareness of the\n",
      "students’ difficulties in grasping abstract con-\n",
      "cepts of acoustic and perceptual phonetics.\n",
      "The great didactic value of the textbook under\n",
      "review is enhanced by a lot of grey-shadowed\n",
      "boxes dealing with ‘semi-related stuff’ (as\n",
      "the author puts it). These semi-related stuff\n",
      "boxes informally address digressive questions\n",
      "of students, ranging from underwater speech\n",
      "to the aerodynamics of freeways, connecting\n",
      "acoustic terms and perceptual phenomena to\n",
      "everyday experience. One can highly agree\n",
      "with the author ‘that some of the most interest-\n",
      "ing stuff in the book is in the boxes’ (p. 2).\n",
      "Before going to the description and dis-\n",
      "cussion of the various chapters there are two\n",
      "general positive remarks to be made which\n",
      "apply to the textbook as a whole. First, the\n",
      "author does not only deal with acoustic and\n",
      "auditory phonetics in different chapters, he\n",
      "also successfully combines these two aspects\n",
      "of speech sounds throughout the book, thus\n",
      "demonstrating that the linguistic significance\n",
      "of speech acoustics greatly depends on the\n",
      "auditory systems of human beings. Second,\n",
      "despite the highly technical foundation of\n",
      "acoustics the author refrains from introducing\n",
      "too many formulas although ‘the really inter-\n",
      "esting part of acoustic phonetics starts when\n",
      "you get out a calculator’ (p. 2). Even in dis-\n",
      "cussing several analysis techniques of digital\n",
      "sound processing (p. 28ff.) he succeeds in\n",
      "reducing mathematics to practical instructions\n",
      "without loss of (phonetically relevant) infor-\n",
      "mation.\n",
      "The volume under review is subdivided\n",
      "into nine chapters, followed by references\n",
      "(pp. 168–173), answers to selected short-\n",
      "answer questions (pp. 174–178) and an index\n",
      "(pp. 179–182). Each chapter is completed by\n",
      "exercises, consisting of a paragraph of ‘suffi-\n",
      "cient jargon’ (i.e. a list of technical terms dealt\n",
      "with in the preceding text) and of a series of\n",
      "short-answer questions. Unfortunately, not all\n",
      "of these questions are answered in the appen-\n",
      "dix mentioned above. Otherwise the exercises\n",
      "could have met the requirements of a text-\n",
      "book for an autodidactic study of the field.\n",
      "By the way, there is a typographical error in\n",
      "the answer section concerning the formula for\n",
      "antiformant frequency (p. 178); the numerator\n",
      "of the formula should read ‘(2 × 1 – 1)c’\n",
      "56\n",
      "Libri\n",
      "DOI: 10.1159/000078663\n",
      "\n"
     ]
    }
   ],
   "source": [
    "import fitz\n",
    "\n",
    "def extract_pdf(file) -> str:\n",
    "    pdf_text=\"\"\n",
    "    try:\n",
    "        # Open the PDF file\n",
    "        pdf_document = fitz.open(file)\n",
    "\n",
    "        # Iterate through each page and extract text\n",
    "        for page_num in range(pdf_document.page_count):\n",
    "            page = pdf_document[page_num]\n",
    "            pdf_text += page.get_text()\n",
    "\n",
    "    except Exception as e:\n",
    "        pdf_text = str(e)  # Capture the exception message\n",
    "    finally:\n",
    "        if pdf_document:\n",
    "            pdf_document.close()\n",
    "\n",
    "    return pdf_text\n",
    "\n",
    "pdf_filepath = '../raw_data/Acoustic and Auditory Phonetics-1.pdf'\n",
    "pdf_text = extract_pdf(pdf_filepath)\n",
    "print(pdf_text)"
   ]
  },
  {
   "cell_type": "code",
   "execution_count": 17,
   "metadata": {},
   "outputs": [
    {
     "name": "stdout",
     "output_type": "stream",
     "text": [
      "Libri\n",
      "\n",
      "DOI: 10.1159/000078663\n",
      "\n",
      "Keith Johnson\n",
      "Acoustic and Auditory Phonetics;\n",
      "2nd ed.\n",
      "Blackwell, Oxford 2003\n",
      "192 pp.; £ 17.99 \n",
      "ISBN 1–405–10123–7\n",
      "\n",
      "This  volume  is  a  revised  and  expanded\n",
      "(second) edition of a textbook first published\n",
      "in  1997.  Already  the  successful  first  edition\n",
      "received high praise and it seems to be a some-\n",
      "what unrewarding task to (re-)review a book\n",
      "that  has  been  labelled  as  ‘(. . .)  well-thought-\n",
      "out textbook (. . .) invaluable for students who\n",
      "want  to  know  more  than  the  basic  elements\n",
      "of acoustic phonetics’ (P. Ladefoged), ‘the best\n",
      "phonetics textbook I’ve ever used’ (J. Pierre-\n",
      "humbert), and ‘an excellent phonetics text for\n",
      "students  of  linguistic  phonetics  and  speech\n",
      "science’  (C.A.  Fowler)  [all  citations  taken\n",
      "from  the  back  cover  of  the  book].  However,\n",
      "this second edition contains a new chapter on\n",
      "speech  perception  and  additional  sections\n",
      "on digital filtering and cross-linguistic vowel\n",
      "and  consonant  perception.  Thus,  the  present\n",
      "review  sets  out  to  give  a  brief  sketch  of  the\n",
      "book’s  contents  and  its  didactical  techniques\n",
      "with  special  attention  to  the  newly  added\n",
      "topics.\n",
      "\n",
      "Written  for  students  in  linguistic  phonet-\n",
      "ics, in  speech  and  hearing  science,  as  well\n",
      "as in branches  of  electrical  engineering  and\n",
      "cognitive  psychology  dealing  with  speech,\n",
      "the book  offers  a  nontechnical  introduction\n",
      "to the  acoustic  theory  of  speech  production,\n",
      "to acoustic  properties  of  major  classes  of\n",
      "speech sounds, and to the auditory represen-\n",
      "tation and perception of speech. These topics\n",
      "are  conveyed  in  a  lucid,  sometimes  almost\n",
      "colloquial  style,  which  reflects  the  author’s\n",
      "teaching experience and his awareness of the\n",
      "students’ difficulties in grasping abstract con-\n",
      "cepts  of  acoustic  and  perceptual  phonetics.\n",
      "The great didactic value of the textbook under\n",
      "review is enhanced by a lot of grey-shadowed\n",
      "boxes  dealing  with  ‘semi-related  stuff’  (as\n",
      "\n",
      "the author  puts  it).  These  semi-related  stuff\n",
      "boxes informally address digressive questions\n",
      "of students, ranging from underwater speech\n",
      "to the aerodynamics of freeways, connecting\n",
      "acoustic  terms  and  perceptual  phenomena  to\n",
      "everyday  experience.  One  can  highly  agree\n",
      "with the author ‘that some of the most interest-\n",
      "ing stuff in the book is in the boxes’ (p. 2).\n",
      "\n",
      "Before  going  to  the  description  and  dis-\n",
      "cussion of the various chapters there are two\n",
      "general  positive  remarks  to  be  made  which\n",
      "apply  to  the  textbook  as  a  whole.  First,  the\n",
      "author  does  not  only  deal  with  acoustic  and\n",
      "auditory  phonetics  in  different chapters,  he\n",
      "also successfully combines these two aspects\n",
      "of  speech  sounds  throughout  the  book,  thus\n",
      "demonstrating that the linguistic significance\n",
      "of  speech  acoustics  greatly  depends  on  the\n",
      "auditory  systems  of  human  beings.  Second,\n",
      "despite  the  highly  technical  foundation  of\n",
      "acoustics the author refrains from introducing\n",
      "too many formulas although ‘the really inter-\n",
      "esting  part  of  acoustic  phonetics  starts  when\n",
      "you get out a calculator’ (p. 2). Even in dis-\n",
      "cussing several analysis techniques of digital\n",
      "sound  processing  (p.  28ff.)  he  succeeds  in\n",
      "reducing mathematics to practical instructions\n",
      "without  loss  of  (phonetically  relevant)  infor-\n",
      "mation.\n",
      "\n",
      "The  volume  under  review  is  subdivided\n",
      "into  nine  chapters,  followed  by  references\n",
      "(pp. 168–173),  answers  to  selected  short-\n",
      "answer questions (pp. 174–178) and an index\n",
      "(pp. 179–182). Each chapter is completed by\n",
      "exercises, consisting of a paragraph of ‘suffi-\n",
      "cient jargon’ (i.e. a list of technical terms dealt\n",
      "with in the preceding text) and of a series of\n",
      "short-answer questions. Unfortunately, not all\n",
      "of these questions are answered in the appen-\n",
      "dix mentioned above. Otherwise the exercises\n",
      "could  have  met  the  requirements  of  a  text-\n",
      "book for  an  autodidactic  study  of  the  field.\n",
      "By the way, there is a typographical error in\n",
      "the answer section concerning the formula for\n",
      "antiformant frequency (p. 178); the numerator\n",
      "of  the  formula  should  read  ‘(2  × 1  –  1)c’\n",
      "\n",
      "56\n",
      "\n",
      "\f\n"
     ]
    }
   ],
   "source": [
    "from pdfminer.high_level import extract_text\n",
    "\n",
    "text = extract_text('../raw_data/Acoustic and Auditory Phonetics-1.pdf')\n",
    "print(text)"
   ]
  }
 ],
 "metadata": {
  "kernelspec": {
   "display_name": "neuroCraft",
   "language": "python",
   "name": "python3"
  },
  "language_info": {
   "codemirror_mode": {
    "name": "ipython",
    "version": 3
   },
   "file_extension": ".py",
   "mimetype": "text/x-python",
   "name": "python",
   "nbconvert_exporter": "python",
   "pygments_lexer": "ipython3",
   "version": "3.10.6"
  }
 },
 "nbformat": 4,
 "nbformat_minor": 2
}
