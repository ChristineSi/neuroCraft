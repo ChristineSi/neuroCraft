{
 "cells": [
  {
   "cell_type": "code",
   "execution_count": 155,
   "metadata": {},
   "outputs": [],
   "source": [
    "# 1 - DATA MANIPULATION\n",
    "import pandas as pd\n",
    "import numpy as np\n",
    "\n",
    "# 2 - DATA VISUALISATION\n",
    "import matplotlib.pyplot as plt\n",
    "import seaborn as sns\n",
    "\n",
    "# 3 - DATA EXPLORATION\n",
    "from ydata_profiling import ProfileReport\n",
    "\n",
    "# 4 - FEATURE ENGINEERING AND PREPROCESSING\n",
    "import string #punctuation\n",
    "import textstat\n",
    "\n",
    "import nltk #English language stopwords\n",
    "# nltk.download('punkt')\n",
    "# nltk.download('stopwords')\n",
    "from nltk.corpus import stopwords\n",
    "from collections import Counter\n",
    "from nltk.stem import WordNetLemmatizer\n",
    "from nltk.tokenize import sent_tokenize\n",
    "\n",
    "import spacy\n",
    "nlp = spacy.load(\"en_core_web_sm\")\n",
    "\n",
    "from lexicalrichness import LexicalRichness\n",
    "\n",
    "import re\n",
    "\n",
    "from tensorflow.keras.preprocessing.text import text_to_word_sequence\n",
    "\n",
    "\n",
    "# 5 - MODEL\n",
    "#SKLEARN METRICS\n",
    "from sklearn.metrics import mean_squared_error\n",
    "from sklearn.metrics import make_scorer\n",
    "from sklearn.metrics import accuracy_score\n",
    "from sklearn.metrics import confusion_matrix\n",
    "\n",
    "\n",
    "from sklearn.impute import SimpleImputer\n",
    "\n",
    "from sklearn.preprocessing import StandardScaler\n",
    "from sklearn.preprocessing import OneHotEncoder\n",
    "from sklearn.preprocessing import LabelEncoder\n",
    "\n",
    "from sklearn.model_selection import train_test_split\n",
    "\n",
    "from sklearn.compose import ColumnTransformer\n",
    "\n",
    "from sklearn.pipeline import Pipeline\n",
    "\n",
    "\n",
    "\n",
    "from gensim.models import Word2Vec\n",
    "from tensorflow.keras.preprocessing.sequence import pad_sequences\n",
    "\n",
    "from tensorflow.keras import layers, Sequential\n",
    "from tensorflow.keras.optimizers import Adam\n",
    "from tensorflow.keras.callbacks import EarlyStopping\n",
    "\n",
    "from tensorflow.keras import models\n",
    "from tensorflow.keras.utils import plot_model\n"
   ]
  },
  {
   "cell_type": "code",
   "execution_count": 156,
   "metadata": {},
   "outputs": [],
   "source": [
    "df = pd.read_csv('/Users/andreacalcagni/code/AndreaCalcagni/neuroCraft/raw_data/CLEAR Corpus 6.01 - CLEAR Corpus 6.01.csv')\n"
   ]
  },
  {
   "cell_type": "code",
   "execution_count": 157,
   "metadata": {},
   "outputs": [],
   "source": [
    "df = df.drop(columns=['Last Changed', 'URL', 'Anthology', 'MPAA \\n#Max', 'Pub Year', 'MPAA\\n#Avg', 'License', 'British Words', 'firstPlace_pred', 'secondPlace_pred', 'thirdPlace_pred',\n",
    "       'fourthPlace_pred', 'fifthPlace_pred', 'sixthPlace_pred', 'ID', 'Author', 'Title', 'Source', 'Category', 'Location', 'MPAA\\nMax', 'BT s.e.', 'Kaggle split'])\n"
   ]
  },
  {
   "cell_type": "markdown",
   "metadata": {},
   "source": [
    "# 1. Feature Engineering"
   ]
  },
  {
   "cell_type": "markdown",
   "metadata": {},
   "source": [
    "## 1.1 Text-Based Features"
   ]
  },
  {
   "cell_type": "markdown",
   "metadata": {},
   "source": [
    "### 1.1.1. Word Count"
   ]
  },
  {
   "cell_type": "code",
   "execution_count": 158,
   "metadata": {},
   "outputs": [],
   "source": [
    "def avg_word_count(row):\n",
    "    return row[['Joon\\nWC v1', 'Google\\nWC']].mean()\n",
    "\n",
    "# Create a new column\n",
    "df['Avg Word Count'] = df.apply(avg_word_count, axis=1)\n",
    "df = df.drop(columns=['Joon\\nWC v1', 'Google\\nWC'])\n"
   ]
  },
  {
   "cell_type": "markdown",
   "metadata": {},
   "source": [
    "### 1.1.2 Unique Word Count"
   ]
  },
  {
   "cell_type": "code",
   "execution_count": 159,
   "metadata": {},
   "outputs": [],
   "source": [
    "def count_unique_words(row):\n",
    "    words = row['Excerpt'].split()\n",
    "    return len(set(words))\n",
    "\n",
    "df['Unique Word Count'] = df.apply(count_unique_words, axis=1)\n"
   ]
  },
  {
   "cell_type": "markdown",
   "metadata": {},
   "source": [
    "### 1.1.3 Word Lenght"
   ]
  },
  {
   "cell_type": "code",
   "execution_count": 160,
   "metadata": {},
   "outputs": [],
   "source": [
    "def avg_word_length(x):\n",
    "    punctuation = string.punctuation\n",
    "    for punc in punctuation:\n",
    "        x = x.replace(punc,' ')\n",
    "    words = x.split(' ')\n",
    "    words = [word for word in words if len(word) > 0]\n",
    "    word_len = [len(word) for word in words]\n",
    "    return np.mean(word_len)\n",
    "\n",
    "# New column 'Avg Word Length'\n",
    "df['Avg Word Length'] = df['Excerpt'].apply(avg_word_length)\n"
   ]
  },
  {
   "cell_type": "markdown",
   "metadata": {},
   "source": [
    "### 1.1.4 Sentence Count"
   ]
  },
  {
   "cell_type": "code",
   "execution_count": 161,
   "metadata": {},
   "outputs": [],
   "source": [
    "def calculate_average_sentence_count(row):\n",
    "    sentence_count_columns = ['Sentence\\nCount v1', 'Sentence\\nCount v2']\n",
    "    return row[sentence_count_columns].mean()\n",
    "\n",
    "# new column\n",
    "df['Average Sentence Count'] = df.apply(calculate_average_sentence_count, axis=1)\n",
    "df= df.drop(columns=['Sentence\\nCount v1', 'Sentence\\nCount v2'])\n"
   ]
  },
  {
   "cell_type": "markdown",
   "metadata": {},
   "source": [
    "## 1.2 Complexity Features"
   ]
  },
  {
   "cell_type": "markdown",
   "metadata": {},
   "source": [
    "### 1.2.1 Average Syllaba per Word"
   ]
  },
  {
   "cell_type": "code",
   "execution_count": 162,
   "metadata": {},
   "outputs": [],
   "source": [
    "def avg_syllaba_word(x):\n",
    "    syll_count = [textstat.syllable_count(word) for word in x.split()]\n",
    "    return np.mean(syll_count)\n",
    "\n",
    "df['Avg Syllables Per Word'] = df['Excerpt'].apply(avg_syllaba_word)\n"
   ]
  },
  {
   "cell_type": "markdown",
   "metadata": {},
   "source": [
    "### 1.2.2 Avg Vowels per Word"
   ]
  },
  {
   "cell_type": "code",
   "execution_count": 163,
   "metadata": {},
   "outputs": [],
   "source": [
    "def count_vowels(word):\n",
    "    vowels = set(\"AEIOUaeiou\")\n",
    "    return sum(1 for char in word if char in vowels)\n",
    "\n",
    "# New columns:\n",
    "df['Avg Vowel Count Per Word'] = df['Excerpt'].apply(lambda x: np.mean([count_vowels(word) for word in x.split()]) if x else 0)\n",
    "df['Total Vowels Per Excerpt'] = df['Excerpt'].apply(lambda x: sum(count_vowels(word) for word in x.split()) if x else 0)\n",
    "df['Avg Vowels Per Excerpt'] = df['Total Vowels Per Excerpt']/df['Avg Word Count']\n",
    "df = df.drop(columns=['Total Vowels Per Excerpt'])\n"
   ]
  },
  {
   "cell_type": "markdown",
   "metadata": {},
   "source": [
    "### 1.2.3 Punctuation Ratio"
   ]
  },
  {
   "cell_type": "code",
   "execution_count": 164,
   "metadata": {},
   "outputs": [],
   "source": [
    "def count_punctuation(x):\n",
    "    punc = string.punctuation\n",
    "    count=0\n",
    "\n",
    "    for char in x:\n",
    "        if char in punc:\n",
    "            count+=1\n",
    "\n",
    "    return count/ len(x)\n",
    "\n",
    "df['punctuation_ratio'] = df['Excerpt'].apply(count_punctuation)\n"
   ]
  },
  {
   "cell_type": "markdown",
   "metadata": {},
   "source": [
    "## 1.3 Structural Features"
   ]
  },
  {
   "cell_type": "markdown",
   "metadata": {},
   "source": [
    "### 1.3.1 Average Sentence Lenght"
   ]
  },
  {
   "cell_type": "code",
   "execution_count": 165,
   "metadata": {},
   "outputs": [],
   "source": [
    "def count_characters_per_sentence(excerpt):\n",
    "    # Tokenize the text into sentences\n",
    "    sentences = sent_tokenize(excerpt)\n",
    "\n",
    "    # Count the number of characters in each sentence\n",
    "    char_counts_per_sentence = [len(sentence) for sentence in sentences]\n",
    "\n",
    "    return char_counts_per_sentence\n",
    "\n",
    "df['Characters Per Sentence'] = df['Excerpt'].apply(count_characters_per_sentence)\n",
    "\n",
    "def avg_chars_per_sentence(row):\n",
    "    # Sum of character counts in all sentences\n",
    "    total_chars = sum(row['Characters Per Sentence'])\n",
    "\n",
    "    # Sum of sentence counts from both columns\n",
    "    total_sentences = row['Average Sentence Count']\n",
    "\n",
    "    # Calculate average characters per sentence\n",
    "    return total_chars / total_sentences if total_sentences > 0 else 0\n",
    "\n",
    "df['Avg Characters per Sentence'] = df.apply(avg_chars_per_sentence, axis=1)\n",
    "df = df.drop(columns=['Characters Per Sentence'])\n"
   ]
  },
  {
   "cell_type": "markdown",
   "metadata": {},
   "source": [
    "### 1.3.2 Ratio of Capital Letters"
   ]
  },
  {
   "cell_type": "code",
   "execution_count": 166,
   "metadata": {},
   "outputs": [],
   "source": [
    "def ratio_capital_chars(excerpt):\n",
    "    count = 0\n",
    "    for char in excerpt:\n",
    "        if char.isupper():\n",
    "            count += 1\n",
    "    return count/len(excerpt)\n",
    "\n",
    "# new column\n",
    "df['Capital Char Count'] = df['Excerpt'].apply(ratio_capital_chars)\n"
   ]
  },
  {
   "cell_type": "code",
   "execution_count": 167,
   "metadata": {},
   "outputs": [],
   "source": [
    "def count_capital_words(excerpt):\n",
    "    return sum(1 for word in excerpt.split() if word.isupper() and word.isalpha())\n",
    "\n",
    "# new column\n",
    "df['Capital Word Count'] = df['Excerpt'].apply(count_capital_words)\n",
    "df['Ratio_capital_words'] = df['Capital Word Count']/df['Avg Word Count']\n",
    "df = df.drop(columns=['Capital Word Count'])\n"
   ]
  },
  {
   "cell_type": "markdown",
   "metadata": {},
   "source": [
    "## 1.4 Statistical Features"
   ]
  },
  {
   "cell_type": "markdown",
   "metadata": {},
   "source": [
    "### 1.4.1 Std of Word Lenght"
   ]
  },
  {
   "cell_type": "code",
   "execution_count": 168,
   "metadata": {},
   "outputs": [],
   "source": [
    "def word_length_std(excerpt):\n",
    "    word_lengths = [len(word) for word in excerpt.split()]\n",
    "    return np.std(word_lengths) if len(word_lengths) > 0 else 0\n",
    "\n",
    "# New column 'Word Length Std'\n",
    "df['Word Length Std'] = df['Excerpt'].apply(word_length_std)\n"
   ]
  },
  {
   "cell_type": "markdown",
   "metadata": {},
   "source": [
    "### 1.4.2 Std of Sentence Lenght"
   ]
  },
  {
   "cell_type": "code",
   "execution_count": 169,
   "metadata": {},
   "outputs": [],
   "source": [
    "def sentence_length_variation(row):\n",
    "    sentence_lengths = count_characters_per_sentence(row['Excerpt'])\n",
    "    return np.std(sentence_lengths)\n",
    "\n",
    "df['Sentence Length Variation'] = df.apply(sentence_length_variation, axis=1)\n"
   ]
  },
  {
   "cell_type": "markdown",
   "metadata": {},
   "source": [
    "## 1.5 Syntactic Complexity Features (NLP approach)"
   ]
  },
  {
   "cell_type": "markdown",
   "metadata": {},
   "source": [
    "### 1.5.1 Avg sentence len in words"
   ]
  },
  {
   "cell_type": "code",
   "execution_count": 170,
   "metadata": {},
   "outputs": [],
   "source": [
    "def sentence_len(x):\n",
    "\n",
    "    x = x.replace(\"?\",'.').replace(\"!\",'.')\n",
    "\n",
    "    sentences = x.split('.')\n",
    "\n",
    "    sentences = [sentence for sentence in sentences if len(sentence) > 0]\n",
    "\n",
    "    sent_len = [len(sentence.split()) for sentence in sentences]\n",
    "\n",
    "    return np.mean(sent_len)\n",
    "\n",
    "df['avg_sentence_len_words'] = df['Excerpt'].apply(sentence_len)\n"
   ]
  },
  {
   "cell_type": "markdown",
   "metadata": {},
   "source": [
    "### 1.5.2 Number of clauses per sentence"
   ]
  },
  {
   "cell_type": "code",
   "execution_count": 171,
   "metadata": {},
   "outputs": [],
   "source": [
    "# Function to calculate the number of clauses per sentence\n",
    "\n",
    "# # Function to perform POS tagging and count occurrences of each POS\n",
    "# def pos_distribution(excerpt):\n",
    "#     # Parse the text using spaCy\n",
    "#     doc = nlp(excerpt)\n",
    "#     # Count the occurrences of each POS\n",
    "#     pos_counts = Counter(token.pos_ for token in doc)\n",
    "#     return pos_counts\n",
    "\n",
    "\n",
    "# # Apply functions to create new columns\n",
    "# df['Num Clauses Per Sentence'] = df['Excerpt'].apply(num_clauses_per_sentence_nlp)\n",
    "\n",
    "# df['POS Distribution'] = df['Excerpt'].apply(pos_distribution)\n"
   ]
  },
  {
   "cell_type": "code",
   "execution_count": 172,
   "metadata": {},
   "outputs": [],
   "source": [
    "# Function to calculate the number of clauses per sentence\n",
    "# def num_clauses_per_sentence_nlp(excerpt):\n",
    "#     # Parse the text using spaCy\n",
    "#     doc = nlp(excerpt)\n",
    "#     # Count the number of clauses (sentences) in the parsed document\n",
    "#     num_clauses = len(list(doc.sents))\n",
    "#     return num_clauses\n",
    "\n",
    "# df['Num Clauses Per Sentence'] = df['Excerpt'].apply(num_clauses_per_sentence_nlp)\n"
   ]
  },
  {
   "cell_type": "markdown",
   "metadata": {},
   "source": [
    "## 1.6 Lexical Diversity"
   ]
  },
  {
   "cell_type": "code",
   "execution_count": 173,
   "metadata": {},
   "outputs": [],
   "source": [
    "def add_lexical_richness_features(df):\n",
    "    cttr_list, msttr_list, mtld_list, yule_k_list = [], [], [], []\n",
    "\n",
    "    for text in df['Excerpt']:\n",
    "        lex = LexicalRichness(text)\n",
    "        cttr_list.append(lex.cttr)\n",
    "        msttr_list.append(lex.msttr(segment_window=25))  # Adjust the segment_window as needed\n",
    "        mtld_list.append(lex.mtld(threshold=0.72))  # Adjust the threshold as needed\n",
    "        yule_k_list.append(lex.yulek)\n",
    "\n",
    "    df['cttr'] = cttr_list\n",
    "    df['msttr'] = msttr_list\n",
    "    df['mtld'] = mtld_list\n",
    "    df['yule_k'] = yule_k_list\n",
    "\n",
    "# Add lexical richness features to the DataFrame\n",
    "add_lexical_richness_features(df)\n"
   ]
  },
  {
   "cell_type": "code",
   "execution_count": 174,
   "metadata": {},
   "outputs": [],
   "source": [
    "# lexical_columns = ['cttr', 'msttr', 'mtld', 'yule_k']\n",
    "\n",
    "# # new DataFrame with only the selected columns\n",
    "# lexical_df = df[lexical_columns]\n",
    "\n",
    "# # Calculate the correlation matrix\n",
    "# correlation_matrix = lexical_df.corr()\n",
    "\n",
    "# # Plot a heatmap of the correlation matrix\n",
    "# plt.figure(figsize=(10, 8))\n",
    "# sns.heatmap(correlation_matrix, annot=True, cmap='coolwarm', fmt=\".2f\", linewidths=.5)\n",
    "# plt.title(\"Correlation Matrix of Lexical Richness Features\")\n",
    "# plt.show()\n"
   ]
  },
  {
   "cell_type": "markdown",
   "metadata": {},
   "source": [
    "# 2. Discretizing Target"
   ]
  },
  {
   "cell_type": "code",
   "execution_count": 175,
   "metadata": {},
   "outputs": [],
   "source": [
    "# Calculating quantiles for bin edges - 7 edges for 6 bins\n",
    "quantiles = df['BT Easiness'].quantile([0, 0.1667, 0.3333, 0.5, 0.6667, 0.8333, 1]).tolist()\n"
   ]
  },
  {
   "cell_type": "code",
   "execution_count": 176,
   "metadata": {},
   "outputs": [],
   "source": [
    "# Correct number of labels for 6 bins\n",
    "labels_dict = {'very hard':0, 'hard':1, 'moderately hard':2, 'acceptable':3, 'easy':4, 'very easy':5}\n",
    "\n",
    "# Using 'quantiles' for bins and including 6 labels\n",
    "df['BT Easiness'] = pd.cut(\n",
    "    x=df['BT Easiness'],\n",
    "    bins=quantiles,\n",
    "    labels=labels_dict.values(),\n",
    "    include_lowest=True\n",
    ")\n"
   ]
  },
  {
   "cell_type": "markdown",
   "metadata": {},
   "source": [
    "# 3. Train Test Split"
   ]
  },
  {
   "cell_type": "code",
   "execution_count": 177,
   "metadata": {},
   "outputs": [],
   "source": [
    "X = df.drop(columns=['BT Easiness'])\n",
    "y = df['BT Easiness']\n",
    "X_train, X_test, y_train, y_test = train_test_split(X, y, test_size=0.3, random_state=42)\n"
   ]
  },
  {
   "cell_type": "markdown",
   "metadata": {},
   "source": [
    "# 4. Dummy Baseline Model"
   ]
  },
  {
   "cell_type": "code",
   "execution_count": 178,
   "metadata": {},
   "outputs": [
    {
     "data": {
      "text/plain": [
       "0.152327221438646"
      ]
     },
     "execution_count": 178,
     "metadata": {},
     "output_type": "execute_result"
    }
   ],
   "source": [
    "y_pred = y_train.value_counts().idxmax()\n",
    "y_pred = np.full(y_test.shape, y_pred)\n",
    "\n",
    "accuracy_baseline = accuracy_score(y_test, y_pred)\n",
    "accuracy_baseline\n"
   ]
  },
  {
   "cell_type": "markdown",
   "metadata": {},
   "source": [
    "# 5. NLP Model"
   ]
  },
  {
   "cell_type": "markdown",
   "metadata": {},
   "source": [
    "## 5.1 Text Preprocessing"
   ]
  },
  {
   "cell_type": "code",
   "execution_count": 179,
   "metadata": {},
   "outputs": [],
   "source": [
    "X_train_text = X_train['Excerpt'].values\n",
    "X_test_text = X_test['Excerpt'].values\n"
   ]
  },
  {
   "cell_type": "markdown",
   "metadata": {},
   "source": [
    "### 5.1.1 Basic Cleaning"
   ]
  },
  {
   "cell_type": "code",
   "execution_count": 180,
   "metadata": {},
   "outputs": [],
   "source": [
    "def basic_cleaning(sentence):\n",
    "    sentence = sentence.lower()\n",
    "    sentence = ''.join(char for char in sentence if not char.isdigit())\n",
    "\n",
    "    # Adding special quotes to the regular expression pattern\n",
    "    special_quotes = '“”‘’'\n",
    "    pattern = '[' + re.escape(string.punctuation + special_quotes) + ']'\n",
    "\n",
    "    sentence = re.sub(pattern, '', sentence)\n",
    "    sentence = sentence.strip()\n",
    "\n",
    "    return sentence\n"
   ]
  },
  {
   "cell_type": "code",
   "execution_count": 181,
   "metadata": {},
   "outputs": [],
   "source": [
    "X_train_text = [basic_cleaning(sentence) for sentence in X_train_text]\n",
    "X_test_text = [basic_cleaning(sentence) for sentence in X_test_text]\n"
   ]
  },
  {
   "cell_type": "markdown",
   "metadata": {},
   "source": [
    "### 5.1.2 Tokenizing"
   ]
  },
  {
   "cell_type": "code",
   "execution_count": 182,
   "metadata": {},
   "outputs": [],
   "source": [
    "def tokenizer(sentence):\n",
    "    return text_to_word_sequence(sentence)\n"
   ]
  },
  {
   "cell_type": "code",
   "execution_count": 183,
   "metadata": {},
   "outputs": [],
   "source": [
    "#tokenizing\n",
    "X_train_text = [tokenizer(sentence) for sentence in X_train_text]\n",
    "X_test_text = [tokenizer(sentence) for sentence in X_test_text]\n"
   ]
  },
  {
   "cell_type": "markdown",
   "metadata": {},
   "source": [
    "### 5.1.3 Lemmatizing"
   ]
  },
  {
   "cell_type": "code",
   "execution_count": 184,
   "metadata": {},
   "outputs": [],
   "source": [
    "def lemmatizer(sentence):\n",
    "    wnl = WordNetLemmatizer()\n",
    "    verbs_lemmatized = []\n",
    "    for word in sentence:\n",
    "        verbs_lemmatized.append(wnl.lemmatize(word, pos = 'v'))\n",
    "    nouns_lemmatized = []\n",
    "    for word in verbs_lemmatized:\n",
    "        nouns_lemmatized.append(wnl.lemmatize(word, pos = 'n'))\n",
    "    adverbs_lemmatized = []\n",
    "    for word in nouns_lemmatized:\n",
    "        adverbs_lemmatized.append(wnl.lemmatize(word, pos = 'r'))\n",
    "    adj_lemmatized = []\n",
    "    for word in adverbs_lemmatized:\n",
    "        adj_lemmatized.append(wnl.lemmatize(word, pos = 'a'))\n",
    "    sat_lemmatized = []\n",
    "    for word in adj_lemmatized:\n",
    "        sat_lemmatized.append(wnl.lemmatize(word, pos = 'a'))\n",
    "    return sat_lemmatized\n"
   ]
  },
  {
   "cell_type": "code",
   "execution_count": 185,
   "metadata": {},
   "outputs": [],
   "source": [
    "X_train_text = [lemmatizer(sentence) for sentence in X_train_text]\n",
    "X_test_text = [lemmatizer(sentence) for sentence in X_test_text]\n"
   ]
  },
  {
   "cell_type": "markdown",
   "metadata": {},
   "source": [
    "### 5.1.4 Removing Stopwords"
   ]
  },
  {
   "cell_type": "code",
   "execution_count": 186,
   "metadata": {},
   "outputs": [],
   "source": [
    "def removing_stopwords(sentence):\n",
    "    stop_words = set(stopwords.words('english'))\n",
    "    sentence_new = [w for w in sentence if not w in stop_words]\n",
    "    return sentence_new\n",
    "\n",
    "X_train_text = [removing_stopwords(sentence) for sentence in X_train_text]\n",
    "X_test_text = [removing_stopwords(sentence) for sentence in X_test_text]\n"
   ]
  },
  {
   "cell_type": "markdown",
   "metadata": {},
   "source": [
    "### 5.1.5 Creating Embeddings"
   ]
  },
  {
   "cell_type": "markdown",
   "metadata": {},
   "source": []
  },
  {
   "cell_type": "code",
   "execution_count": 187,
   "metadata": {},
   "outputs": [],
   "source": [
    "word2vec = Word2Vec(sentences=X_train_text, min_count=10)\n",
    "\n",
    "def embed_sentence(word2vec, sentence):\n",
    "    embedded_sentence = []\n",
    "    for word in sentence:\n",
    "        if word in word2vec.wv:\n",
    "            embedded_sentence.append(word2vec.wv[word])\n",
    "\n",
    "    return np.array(embedded_sentence)\n",
    "\n",
    "def embedding(word2vec, sentences):\n",
    "    embed = []\n",
    "\n",
    "    for sentence in sentences:\n",
    "        embedded_sentence = embed_sentence(word2vec, sentence)\n",
    "        embed.append(embedded_sentence)\n",
    "\n",
    "    return embed\n",
    "\n",
    "X_train_text = embedding(word2vec, X_train_text)\n",
    "X_test_text = embedding(word2vec, X_test_text)\n"
   ]
  },
  {
   "cell_type": "code",
   "execution_count": 188,
   "metadata": {},
   "outputs": [
    {
     "data": {
      "image/png": "[encoded data removed]",
      "text/plain": [
       "<Figure size 640x480 with 1 Axes>"
      ]
     },
     "metadata": {},
     "output_type": "display_data"
    }
   ],
   "source": [
    "sns.histplot([len(x) for x in X_train_text]);\n"
   ]
  },
  {
   "cell_type": "code",
   "execution_count": 189,
   "metadata": {},
   "outputs": [],
   "source": [
    "maxlen=105\n",
    "\n",
    "X_train_pad = pad_sequences(X_train_text, dtype=float, padding='post', maxlen=maxlen)\n",
    "X_test_pad = pad_sequences(X_test_text, dtype=float, padding='post', maxlen=maxlen)\n"
   ]
  },
  {
   "cell_type": "markdown",
   "metadata": {},
   "source": [
    "## 5.2 Model Training"
   ]
  },
  {
   "cell_type": "code",
   "execution_count": 201,
   "metadata": {},
   "outputs": [
    {
     "name": "stderr",
     "output_type": "stream",
     "text": [
      "WARNING:absl:At this time, the v2.11+ optimizer `tf.keras.optimizers.Adam` runs slowly on M1/M2 Macs, please use the legacy Keras optimizer instead, located at `tf.keras.optimizers.legacy.Adam`.\n"
     ]
    },
    {
     "name": "stdout",
     "output_type": "stream",
     "text": [
      "Model: \"sequential_19\"\n",
      "_________________________________________________________________\n",
      " Layer (type)                Output Shape              Param #   \n",
      "=================================================================\n",
      " lstm_19 (LSTM)              (None, 105)               86520     \n",
      "                                                                 \n",
      " dense_53 (Dense)            (None, 64)                6784      \n",
      "                                                                 \n",
      " dropout_34 (Dropout)        (None, 64)                0         \n",
      "                                                                 \n",
      " dense_54 (Dense)            (None, 6)                 390       \n",
      "                                                                 \n",
      "=================================================================\n",
      "Total params: 93694 (365.99 KB)\n",
      "Trainable params: 93694 (365.99 KB)\n",
      "Non-trainable params: 0 (0.00 Byte)\n",
      "_________________________________________________________________\n"
     ]
    }
   ],
   "source": [
    "def build_model_nlp():\n",
    "    model = Sequential([\n",
    "        # layers.Conv1D(105, kernel_size=15, padding='same', activation=\"relu\", input_shape=X_train_pad.shape[1:]),\n",
    "        # layers.Conv1D(64, kernel_size=10, padding='same', activation=\"relu\"),\n",
    "        # layers.Flatten(),\n",
    "        layers.LSTM(105, input_shape=X_train_pad.shape[1:]),\n",
    "        layers.Dense(64, activation='relu'),\n",
    "        layers.Dropout(0.15),\n",
    "        layers.Dense(6, activation='softmax'),\n",
    "    ])\n",
    "\n",
    "    model.compile(loss=\"sparse_categorical_crossentropy\", optimizer=Adam(), metrics=['accuracy'])\n",
    "    return model\n",
    "\n",
    "model_nlp = build_model_nlp()\n",
    "model_nlp.summary()\n"
   ]
  },
  {
   "cell_type": "code",
   "execution_count": 202,
   "metadata": {},
   "outputs": [
    {
     "name": "stderr",
     "output_type": "stream",
     "text": [
      "WARNING:absl:At this time, the v2.11+ optimizer `tf.keras.optimizers.Adam` runs slowly on M1/M2 Macs, please use the legacy Keras optimizer instead, located at `tf.keras.optimizers.legacy.Adam`.\n"
     ]
    },
    {
     "name": "stdout",
     "output_type": "stream",
     "text": [
      "Epoch 1/50\n",
      "73/73 [==============================] - 4s 45ms/step - loss: 1.7646 - accuracy: 0.2126 - val_loss: 1.6920 - val_accuracy: 0.2702\n",
      "Epoch 2/50\n",
      "73/73 [==============================] - 3s 42ms/step - loss: 1.6828 - accuracy: 0.2649 - val_loss: 1.6509 - val_accuracy: 0.2792\n",
      "Epoch 3/50\n",
      "73/73 [==============================] - 3s 41ms/step - loss: 1.6697 - accuracy: 0.2627 - val_loss: 1.6465 - val_accuracy: 0.2812\n",
      "Epoch 4/50\n",
      "73/73 [==============================] - 3s 41ms/step - loss: 1.6573 - accuracy: 0.2662 - val_loss: 1.6579 - val_accuracy: 0.2661\n",
      "Epoch 5/50\n",
      "73/73 [==============================] - 3s 41ms/step - loss: 1.6684 - accuracy: 0.2615 - val_loss: 1.7678 - val_accuracy: 0.2752\n",
      "Epoch 6/50\n",
      "73/73 [==============================] - 3s 44ms/step - loss: 1.6746 - accuracy: 0.2662 - val_loss: 1.6447 - val_accuracy: 0.2762\n",
      "Epoch 7/50\n",
      "73/73 [==============================] - 3s 41ms/step - loss: 1.6520 - accuracy: 0.2731 - val_loss: 1.6332 - val_accuracy: 0.2631\n",
      "Epoch 8/50\n",
      "73/73 [==============================] - 3s 41ms/step - loss: 1.6378 - accuracy: 0.2787 - val_loss: 1.6412 - val_accuracy: 0.2782\n",
      "Epoch 9/50\n",
      "73/73 [==============================] - 3s 43ms/step - loss: 1.6316 - accuracy: 0.2943 - val_loss: 1.6525 - val_accuracy: 0.2621\n",
      "Epoch 10/50\n",
      "73/73 [==============================] - 3s 43ms/step - loss: 1.6336 - accuracy: 0.2943 - val_loss: 1.6144 - val_accuracy: 0.2853\n",
      "Epoch 11/50\n",
      "73/73 [==============================] - 3s 43ms/step - loss: 1.6517 - accuracy: 0.2753 - val_loss: 1.6185 - val_accuracy: 0.2762\n",
      "Epoch 12/50\n",
      "73/73 [==============================] - 3s 43ms/step - loss: 1.6246 - accuracy: 0.2844 - val_loss: 1.6180 - val_accuracy: 0.2661\n",
      "Epoch 13/50\n",
      "73/73 [==============================] - 3s 45ms/step - loss: 1.6164 - accuracy: 0.2969 - val_loss: 1.6271 - val_accuracy: 0.2762\n",
      "Epoch 14/50\n",
      "73/73 [==============================] - 3s 42ms/step - loss: 1.6208 - accuracy: 0.2857 - val_loss: 1.6101 - val_accuracy: 0.2853\n",
      "Epoch 15/50\n",
      "73/73 [==============================] - 4s 49ms/step - loss: 1.6069 - accuracy: 0.2891 - val_loss: 1.6406 - val_accuracy: 0.2661\n",
      "Epoch 16/50\n",
      "73/73 [==============================] - 3s 45ms/step - loss: 1.6070 - accuracy: 0.3012 - val_loss: 1.5940 - val_accuracy: 0.2812\n",
      "Epoch 17/50\n",
      "73/73 [==============================] - 3s 43ms/step - loss: 1.6026 - accuracy: 0.3008 - val_loss: 1.6100 - val_accuracy: 0.2742\n",
      "Epoch 18/50\n",
      "73/73 [==============================] - 3s 43ms/step - loss: 1.5966 - accuracy: 0.3008 - val_loss: 1.6037 - val_accuracy: 0.2782\n",
      "Epoch 19/50\n",
      "73/73 [==============================] - 3s 44ms/step - loss: 1.5974 - accuracy: 0.2900 - val_loss: 1.6012 - val_accuracy: 0.3044\n",
      "Epoch 20/50\n",
      "73/73 [==============================] - 3s 43ms/step - loss: 1.5844 - accuracy: 0.2995 - val_loss: 1.5850 - val_accuracy: 0.3065\n",
      "Epoch 21/50\n",
      "73/73 [==============================] - 3s 43ms/step - loss: 1.5854 - accuracy: 0.3176 - val_loss: 1.5713 - val_accuracy: 0.3065\n",
      "Epoch 22/50\n",
      "73/73 [==============================] - 3s 43ms/step - loss: 1.5827 - accuracy: 0.3133 - val_loss: 1.5938 - val_accuracy: 0.2944\n",
      "Epoch 23/50\n",
      "73/73 [==============================] - 3s 44ms/step - loss: 1.5837 - accuracy: 0.3055 - val_loss: 1.5805 - val_accuracy: 0.3054\n",
      "Epoch 24/50\n",
      "73/73 [==============================] - 3s 42ms/step - loss: 1.5660 - accuracy: 0.3194 - val_loss: 1.5593 - val_accuracy: 0.3135\n",
      "Epoch 25/50\n",
      "73/73 [==============================] - 3s 44ms/step - loss: 1.5661 - accuracy: 0.3211 - val_loss: 1.5750 - val_accuracy: 0.3145\n",
      "Epoch 26/50\n",
      "73/73 [==============================] - 3s 43ms/step - loss: 1.5641 - accuracy: 0.3068 - val_loss: 1.5675 - val_accuracy: 0.3216\n",
      "Epoch 27/50\n",
      "73/73 [==============================] - 3s 42ms/step - loss: 1.5649 - accuracy: 0.3034 - val_loss: 1.5736 - val_accuracy: 0.3175\n",
      "Epoch 28/50\n",
      "73/73 [==============================] - 3s 43ms/step - loss: 1.5641 - accuracy: 0.3202 - val_loss: 1.5636 - val_accuracy: 0.3216\n",
      "Epoch 29/50\n",
      "73/73 [==============================] - 3s 41ms/step - loss: 1.5674 - accuracy: 0.3176 - val_loss: 1.5637 - val_accuracy: 0.3155\n",
      "Epoch 30/50\n",
      "73/73 [==============================] - 3s 41ms/step - loss: 1.5616 - accuracy: 0.3245 - val_loss: 1.5622 - val_accuracy: 0.3387\n",
      "Epoch 31/50\n",
      "73/73 [==============================] - 3s 41ms/step - loss: 1.5522 - accuracy: 0.3176 - val_loss: 1.5800 - val_accuracy: 0.3175\n",
      "Epoch 32/50\n",
      "73/73 [==============================] - 3s 45ms/step - loss: 1.5475 - accuracy: 0.3271 - val_loss: 1.5711 - val_accuracy: 0.3034\n",
      "Epoch 33/50\n",
      "73/73 [==============================] - 3s 41ms/step - loss: 1.5559 - accuracy: 0.3267 - val_loss: 1.5757 - val_accuracy: 0.3367\n",
      "Epoch 34/50\n",
      "73/73 [==============================] - 3s 42ms/step - loss: 1.5457 - accuracy: 0.3198 - val_loss: 1.5636 - val_accuracy: 0.3387\n"
     ]
    },
    {
     "data": {
      "text/plain": [
       "<keras.src.callbacks.History at 0x282085690>"
      ]
     },
     "execution_count": 202,
     "metadata": {},
     "output_type": "execute_result"
    }
   ],
   "source": [
    "es = EarlyStopping(patience=10, restore_best_weights=True)\n",
    "\n",
    "model_nlp = build_model_nlp()\n",
    "model_nlp.fit(X_train_pad, y_train,\n",
    "          validation_split=0.3,\n",
    "          epochs=50,\n",
    "          batch_size=32,\n",
    "          callbacks=[es]\n",
    "          )\n"
   ]
  },
  {
   "cell_type": "markdown",
   "metadata": {},
   "source": [
    "## 5.3 Model Evaluation"
   ]
  },
  {
   "cell_type": "code",
   "execution_count": 203,
   "metadata": {},
   "outputs": [
    {
     "name": "stdout",
     "output_type": "stream",
     "text": [
      "45/45 [==============================] - 1s 13ms/step - loss: 1.5984 - accuracy: 0.3173\n",
      "Test loss: 1.5984\n",
      "Test accuracy: 0.3173\n"
     ]
    }
   ],
   "source": [
    "loss, accuracy = model_nlp.evaluate(X_test_pad, y_test)\n",
    "print(f'Test loss: {loss:.4f}')\n",
    "print(f'Test accuracy: {accuracy:.4f}')\n"
   ]
  },
  {
   "cell_type": "code",
   "execution_count": 204,
   "metadata": {},
   "outputs": [
    {
     "name": "stdout",
     "output_type": "stream",
     "text": [
      "45/45 [==============================] - 1s 12ms/step\n"
     ]
    }
   ],
   "source": [
    "predictions = model_nlp.predict(X_test_pad)\n",
    "\n",
    "# Convert probabilities to class labels\n",
    "class_labels_predictions = np.argmax(predictions, axis=1)\n"
   ]
  },
  {
   "cell_type": "code",
   "execution_count": 205,
   "metadata": {},
   "outputs": [
    {
     "data": {
      "image/png": "[encoded data removed]",
      "text/plain": [
       "<Figure size 1500x1500 with 2 Axes>"
      ]
     },
     "metadata": {},
     "output_type": "display_data"
    }
   ],
   "source": [
    "y_true = y_test\n",
    "y_pred = class_labels_predictions\n",
    "\n",
    "cm = confusion_matrix(y_true, y_pred)\n",
    "\n",
    "# Plotting\n",
    "fig, ax = plt.subplots(figsize=(15,15))\n",
    "sns.heatmap(cm, annot=True, ax=ax, cmap='Blues', fmt='g')\n",
    "\n",
    "# labels, title, and ticks\n",
    "ax.set_xlabel('Predicted labels')\n",
    "ax.set_ylabel('True labels')\n",
    "ax.set_title('Confusion Matrix')\n",
    "\n",
    "ax.xaxis.set_ticklabels(labels_dict.keys()) # replace with your class names\n",
    "ax.yaxis.set_ticklabels(labels_dict.keys()) # replace with your class names\n",
    "plt.show()\n"
   ]
  },
  {
   "cell_type": "markdown",
   "metadata": {},
   "source": [
    "# 6. Model with numerical features"
   ]
  },
  {
   "cell_type": "code",
   "execution_count": 206,
   "metadata": {},
   "outputs": [],
   "source": [
    "X_train_num = X_train.drop(columns=['Excerpt'])\n",
    "X_test_num = X_test.drop(columns=['Excerpt'])\n"
   ]
  },
  {
   "cell_type": "markdown",
   "metadata": {},
   "source": [
    "## 6.1 Preprocessing"
   ]
  },
  {
   "cell_type": "markdown",
   "metadata": {},
   "source": [
    "### 6.1.1 Scaling"
   ]
  },
  {
   "cell_type": "code",
   "execution_count": 207,
   "metadata": {},
   "outputs": [],
   "source": [
    "scaler = StandardScaler()\n",
    "scaler.fit(X_train_num)\n",
    "X_train_num = scaler.transform(X_train_num)\n",
    "X_test_num = scaler.transform(X_test_num)\n"
   ]
  },
  {
   "cell_type": "markdown",
   "metadata": {},
   "source": [
    "## 6.2 Model Training"
   ]
  },
  {
   "cell_type": "code",
   "execution_count": 217,
   "metadata": {},
   "outputs": [
    {
     "name": "stderr",
     "output_type": "stream",
     "text": [
      "WARNING:absl:At this time, the v2.11+ optimizer `tf.keras.optimizers.Adam` runs slowly on M1/M2 Macs, please use the legacy Keras optimizer instead, located at `tf.keras.optimizers.legacy.Adam`.\n"
     ]
    },
    {
     "name": "stdout",
     "output_type": "stream",
     "text": [
      "Model: \"sequential_27\"\n",
      "_________________________________________________________________\n",
      " Layer (type)                Output Shape              Param #   \n",
      "=================================================================\n",
      " dense_85 (Dense)            (None, 356)               10680     \n",
      "                                                                 \n",
      " dropout_52 (Dropout)        (None, 356)               0         \n",
      "                                                                 \n",
      " dense_86 (Dense)            (None, 128)               45696     \n",
      "                                                                 \n",
      " dropout_53 (Dropout)        (None, 128)               0         \n",
      "                                                                 \n",
      " dense_87 (Dense)            (None, 64)                8256      \n",
      "                                                                 \n",
      " dropout_54 (Dropout)        (None, 64)                0         \n",
      "                                                                 \n",
      " dense_88 (Dense)            (None, 32)                2080      \n",
      "                                                                 \n",
      " dropout_55 (Dropout)        (None, 32)                0         \n",
      "                                                                 \n",
      " dense_89 (Dense)            (None, 6)                 198       \n",
      "                                                                 \n",
      "=================================================================\n",
      "Total params: 66910 (261.37 KB)\n",
      "Trainable params: 66910 (261.37 KB)\n",
      "Non-trainable params: 0 (0.00 Byte)\n",
      "_________________________________________________________________\n"
     ]
    }
   ],
   "source": [
    "def build_model_num():\n",
    "    model = Sequential([\n",
    "        layers.Dense(356, activation=\"relu\", input_dim = X_train_num.shape[1]),\n",
    "        layers.Dropout(0.25),\n",
    "        layers.Dense(128, activation=\"relu\"),\n",
    "        layers.Dropout(0.25),\n",
    "        layers.Dense(64, activation=\"relu\"),\n",
    "        layers.Dropout(0.25),\n",
    "        layers.Dense(32, activation=\"relu\"),\n",
    "        layers.Dropout(0.15),\n",
    "        layers.Dense(6, activation='softmax')\n",
    "    ])\n",
    "\n",
    "    model.compile(loss=\"sparse_categorical_crossentropy\", optimizer=Adam(), metrics=['accuracy'])\n",
    "    return model\n",
    "\n",
    "model_num = build_model_num()\n",
    "model_num.summary()\n"
   ]
  },
  {
   "cell_type": "code",
   "execution_count": 218,
   "metadata": {},
   "outputs": [
    {
     "name": "stderr",
     "output_type": "stream",
     "text": [
      "WARNING:absl:At this time, the v2.11+ optimizer `tf.keras.optimizers.Adam` runs slowly on M1/M2 Macs, please use the legacy Keras optimizer instead, located at `tf.keras.optimizers.legacy.Adam`.\n"
     ]
    },
    {
     "name": "stdout",
     "output_type": "stream",
     "text": [
      "Epoch 1/50\n",
      "73/73 [==============================] - 0s 2ms/step - loss: 1.6894 - accuracy: 0.2537 - val_loss: 1.5649 - val_accuracy: 0.3347\n",
      "Epoch 2/50\n",
      "73/73 [==============================] - 0s 1ms/step - loss: 1.5642 - accuracy: 0.3064 - val_loss: 1.5166 - val_accuracy: 0.3377\n",
      "Epoch 3/50\n",
      "73/73 [==============================] - 0s 1ms/step - loss: 1.5267 - accuracy: 0.3280 - val_loss: 1.4903 - val_accuracy: 0.3538\n",
      "Epoch 4/50\n",
      "73/73 [==============================] - 0s 1ms/step - loss: 1.4935 - accuracy: 0.3652 - val_loss: 1.4858 - val_accuracy: 0.3589\n",
      "Epoch 5/50\n",
      "73/73 [==============================] - 0s 1ms/step - loss: 1.4893 - accuracy: 0.3526 - val_loss: 1.4754 - val_accuracy: 0.3478\n",
      "Epoch 6/50\n",
      "73/73 [==============================] - 0s 2ms/step - loss: 1.4742 - accuracy: 0.3660 - val_loss: 1.4777 - val_accuracy: 0.3649\n",
      "Epoch 7/50\n",
      "73/73 [==============================] - 0s 1ms/step - loss: 1.4598 - accuracy: 0.3587 - val_loss: 1.4758 - val_accuracy: 0.3548\n",
      "Epoch 8/50\n",
      "73/73 [==============================] - 0s 1ms/step - loss: 1.4587 - accuracy: 0.3686 - val_loss: 1.4662 - val_accuracy: 0.3558\n",
      "Epoch 9/50\n",
      "73/73 [==============================] - 0s 1ms/step - loss: 1.4360 - accuracy: 0.3639 - val_loss: 1.4614 - val_accuracy: 0.3589\n",
      "Epoch 10/50\n",
      "73/73 [==============================] - 0s 1ms/step - loss: 1.4220 - accuracy: 0.3790 - val_loss: 1.4648 - val_accuracy: 0.3417\n",
      "Epoch 11/50\n",
      "73/73 [==============================] - 0s 1ms/step - loss: 1.4120 - accuracy: 0.3816 - val_loss: 1.4749 - val_accuracy: 0.3498\n",
      "Epoch 12/50\n",
      "73/73 [==============================] - 0s 1ms/step - loss: 1.4083 - accuracy: 0.3881 - val_loss: 1.4543 - val_accuracy: 0.3730\n",
      "Epoch 13/50\n",
      "73/73 [==============================] - 0s 1ms/step - loss: 1.3905 - accuracy: 0.3868 - val_loss: 1.4556 - val_accuracy: 0.3780\n",
      "Epoch 14/50\n",
      "73/73 [==============================] - 0s 1ms/step - loss: 1.3960 - accuracy: 0.3924 - val_loss: 1.4669 - val_accuracy: 0.3669\n",
      "Epoch 15/50\n",
      "73/73 [==============================] - 0s 1ms/step - loss: 1.3892 - accuracy: 0.4006 - val_loss: 1.4711 - val_accuracy: 0.3498\n",
      "Epoch 16/50\n",
      "73/73 [==============================] - 0s 1ms/step - loss: 1.3927 - accuracy: 0.3863 - val_loss: 1.4641 - val_accuracy: 0.3538\n",
      "Epoch 17/50\n",
      "73/73 [==============================] - 0s 1ms/step - loss: 1.3745 - accuracy: 0.4028 - val_loss: 1.4623 - val_accuracy: 0.3558\n",
      "Epoch 18/50\n",
      "73/73 [==============================] - 0s 1ms/step - loss: 1.3727 - accuracy: 0.4131 - val_loss: 1.4707 - val_accuracy: 0.3669\n",
      "Epoch 19/50\n",
      "73/73 [==============================] - 0s 1ms/step - loss: 1.3749 - accuracy: 0.4028 - val_loss: 1.4650 - val_accuracy: 0.3629\n",
      "Epoch 20/50\n",
      "73/73 [==============================] - 0s 1ms/step - loss: 1.3502 - accuracy: 0.4244 - val_loss: 1.4717 - val_accuracy: 0.3498\n",
      "Epoch 21/50\n",
      "73/73 [==============================] - 0s 1ms/step - loss: 1.3534 - accuracy: 0.4062 - val_loss: 1.4840 - val_accuracy: 0.3599\n",
      "Epoch 22/50\n",
      "73/73 [==============================] - 0s 1ms/step - loss: 1.3388 - accuracy: 0.4239 - val_loss: 1.4985 - val_accuracy: 0.3508\n"
     ]
    },
    {
     "data": {
      "text/plain": [
       "<keras.src.callbacks.History at 0x2da6a7ac0>"
      ]
     },
     "execution_count": 218,
     "metadata": {},
     "output_type": "execute_result"
    }
   ],
   "source": [
    "es = EarlyStopping(patience=10, restore_best_weights=True)\n",
    "model_num = build_model_num()\n",
    "model_num.fit(X_train_num, y_train,\n",
    "          validation_split=0.3,\n",
    "          epochs=50,\n",
    "          batch_size=32,\n",
    "          callbacks=[es]\n",
    "          )\n"
   ]
  },
  {
   "cell_type": "markdown",
   "metadata": {},
   "source": [
    "## 6.3 Model Evaluation"
   ]
  },
  {
   "cell_type": "code",
   "execution_count": 219,
   "metadata": {},
   "outputs": [
    {
     "name": "stdout",
     "output_type": "stream",
     "text": [
      "45/45 [==============================] - 1s 14ms/step - loss: 1.5984 - accuracy: 0.3173\n",
      "Test loss: 1.5984\n",
      "Test accuracy: 0.3173\n"
     ]
    }
   ],
   "source": [
    "loss, accuracy = model_nlp.evaluate(X_test_pad, y_test)\n",
    "print(f'Test loss: {loss:.4f}')\n",
    "print(f'Test accuracy: {accuracy:.4f}')\n"
   ]
  },
  {
   "cell_type": "code",
   "execution_count": 220,
   "metadata": {},
   "outputs": [
    {
     "name": "stdout",
     "output_type": "stream",
     "text": [
      "45/45 [==============================] - 0s 613us/step\n"
     ]
    },
    {
     "data": {
      "image/png": "[encoded data removed]",
      "text/plain": [
       "<Figure size 1500x1500 with 2 Axes>"
      ]
     },
     "metadata": {},
     "output_type": "display_data"
    }
   ],
   "source": [
    "predictions = model_num.predict(X_test_num)\n",
    "\n",
    "# Convert probabilities to class labels\n",
    "class_labels_predictions = np.argmax(predictions, axis=1)\n",
    "\n",
    "y_true = y_test\n",
    "y_pred = class_labels_predictions\n",
    "\n",
    "cm = confusion_matrix(y_true, y_pred)\n",
    "\n",
    "# Plotting\n",
    "fig, ax = plt.subplots(figsize=(15,15))\n",
    "sns.heatmap(cm, annot=True, ax=ax, cmap='Blues', fmt='g')\n",
    "\n",
    "# labels, title, and ticks\n",
    "ax.set_xlabel('Predicted labels')\n",
    "ax.set_ylabel('True labels')\n",
    "ax.set_title('Confusion Matrix')\n",
    "\n",
    "ax.xaxis.set_ticklabels(labels_dict.keys()) # replace with your class names\n",
    "ax.yaxis.set_ticklabels(labels_dict.keys()) # replace with your class names\n",
    "plt.show()\n"
   ]
  },
  {
   "cell_type": "markdown",
   "metadata": {},
   "source": [
    "# 7. Combining the models"
   ]
  },
  {
   "cell_type": "code",
   "execution_count": 227,
   "metadata": {},
   "outputs": [
    {
     "name": "stderr",
     "output_type": "stream",
     "text": [
      "WARNING:absl:At this time, the v2.11+ optimizer `tf.keras.optimizers.Adam` runs slowly on M1/M2 Macs, please use the legacy Keras optimizer instead, located at `tf.keras.optimizers.legacy.Adam`.\n",
      "WARNING:absl:At this time, the v2.11+ optimizer `tf.keras.optimizers.Adam` runs slowly on M1/M2 Macs, please use the legacy Keras optimizer instead, located at `tf.keras.optimizers.legacy.Adam`.\n"
     ]
    }
   ],
   "source": [
    "# Define Inputs and Outputs of NLP model as with Numeric Model\n",
    "model_nlp = build_model_nlp() # comment-out to keep pre-trained weights not to start from scratch\n",
    "input_text = model_nlp.input\n",
    "output_text = model_nlp.output\n",
    "\n",
    "model_num = build_model_num() # comment-out to keep pre-trained weights not to start from scratch\n",
    "input_num = model_num.input\n",
    "output_num = model_num.output\n"
   ]
  },
  {
   "cell_type": "code",
   "execution_count": 228,
   "metadata": {},
   "outputs": [],
   "source": [
    "# Let's combine the two streams of data and add two dense layers on top!\n",
    "inputs = [input_text, input_num]\n",
    "\n",
    "combined = layers.concatenate([output_text, output_num])\n",
    "\n",
    "x = layers.Dense(32, activation=\"relu\")(combined)\n",
    "x = layers.Dropout(0.25)(x)\n",
    "x = layers.Dense(16, activation=\"relu\")(x)\n",
    "\n",
    "outputs = layers.Dense(6, activation=\"softmax\")(x)\n",
    "\n",
    "model_combined = models.Model(inputs=inputs, outputs=outputs)\n"
   ]
  },
  {
   "cell_type": "code",
   "execution_count": 229,
   "metadata": {},
   "outputs": [
    {
     "name": "stderr",
     "output_type": "stream",
     "text": [
      "WARNING:absl:At this time, the v2.11+ optimizer `tf.keras.optimizers.Adam` runs slowly on M1/M2 Macs, please use the legacy Keras optimizer instead, located at `tf.keras.optimizers.legacy.Adam`.\n"
     ]
    },
    {
     "name": "stdout",
     "output_type": "stream",
     "text": [
      "Epoch 1/100\n",
      "73/73 [==============================] - 4s 45ms/step - loss: 1.7527 - accuracy: 0.2446 - val_loss: 1.6554 - val_accuracy: 0.3145\n",
      "Epoch 2/100\n",
      "73/73 [==============================] - 3s 42ms/step - loss: 1.6114 - accuracy: 0.3111 - val_loss: 1.5559 - val_accuracy: 0.3256\n",
      "Epoch 3/100\n",
      "73/73 [==============================] - 3s 42ms/step - loss: 1.5534 - accuracy: 0.3250 - val_loss: 1.5092 - val_accuracy: 0.3357\n",
      "Epoch 4/100\n",
      "73/73 [==============================] - 3s 41ms/step - loss: 1.5162 - accuracy: 0.3440 - val_loss: 1.4973 - val_accuracy: 0.3448\n",
      "Epoch 5/100\n",
      "73/73 [==============================] - 3s 42ms/step - loss: 1.4996 - accuracy: 0.3431 - val_loss: 1.4850 - val_accuracy: 0.3569\n",
      "Epoch 6/100\n",
      "73/73 [==============================] - 3s 42ms/step - loss: 1.4822 - accuracy: 0.3561 - val_loss: 1.4617 - val_accuracy: 0.3690\n",
      "Epoch 7/100\n",
      "73/73 [==============================] - 3s 41ms/step - loss: 1.4760 - accuracy: 0.3621 - val_loss: 1.4672 - val_accuracy: 0.3740\n",
      "Epoch 8/100\n",
      "73/73 [==============================] - 3s 43ms/step - loss: 1.4623 - accuracy: 0.3583 - val_loss: 1.4603 - val_accuracy: 0.3730\n",
      "Epoch 9/100\n",
      "73/73 [==============================] - 3s 42ms/step - loss: 1.4512 - accuracy: 0.3717 - val_loss: 1.4517 - val_accuracy: 0.3881\n",
      "Epoch 10/100\n",
      "73/73 [==============================] - 3s 42ms/step - loss: 1.4481 - accuracy: 0.3742 - val_loss: 1.4487 - val_accuracy: 0.3740\n",
      "Epoch 11/100\n",
      "73/73 [==============================] - 3s 42ms/step - loss: 1.4350 - accuracy: 0.3812 - val_loss: 1.4739 - val_accuracy: 0.3679\n",
      "Epoch 12/100\n",
      "73/73 [==============================] - 3s 42ms/step - loss: 1.4359 - accuracy: 0.3755 - val_loss: 1.4541 - val_accuracy: 0.3599\n",
      "Epoch 13/100\n",
      "73/73 [==============================] - 3s 41ms/step - loss: 1.4236 - accuracy: 0.3760 - val_loss: 1.4639 - val_accuracy: 0.3639\n",
      "Epoch 14/100\n",
      "73/73 [==============================] - 3s 42ms/step - loss: 1.4193 - accuracy: 0.3773 - val_loss: 1.4650 - val_accuracy: 0.3669\n",
      "Epoch 15/100\n",
      "73/73 [==============================] - 3s 42ms/step - loss: 1.4254 - accuracy: 0.3807 - val_loss: 1.4672 - val_accuracy: 0.3609\n",
      "Epoch 16/100\n",
      "73/73 [==============================] - 3s 42ms/step - loss: 1.4162 - accuracy: 0.3842 - val_loss: 1.4580 - val_accuracy: 0.3619\n",
      "Epoch 17/100\n",
      "73/73 [==============================] - 3s 42ms/step - loss: 1.3975 - accuracy: 0.3833 - val_loss: 1.4524 - val_accuracy: 0.3690\n",
      "Epoch 18/100\n",
      "73/73 [==============================] - 3s 46ms/step - loss: 1.3964 - accuracy: 0.3950 - val_loss: 1.4798 - val_accuracy: 0.3478\n",
      "Epoch 19/100\n",
      "73/73 [==============================] - 3s 44ms/step - loss: 1.3940 - accuracy: 0.3695 - val_loss: 1.4538 - val_accuracy: 0.3669\n",
      "Epoch 20/100\n",
      "73/73 [==============================] - 3s 41ms/step - loss: 1.3804 - accuracy: 0.3954 - val_loss: 1.4728 - val_accuracy: 0.3558\n"
     ]
    },
    {
     "data": {
      "text/plain": [
       "<keras.src.callbacks.History at 0x2cda67af0>"
      ]
     },
     "execution_count": 229,
     "metadata": {},
     "output_type": "execute_result"
    }
   ],
   "source": [
    "model_combined.compile(loss=\"sparse_categorical_crossentropy\", optimizer=Adam(), metrics=['accuracy'])\n",
    "es = EarlyStopping(patience=10, restore_best_weights=True)\n",
    "\n",
    "model_combined.fit(x=[X_train_pad, X_train_num],\n",
    "                   y=y_train,\n",
    "                   validation_split=0.3,\n",
    "                   epochs=100,\n",
    "                   batch_size=32,\n",
    "                   callbacks=[es])\n"
   ]
  },
  {
   "cell_type": "code",
   "execution_count": 224,
   "metadata": {},
   "outputs": [
    {
     "name": "stdout",
     "output_type": "stream",
     "text": [
      "45/45 [==============================] - 1s 13ms/step - loss: 1.4621 - accuracy: 0.3639\n",
      "Test loss: 1.4621\n",
      "Test accuracy: 0.3639\n"
     ]
    }
   ],
   "source": [
    "loss, accuracy = model_combined.evaluate([X_test_pad, X_test_num], y_test)\n",
    "print(f'Test loss: {loss:.4f}')\n",
    "print(f'Test accuracy: {accuracy:.4f}')\n"
   ]
  },
  {
   "cell_type": "code",
   "execution_count": 225,
   "metadata": {},
   "outputs": [
    {
     "name": "stdout",
     "output_type": "stream",
     "text": [
      "45/45 [==============================] - 1s 12ms/step\n"
     ]
    }
   ],
   "source": [
    "predictions = model_combined.predict([X_test_pad, X_test_num])\n",
    "\n",
    "# Convert probabilities to class labels\n",
    "class_labels_predictions = np.argmax(predictions, axis=1)\n"
   ]
  },
  {
   "cell_type": "code",
   "execution_count": 226,
   "metadata": {},
   "outputs": [
    {
     "data": {
      "image/png": "[encoded data removed]",
      "text/plain": [
       "<Figure size 1500x1500 with 2 Axes>"
      ]
     },
     "metadata": {},
     "output_type": "display_data"
    }
   ],
   "source": [
    "y_true = y_test\n",
    "y_pred = class_labels_predictions\n",
    "\n",
    "cm = confusion_matrix(y_true, y_pred)\n",
    "\n",
    "# Plotting\n",
    "fig, ax = plt.subplots(figsize=(15,15))\n",
    "sns.heatmap(cm, annot=True, ax=ax, cmap='Blues', fmt='g')\n",
    "\n",
    "# labels, title, and ticks\n",
    "ax.set_xlabel('Predicted labels')\n",
    "ax.set_ylabel('True labels')\n",
    "ax.set_title('Confusion Matrix')\n",
    "\n",
    "ax.xaxis.set_ticklabels(labels_dict.keys()) # replace with your class names\n",
    "ax.yaxis.set_ticklabels(labels_dict.keys()) # replace with your class names\n",
    "plt.show()\n"
   ]
  },
  {
   "cell_type": "markdown",
   "metadata": {},
   "source": []
  }
 ],
 "metadata": {
  "kernelspec": {
   "display_name": "neuroCraft",
   "language": "python",
   "name": "python3"
  },
  "language_info": {
   "codemirror_mode": {
    "name": "ipython",
    "version": 3
   },
   "file_extension": ".py",
   "mimetype": "text/x-python",
   "name": "python",
   "nbconvert_exporter": "python",
   "pygments_lexer": "ipython3",
   "version": "3.10.6"
  }
 },
 "nbformat": 4,
 "nbformat_minor": 2
}
