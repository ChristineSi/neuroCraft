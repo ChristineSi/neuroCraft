{
 "cells": [
  {
   "cell_type": "code",
   "execution_count": 2,
   "metadata": {},
   "outputs": [
    {
     "name": "stderr",
     "output_type": "stream",
     "text": [
      "2023-12-07 14:29:14.986562: I external/local_tsl/tsl/cuda/cudart_stub.cc:31] Could not find cuda drivers on your machine, GPU will not be used.\n",
      "2023-12-07 14:29:15.286123: E external/local_xla/xla/stream_executor/cuda/cuda_dnn.cc:9261] Unable to register cuDNN factory: Attempting to register factory for plugin cuDNN when one has already been registered\n",
      "2023-12-07 14:29:15.286223: E external/local_xla/xla/stream_executor/cuda/cuda_fft.cc:607] Unable to register cuFFT factory: Attempting to register factory for plugin cuFFT when one has already been registered\n",
      "2023-12-07 14:29:15.335932: E external/local_xla/xla/stream_executor/cuda/cuda_blas.cc:1515] Unable to register cuBLAS factory: Attempting to register factory for plugin cuBLAS when one has already been registered\n",
      "2023-12-07 14:29:15.439312: I external/local_tsl/tsl/cuda/cudart_stub.cc:31] Could not find cuda drivers on your machine, GPU will not be used.\n",
      "2023-12-07 14:29:15.441256: I tensorflow/core/platform/cpu_feature_guard.cc:182] This TensorFlow binary is optimized to use available CPU instructions in performance-critical operations.\n",
      "To enable the following instructions: AVX2 FMA, in other operations, rebuild TensorFlow with the appropriate compiler flags.\n",
      "2023-12-07 14:29:17.759146: W tensorflow/compiler/tf2tensorrt/utils/py_utils.cc:38] TF-TRT Warning: Could not find TensorRT\n"
     ]
    }
   ],
   "source": [
    "import pandas as pd\n",
    "import numpy as np\n",
    "from tensorflow.keras.preprocessing.sequence import pad_sequences\n",
    "from tensorflow.keras.models import Sequential\n",
    "from tensorflow.keras.layers import Dense, Dropout, Embedding, LSTM\n",
    "from tensorflow.keras.optimizers import Adam\n",
    "from tensorflow.keras.callbacks import EarlyStopping\n",
    "from gensim.models import KeyedVectors\n",
    "from tensorflow.keras.preprocessing.text import text_to_word_sequence\n",
    "from sklearn.model_selection import train_test_split\n",
    "from sklearn.preprocessing import LabelEncoder\n",
    "import string\n",
    "import re\n",
    "from nltk.corpus import stopwords\n",
    "from nltk.stem import WordNetLemmatizer\n"
   ]
  },
  {
   "cell_type": "code",
   "execution_count": 3,
   "metadata": {},
   "outputs": [],
   "source": [
    "df = pd.read_csv('../raw_data/CLEAR Corpus 6.01 - CLEAR Corpus 6.01.csv')\n",
    "df = df.drop(columns=['Last Changed', 'URL', 'Anthology', 'MPAA \\n#Max', 'Pub Year', 'MPAA\\n#Avg', 'License', 'British Words', 'firstPlace_pred', 'secondPlace_pred', 'thirdPlace_pred',\n",
    "       'fourthPlace_pred', 'fifthPlace_pred', 'sixthPlace_pred', 'ID', 'Author', 'Title', 'Source', 'Category', 'Location', 'MPAA\\nMax', 'BT s.e.', 'Kaggle split'])\n"
   ]
  },
  {
   "cell_type": "code",
   "execution_count": 4,
   "metadata": {},
   "outputs": [],
   "source": [
    "df['len_char'] = df['Excerpt'].apply(lambda x: len(x))\n",
    "\n",
    "def count_punctuation(x):\n",
    "    punc = string.punctuation\n",
    "    count=0\n",
    "    for char in x:\n",
    "        if char in punc:\n",
    "            count+=1\n",
    "    return count/ len(x)\n",
    "\n",
    "df['punctuation_ratio'] = df['Excerpt'].apply(count_punctuation)\n",
    "\n",
    "\n",
    "\n",
    "def sentence_len(x):\n",
    "    x = x.replace(\"?\",'.').replace(\"!\",'.')\n",
    "    sentences = x.split('.')\n",
    "    sentences = [sentence for sentence in sentences if len(sentence) > 0]\n",
    "    sent_len = [len(sentence.split()) for sentence in sentences]\n",
    "    return np.mean(sent_len)\n",
    "\n",
    "df['avg_sentence_len'] = df['Excerpt'].apply(sentence_len)\n",
    "\n",
    "\n",
    "def avg_word_lenght(x):\n",
    "    punctuation = string.punctuation\n",
    "    for punc in punctuation:\n",
    "        x = x.replace(punc,' ')\n",
    "    words = x.split(' ')\n",
    "    words = [word for word in words if len(word) > 0]\n",
    "    word_len = [len(word) for word in words]\n",
    "    return np.mean(word_len)\n",
    "\n",
    "df['avg_word_len'] = df['Excerpt'].apply(avg_word_lenght)\n",
    "\n",
    "df['avg_word_sent'] = df['Google\\nWC']/df['Sentence\\nCount v1']\n"
   ]
  },
  {
   "cell_type": "code",
   "execution_count": 5,
   "metadata": {},
   "outputs": [],
   "source": [
    "quantiles = df['BT Easiness'].quantile([0, 0.1667, 0.3333, 0.5, 0.6667, 0.8333, 1]).tolist()\n",
    "\n",
    "# Correct number of labels for 6 bins\n",
    "labels_dict = {'very hard':0, 'hard':1, 'moderately hard':2, 'acceptable':3, 'easy':4, 'very easy':5}\n",
    "\n",
    "# Using 'quantiles' for bins and including 6 labels\n",
    "df['BT Easiness'] = pd.cut(\n",
    "    x=df['BT Easiness'],\n",
    "    bins=quantiles,\n",
    "    labels=labels_dict.values(),\n",
    "    include_lowest=True\n",
    ")\n"
   ]
  },
  {
   "cell_type": "code",
   "execution_count": 6,
   "metadata": {},
   "outputs": [],
   "source": [
    "X = df.drop(columns=['BT Easiness'])\n",
    "y = df['BT Easiness']\n",
    "\n",
    "X_train, X_test, y_train, y_test = train_test_split(X, y, test_size=0.3, random_state=42)\n"
   ]
  },
  {
   "cell_type": "code",
   "execution_count": 7,
   "metadata": {},
   "outputs": [],
   "source": [
    "X_train_text = X_train['Excerpt'].values\n",
    "X_test_text = X_test['Excerpt'].values\n"
   ]
  },
  {
   "cell_type": "code",
   "execution_count": 9,
   "metadata": {},
   "outputs": [
    {
     "name": "stdout",
     "output_type": "stream",
     "text": [
      "Loading Glove Model\n",
      "400000 words loaded!\n"
     ]
    }
   ],
   "source": [
    "# Load GloVe embeddings\n",
    "def load_glove_model(file):\n",
    "    print(\"Loading Glove Model\")\n",
    "    glove_model = {}\n",
    "    with open(file, 'r') as f:\n",
    "        for line in f:\n",
    "            split_line = line.split()\n",
    "            word = split_line[0]\n",
    "            embedding = np.array(split_line[1:], dtype=np.float64)\n",
    "            glove_model[word] = embedding\n",
    "    print(f\"{len(glove_model)} words loaded!\")\n",
    "    return glove_model\n",
    "\n",
    "# Replace the path with the correct path to your GloVe file\n",
    "glove_path = \"/home/patricia/code/ChristineSi/neuroCraft/raw_data/glove.6B.300d.txt\"\n",
    "\n",
    "# Load GloVe embeddings using your function\n",
    "glove_model = load_glove_model(glove_path)\n"
   ]
  },
  {
   "cell_type": "markdown",
   "metadata": {},
   "source": [
    "## Preprocessing"
   ]
  },
  {
   "cell_type": "code",
   "execution_count": 12,
   "metadata": {},
   "outputs": [
    {
     "name": "stdout",
     "output_type": "stream",
     "text": [
      "Epoch 1/50\n"
     ]
    },
    {
     "name": "stderr",
     "output_type": "stream",
     "text": [
      "2023-12-07 14:01:45.845787: W external/local_tsl/tsl/framework/cpu_allocator_impl.cc:83] Allocation of 291564000 exceeds 10% of free system memory.\n"
     ]
    },
    {
     "name": "stdout",
     "output_type": "stream",
     "text": [
      "73/73 [==============================] - ETA: 0s - loss: 1.7481 - accuracy: 0.2096"
     ]
    },
    {
     "name": "stderr",
     "output_type": "stream",
     "text": [
      "2023-12-07 14:02:00.709442: W external/local_tsl/tsl/framework/cpu_allocator_impl.cc:83] Allocation of 124992000 exceeds 10% of free system memory.\n"
     ]
    },
    {
     "name": "stdout",
     "output_type": "stream",
     "text": [
      "73/73 [==============================] - 17s 182ms/step - loss: 1.7481 - accuracy: 0.2096 - val_loss: 1.6560 - val_accuracy: 0.2681\n",
      "Epoch 2/50\n",
      "73/73 [==============================] - 9s 120ms/step - loss: 1.6464 - accuracy: 0.2727 - val_loss: 1.6309 - val_accuracy: 0.2742\n",
      "Epoch 3/50\n",
      "73/73 [==============================] - 9s 121ms/step - loss: 1.6111 - accuracy: 0.2908 - val_loss: 1.6837 - val_accuracy: 0.2540\n",
      "Epoch 4/50\n",
      "73/73 [==============================] - 10s 130ms/step - loss: 1.5978 - accuracy: 0.3038 - val_loss: 1.6478 - val_accuracy: 0.2601\n",
      "Epoch 5/50\n",
      "73/73 [==============================] - 9s 122ms/step - loss: 1.5425 - accuracy: 0.3168 - val_loss: 1.5614 - val_accuracy: 0.3115\n",
      "Epoch 6/50\n",
      "73/73 [==============================] - 8s 115ms/step - loss: 1.4906 - accuracy: 0.3583 - val_loss: 1.5984 - val_accuracy: 0.3196\n",
      "Epoch 7/50\n",
      "73/73 [==============================] - 9s 122ms/step - loss: 1.4483 - accuracy: 0.3704 - val_loss: 1.5278 - val_accuracy: 0.3367\n",
      "Epoch 8/50\n",
      "73/73 [==============================] - 8s 111ms/step - loss: 1.3988 - accuracy: 0.4092 - val_loss: 1.5594 - val_accuracy: 0.3498\n",
      "Epoch 9/50\n",
      "73/73 [==============================] - 8s 116ms/step - loss: 1.3239 - accuracy: 0.4373 - val_loss: 1.5305 - val_accuracy: 0.3548\n",
      "Epoch 10/50\n",
      "73/73 [==============================] - 8s 116ms/step - loss: 1.2533 - accuracy: 0.4676 - val_loss: 1.5458 - val_accuracy: 0.3528\n",
      "Epoch 11/50\n",
      "73/73 [==============================] - 9s 125ms/step - loss: 1.2135 - accuracy: 0.4849 - val_loss: 1.5577 - val_accuracy: 0.3558\n",
      "Epoch 12/50\n",
      "73/73 [==============================] - 9s 124ms/step - loss: 1.1682 - accuracy: 0.5082 - val_loss: 1.5701 - val_accuracy: 0.3498\n",
      "Epoch 13/50\n",
      "73/73 [==============================] - 10s 132ms/step - loss: 1.0536 - accuracy: 0.5609 - val_loss: 1.6880 - val_accuracy: 0.3337\n",
      "Epoch 14/50\n",
      "73/73 [==============================] - 8s 112ms/step - loss: 0.9653 - accuracy: 0.6003 - val_loss: 1.7892 - val_accuracy: 0.3246\n",
      "Epoch 15/50\n",
      "73/73 [==============================] - 9s 117ms/step - loss: 0.8966 - accuracy: 0.6482 - val_loss: 1.7997 - val_accuracy: 0.3337\n",
      "Epoch 16/50\n",
      "73/73 [==============================] - 8s 113ms/step - loss: 0.8042 - accuracy: 0.6802 - val_loss: 1.8594 - val_accuracy: 0.3448\n",
      "Epoch 17/50\n",
      "73/73 [==============================] - 9s 120ms/step - loss: 0.6918 - accuracy: 0.7308 - val_loss: 2.0854 - val_accuracy: 0.3347\n"
     ]
    },
    {
     "name": "stderr",
     "output_type": "stream",
     "text": [
      "2023-12-07 14:04:25.183369: W external/local_tsl/tsl/framework/cpu_allocator_impl.cc:83] Allocation of 178668000 exceeds 10% of free system memory.\n"
     ]
    },
    {
     "name": "stdout",
     "output_type": "stream",
     "text": [
      "45/45 [==============================] - 2s 38ms/step - loss: 2.1171 - accuracy: 0.3371\n",
      "Test loss with GloVe: 2.1171\n",
      "Test accuracy with GloVe: 0.3371\n"
     ]
    }
   ],
   "source": [
    "# Function for basic cleaning\n",
    "def basic_cleaning(sentence):\n",
    "    sentence = sentence.lower()\n",
    "    sentence = ''.join(char for char in sentence if not char.isdigit())\n",
    "\n",
    "    # Adding special quotes to the regular expression pattern\n",
    "    special_quotes = '“”‘’'\n",
    "    pattern = '[' + re.escape(string.punctuation + special_quotes) + ']'\n",
    "\n",
    "    sentence = re.sub(pattern, '', sentence)\n",
    "    sentence = sentence.strip()\n",
    "\n",
    "    return sentence\n",
    "\n",
    "# Function for tokenization\n",
    "def tokenizer(sentence):\n",
    "    return text_to_word_sequence(sentence)\n",
    "\n",
    "# Function for lemmatization\n",
    "def lemmatizer(sentence):\n",
    "    wnl = WordNetLemmatizer()\n",
    "    verbs_lemmatized = [wnl.lemmatize(word, pos='v') for word in sentence]\n",
    "    nouns_lemmatized = [wnl.lemmatize(word, pos='n') for word in verbs_lemmatized]\n",
    "    adverbs_lemmatized = [wnl.lemmatize(word, pos='r') for word in nouns_lemmatized]\n",
    "    adj_lemmatized = [wnl.lemmatize(word, pos='a') for word in adverbs_lemmatized]\n",
    "    sat_lemmatized = [wnl.lemmatize(word, pos='s') for word in adj_lemmatized]\n",
    "\n",
    "    return sat_lemmatized\n",
    "\n",
    "# Function for removing stopwords\n",
    "def removing_stopwords(sentence):\n",
    "    stop_words = set(stopwords.words('english'))\n",
    "    sentence_new = [w for w in sentence if not w in stop_words]\n",
    "    return sentence_new\n",
    "\n",
    "# Apply all the steps to the training and testing text\n",
    "X_train_text = [basic_cleaning(sentence) for sentence in X_train_text]\n",
    "X_test_text = [basic_cleaning(sentence) for sentence in X_test_text]\n",
    "\n",
    "X_train_text = [tokenizer(sentence) for sentence in X_train_text]\n",
    "X_test_text = [tokenizer(sentence) for sentence in X_test_text]\n",
    "\n",
    "X_train_text = [lemmatizer(sentence) for sentence in X_train_text]\n",
    "X_test_text = [lemmatizer(sentence) for sentence in X_test_text]\n",
    "\n",
    "X_train_text = [removing_stopwords(sentence) for sentence in X_train_text]\n",
    "X_test_text = [removing_stopwords(sentence) for sentence in X_test_text]\n",
    "\n",
    "# Word embedding using GloVe\n",
    "def embed_sentence_glove(sentence):\n",
    "    embedded_sentence = []\n",
    "    for word in sentence:\n",
    "        if word in glove_model:\n",
    "            embedded_sentence.append(glove_model[word])\n",
    "\n",
    "    return np.array(embedded_sentence)\n",
    "\n",
    "def embedding_glove(sentences):\n",
    "    embed = []\n",
    "\n",
    "    for sentence in sentences:\n",
    "        embedded_sentence = embed_sentence_glove(sentence)\n",
    "        embed.append(embedded_sentence)\n",
    "\n",
    "    return embed\n",
    "\n",
    "X_train_text_glove = embedding_glove(X_train_text)\n",
    "X_test_text_glove = embedding_glove(X_test_text)\n",
    "\n",
    "# Padding\n",
    "maxlen = 105\n",
    "X_train_pad_glove = pad_sequences(X_train_text_glove, dtype=float, padding='post', maxlen=maxlen)\n",
    "X_test_pad_glove = pad_sequences(X_test_text_glove, dtype=float, padding='post', maxlen=maxlen)\n",
    "\n",
    "# Function to build the NLP model with GloVe\n",
    "def build_model_nlp_glove():\n",
    "    model = Sequential([\n",
    "        LSTM(105, input_shape=X_train_pad_glove.shape[1:]),\n",
    "        Dense(64, activation='relu'),\n",
    "        Dropout(0.15),\n",
    "        Dense(6, activation='softmax'),\n",
    "    ])\n",
    "\n",
    "    model.compile(loss=\"sparse_categorical_crossentropy\", optimizer=Adam(), metrics=['accuracy'])\n",
    "    return model\n",
    "\n",
    "# Build the NLP model with GloVe\n",
    "model_nlp_glove = build_model_nlp_glove()\n",
    "\n",
    "# Early stopping callback\n",
    "es = EarlyStopping(patience=10)\n",
    "\n",
    "# Train the model with GloVe\n",
    "model_nlp_glove.fit(X_train_pad_glove, y_train,\n",
    "                    validation_split=0.3,\n",
    "                    epochs=50,\n",
    "                    batch_size=32,\n",
    "                    callbacks=[es])\n",
    "\n",
    "# Evaluate the model with GloVe\n",
    "loss_glove, accuracy_glove = model_nlp_glove.evaluate(X_test_pad_glove, y_test)\n",
    "print(f'Test loss with GloVe: {loss_glove:.4f}')\n",
    "print(f'Test accuracy with GloVe: {accuracy_glove:.4f}')\n"
   ]
  },
  {
   "cell_type": "markdown",
   "metadata": {},
   "source": [
    "The model with GloVe embedding perfom similar to the model with Word2Vec embedding."
   ]
  },
  {
   "cell_type": "markdown",
   "metadata": {},
   "source": [
    "## FastText embeddings"
   ]
  },
  {
   "cell_type": "code",
   "execution_count": 8,
   "metadata": {},
   "outputs": [],
   "source": [
    "import fasttext\n"
   ]
  },
  {
   "cell_type": "code",
   "execution_count": 9,
   "metadata": {},
   "outputs": [
    {
     "name": "stdout",
     "output_type": "stream",
     "text": [
      "Loading FastText Model\n",
      "FastText Model Loaded!\n"
     ]
    },
    {
     "name": "stderr",
     "output_type": "stream",
     "text": [
      "Warning : `load_model` does not return WordVectorModel or SupervisedModel any more, but a `FastText` object which is very similar.\n"
     ]
    }
   ],
   "source": [
    "# Load FastText embeddings\n",
    "def load_fasttext_model(file):\n",
    "    print(\"Loading FastText Model\")\n",
    "    fasttext_model = fasttext.load_model(file)\n",
    "    print(\"FastText Model Loaded!\")\n",
    "    return fasttext_model\n",
    "\n",
    "# Replace the path with the correct path to your FastText model file\n",
    "fasttext_model_path = \"../raw_data/cc.en.300.bin\"\n",
    "\n",
    "# Load FastText embeddings using your function\n",
    "fasttext_model = load_fasttext_model(fasttext_model_path)\n"
   ]
  },
  {
   "cell_type": "code",
   "execution_count": 11,
   "metadata": {},
   "outputs": [
    {
     "ename": "KeyboardInterrupt",
     "evalue": "",
     "output_type": "error",
     "traceback": [
      "\u001b[0;31m---------------------------------------------------------------------------\u001b[0m",
      "\u001b[0;31mKeyboardInterrupt\u001b[0m                         Traceback (most recent call last)",
      "\u001b[1;32m/home/patricia/code/ChristineSi/neuroCraft/notebooks/modelpat.ipynb Cell 14\u001b[0m line \u001b[0;36m2\n\u001b[1;32m     <a href='vscode-notebook-cell://wsl%2Bubuntu/home/patricia/code/ChristineSi/neuroCraft/notebooks/modelpat.ipynb#X25sdnNjb2RlLXJlbW90ZQ%3D%3D?line=18'>19</a>\u001b[0m     \u001b[39mreturn\u001b[39;00m embed\n\u001b[1;32m     <a href='vscode-notebook-cell://wsl%2Bubuntu/home/patricia/code/ChristineSi/neuroCraft/notebooks/modelpat.ipynb#X25sdnNjb2RlLXJlbW90ZQ%3D%3D?line=20'>21</a>\u001b[0m \u001b[39m# Use FastText embeddings for training and testing data\u001b[39;00m\n\u001b[0;32m---> <a href='vscode-notebook-cell://wsl%2Bubuntu/home/patricia/code/ChristineSi/neuroCraft/notebooks/modelpat.ipynb#X25sdnNjb2RlLXJlbW90ZQ%3D%3D?line=21'>22</a>\u001b[0m X_train_text_fasttext \u001b[39m=\u001b[39m embedding_fasttext(fasttext_model, X_train_text)\n\u001b[1;32m     <a href='vscode-notebook-cell://wsl%2Bubuntu/home/patricia/code/ChristineSi/neuroCraft/notebooks/modelpat.ipynb#X25sdnNjb2RlLXJlbW90ZQ%3D%3D?line=22'>23</a>\u001b[0m X_test_text_fasttext \u001b[39m=\u001b[39m embedding_fasttext(fasttext_model, X_test_text)\n",
      "\u001b[1;32m/home/patricia/code/ChristineSi/neuroCraft/notebooks/modelpat.ipynb Cell 14\u001b[0m line \u001b[0;36m1\n\u001b[1;32m     <a href='vscode-notebook-cell://wsl%2Bubuntu/home/patricia/code/ChristineSi/neuroCraft/notebooks/modelpat.ipynb#X25sdnNjb2RlLXJlbW90ZQ%3D%3D?line=12'>13</a>\u001b[0m embed \u001b[39m=\u001b[39m []\n\u001b[1;32m     <a href='vscode-notebook-cell://wsl%2Bubuntu/home/patricia/code/ChristineSi/neuroCraft/notebooks/modelpat.ipynb#X25sdnNjb2RlLXJlbW90ZQ%3D%3D?line=14'>15</a>\u001b[0m \u001b[39mfor\u001b[39;00m sentence \u001b[39min\u001b[39;00m sentences:\n\u001b[0;32m---> <a href='vscode-notebook-cell://wsl%2Bubuntu/home/patricia/code/ChristineSi/neuroCraft/notebooks/modelpat.ipynb#X25sdnNjb2RlLXJlbW90ZQ%3D%3D?line=15'>16</a>\u001b[0m     embedded_sentence \u001b[39m=\u001b[39m embed_sentence_fasttext(model, sentence)\n\u001b[1;32m     <a href='vscode-notebook-cell://wsl%2Bubuntu/home/patricia/code/ChristineSi/neuroCraft/notebooks/modelpat.ipynb#X25sdnNjb2RlLXJlbW90ZQ%3D%3D?line=16'>17</a>\u001b[0m     embed\u001b[39m.\u001b[39mappend(embedded_sentence)\n\u001b[1;32m     <a href='vscode-notebook-cell://wsl%2Bubuntu/home/patricia/code/ChristineSi/neuroCraft/notebooks/modelpat.ipynb#X25sdnNjb2RlLXJlbW90ZQ%3D%3D?line=18'>19</a>\u001b[0m \u001b[39mreturn\u001b[39;00m embed\n",
      "\u001b[1;32m/home/patricia/code/ChristineSi/neuroCraft/notebooks/modelpat.ipynb Cell 14\u001b[0m line \u001b[0;36m6\n\u001b[1;32m      <a href='vscode-notebook-cell://wsl%2Bubuntu/home/patricia/code/ChristineSi/neuroCraft/notebooks/modelpat.ipynb#X25sdnNjb2RlLXJlbW90ZQ%3D%3D?line=2'>3</a>\u001b[0m embedded_sentence \u001b[39m=\u001b[39m []\n\u001b[1;32m      <a href='vscode-notebook-cell://wsl%2Bubuntu/home/patricia/code/ChristineSi/neuroCraft/notebooks/modelpat.ipynb#X25sdnNjb2RlLXJlbW90ZQ%3D%3D?line=3'>4</a>\u001b[0m \u001b[39mfor\u001b[39;00m word \u001b[39min\u001b[39;00m sentence:\n\u001b[1;32m      <a href='vscode-notebook-cell://wsl%2Bubuntu/home/patricia/code/ChristineSi/neuroCraft/notebooks/modelpat.ipynb#X25sdnNjb2RlLXJlbW90ZQ%3D%3D?line=4'>5</a>\u001b[0m     \u001b[39m# Check if the word is in the FastText model's vocabulary\u001b[39;00m\n\u001b[0;32m----> <a href='vscode-notebook-cell://wsl%2Bubuntu/home/patricia/code/ChristineSi/neuroCraft/notebooks/modelpat.ipynb#X25sdnNjb2RlLXJlbW90ZQ%3D%3D?line=5'>6</a>\u001b[0m     \u001b[39mif\u001b[39;00m word \u001b[39min\u001b[39;00m model\u001b[39m.\u001b[39mwords:\n\u001b[1;32m      <a href='vscode-notebook-cell://wsl%2Bubuntu/home/patricia/code/ChristineSi/neuroCraft/notebooks/modelpat.ipynb#X25sdnNjb2RlLXJlbW90ZQ%3D%3D?line=6'>7</a>\u001b[0m         embedded_sentence\u001b[39m.\u001b[39mappend(model[word])\n\u001b[1;32m      <a href='vscode-notebook-cell://wsl%2Bubuntu/home/patricia/code/ChristineSi/neuroCraft/notebooks/modelpat.ipynb#X25sdnNjb2RlLXJlbW90ZQ%3D%3D?line=8'>9</a>\u001b[0m \u001b[39mreturn\u001b[39;00m np\u001b[39m.\u001b[39marray(embedded_sentence)\n",
      "\u001b[0;31mKeyboardInterrupt\u001b[0m: "
     ]
    },
    {
     "ename": "",
     "evalue": "",
     "output_type": "error",
     "traceback": [
      "\u001b[1;31mThe Kernel crashed while executing code in the the current cell or a previous cell. Please review the code in the cell(s) to identify a possible cause of the failure. Click <a href='https://aka.ms/vscodeJupyterKernelCrash'>here</a> for more info. View Jupyter <a href='command:jupyter.viewOutput'>log</a> for further details."
     ]
    }
   ],
   "source": [
    "# Function to embed a sentence using FastText\n",
    "def embed_sentence_fasttext(model, sentence):\n",
    "    embedded_sentence = []\n",
    "    for word in sentence:\n",
    "        # Check if the word is in the FastText model's vocabulary\n",
    "        if word in model.words:\n",
    "            embedded_sentence.append(model[word])\n",
    "\n",
    "    return np.array(embedded_sentence)\n",
    "\n",
    "# Function to create embeddings for a set of sentences\n",
    "def embedding_fasttext(model, sentences):\n",
    "    embed = []\n",
    "\n",
    "    for sentence in sentences:\n",
    "        embedded_sentence = embed_sentence_fasttext(model, sentence)\n",
    "        embed.append(embedded_sentence)\n",
    "\n",
    "    return embed\n",
    "\n",
    "# Use FastText embeddings for training and testing data\n",
    "X_train_text_fasttext = embedding_fasttext(fasttext_model, X_train_text)\n",
    "X_test_text_fasttext = embedding_fasttext(fasttext_model, X_test_text)\n"
   ]
  },
  {
   "cell_type": "code",
   "execution_count": 10,
   "metadata": {},
   "outputs": [
    {
     "ename": "KeyboardInterrupt",
     "evalue": "",
     "output_type": "error",
     "traceback": [
      "\u001b[0;31m---------------------------------------------------------------------------\u001b[0m",
      "\u001b[0;31mKeyboardInterrupt\u001b[0m                         Traceback (most recent call last)",
      "\u001b[1;32m/home/patricia/code/ChristineSi/neuroCraft/notebooks/modelpat.ipynb Cell 14\u001b[0m line \u001b[0;36m2\n\u001b[1;32m     <a href='vscode-notebook-cell://wsl%2Bubuntu/home/patricia/code/ChristineSi/neuroCraft/notebooks/modelpat.ipynb#X21sdnNjb2RlLXJlbW90ZQ%3D%3D?line=18'>19</a>\u001b[0m     \u001b[39mreturn\u001b[39;00m embed\n\u001b[1;32m     <a href='vscode-notebook-cell://wsl%2Bubuntu/home/patricia/code/ChristineSi/neuroCraft/notebooks/modelpat.ipynb#X21sdnNjb2RlLXJlbW90ZQ%3D%3D?line=20'>21</a>\u001b[0m \u001b[39m# Use FastText embeddings for training and testing data\u001b[39;00m\n\u001b[0;32m---> <a href='vscode-notebook-cell://wsl%2Bubuntu/home/patricia/code/ChristineSi/neuroCraft/notebooks/modelpat.ipynb#X21sdnNjb2RlLXJlbW90ZQ%3D%3D?line=21'>22</a>\u001b[0m X_train_text_fasttext \u001b[39m=\u001b[39m embedding_fasttext(fasttext_model, X_train_text)\n\u001b[1;32m     <a href='vscode-notebook-cell://wsl%2Bubuntu/home/patricia/code/ChristineSi/neuroCraft/notebooks/modelpat.ipynb#X21sdnNjb2RlLXJlbW90ZQ%3D%3D?line=22'>23</a>\u001b[0m X_test_text_fasttext \u001b[39m=\u001b[39m embedding_fasttext(fasttext_model, X_test_text)\n\u001b[1;32m     <a href='vscode-notebook-cell://wsl%2Bubuntu/home/patricia/code/ChristineSi/neuroCraft/notebooks/modelpat.ipynb#X21sdnNjb2RlLXJlbW90ZQ%3D%3D?line=24'>25</a>\u001b[0m \u001b[39m# Padding\u001b[39;00m\n",
      "\u001b[1;32m/home/patricia/code/ChristineSi/neuroCraft/notebooks/modelpat.ipynb Cell 14\u001b[0m line \u001b[0;36m1\n\u001b[1;32m     <a href='vscode-notebook-cell://wsl%2Bubuntu/home/patricia/code/ChristineSi/neuroCraft/notebooks/modelpat.ipynb#X21sdnNjb2RlLXJlbW90ZQ%3D%3D?line=12'>13</a>\u001b[0m embed \u001b[39m=\u001b[39m []\n\u001b[1;32m     <a href='vscode-notebook-cell://wsl%2Bubuntu/home/patricia/code/ChristineSi/neuroCraft/notebooks/modelpat.ipynb#X21sdnNjb2RlLXJlbW90ZQ%3D%3D?line=14'>15</a>\u001b[0m \u001b[39mfor\u001b[39;00m sentence \u001b[39min\u001b[39;00m sentences:\n\u001b[0;32m---> <a href='vscode-notebook-cell://wsl%2Bubuntu/home/patricia/code/ChristineSi/neuroCraft/notebooks/modelpat.ipynb#X21sdnNjb2RlLXJlbW90ZQ%3D%3D?line=15'>16</a>\u001b[0m     embedded_sentence \u001b[39m=\u001b[39m embed_sentence_fasttext(model, sentence)\n\u001b[1;32m     <a href='vscode-notebook-cell://wsl%2Bubuntu/home/patricia/code/ChristineSi/neuroCraft/notebooks/modelpat.ipynb#X21sdnNjb2RlLXJlbW90ZQ%3D%3D?line=16'>17</a>\u001b[0m     embed\u001b[39m.\u001b[39mappend(embedded_sentence)\n\u001b[1;32m     <a href='vscode-notebook-cell://wsl%2Bubuntu/home/patricia/code/ChristineSi/neuroCraft/notebooks/modelpat.ipynb#X21sdnNjb2RlLXJlbW90ZQ%3D%3D?line=18'>19</a>\u001b[0m \u001b[39mreturn\u001b[39;00m embed\n",
      "\u001b[1;32m/home/patricia/code/ChristineSi/neuroCraft/notebooks/modelpat.ipynb Cell 14\u001b[0m line \u001b[0;36m6\n\u001b[1;32m      <a href='vscode-notebook-cell://wsl%2Bubuntu/home/patricia/code/ChristineSi/neuroCraft/notebooks/modelpat.ipynb#X21sdnNjb2RlLXJlbW90ZQ%3D%3D?line=2'>3</a>\u001b[0m embedded_sentence \u001b[39m=\u001b[39m []\n\u001b[1;32m      <a href='vscode-notebook-cell://wsl%2Bubuntu/home/patricia/code/ChristineSi/neuroCraft/notebooks/modelpat.ipynb#X21sdnNjb2RlLXJlbW90ZQ%3D%3D?line=3'>4</a>\u001b[0m \u001b[39mfor\u001b[39;00m word \u001b[39min\u001b[39;00m sentence:\n\u001b[1;32m      <a href='vscode-notebook-cell://wsl%2Bubuntu/home/patricia/code/ChristineSi/neuroCraft/notebooks/modelpat.ipynb#X21sdnNjb2RlLXJlbW90ZQ%3D%3D?line=4'>5</a>\u001b[0m     \u001b[39m# Check if the word is in the FastText model's vocabulary\u001b[39;00m\n\u001b[0;32m----> <a href='vscode-notebook-cell://wsl%2Bubuntu/home/patricia/code/ChristineSi/neuroCraft/notebooks/modelpat.ipynb#X21sdnNjb2RlLXJlbW90ZQ%3D%3D?line=5'>6</a>\u001b[0m     \u001b[39mif\u001b[39;00m word \u001b[39min\u001b[39;00m model\u001b[39m.\u001b[39mwords:\n\u001b[1;32m      <a href='vscode-notebook-cell://wsl%2Bubuntu/home/patricia/code/ChristineSi/neuroCraft/notebooks/modelpat.ipynb#X21sdnNjb2RlLXJlbW90ZQ%3D%3D?line=6'>7</a>\u001b[0m         embedded_sentence\u001b[39m.\u001b[39mappend(model[word])\n\u001b[1;32m      <a href='vscode-notebook-cell://wsl%2Bubuntu/home/patricia/code/ChristineSi/neuroCraft/notebooks/modelpat.ipynb#X21sdnNjb2RlLXJlbW90ZQ%3D%3D?line=8'>9</a>\u001b[0m \u001b[39mreturn\u001b[39;00m np\u001b[39m.\u001b[39marray(embedded_sentence)\n",
      "\u001b[0;31mKeyboardInterrupt\u001b[0m: "
     ]
    }
   ],
   "source": [
    "# Padding\n",
    "maxlen = 105\n",
    "X_train_pad_fasttext = pad_sequences(X_train_text_fasttext, dtype=float, padding='post', maxlen=maxlen)\n",
    "X_test_pad_fasttext = pad_sequences(X_test_text_fasttext, dtype=float, padding='post', maxlen=maxlen)\n",
    "\n",
    "# Build and train the NLP model with FastText embeddings\n",
    "def build_model_nlp_fasttext():\n",
    "    model = Sequential([\n",
    "        layers.LSTM(105, input_shape=X_train_pad_fasttext.shape[1:]),\n",
    "        layers.Dense(64, activation='relu'),\n",
    "        layers.Dropout(0.15),  # to prevent overfitting\n",
    "        layers.Dense(6, activation='softmax'),  # for class probabilities\n",
    "    ])\n",
    "\n",
    "    model.compile(loss=\"sparse_categorical_crossentropy\", optimizer=Adam(), metrics=['accuracy'])\n",
    "    return model\n",
    "\n",
    "# Build the NLP model with FastText embeddings\n",
    "model_nlp_fasttext = build_model_nlp_fasttext()\n",
    "\n",
    "# Early stopping callback\n",
    "es = EarlyStopping(patience=10)\n",
    "\n",
    "# Train the model\n",
    "model_nlp_fasttext.fit(X_train_pad_fasttext, y_train,\n",
    "                       validation_split=0.3,\n",
    "                       epochs=50,\n",
    "                       batch_size=32,\n",
    "                       callbacks=[es])\n",
    "\n",
    "# Evaluate the model\n",
    "loss_fasttext, accuracy_fasttext = model_nlp_fasttext.evaluate(X_test_pad_fasttext, y_test)\n",
    "print(f'Test loss with FastText: {loss_fasttext:.4f}')\n",
    "print(f'Test accuracy with FastText: {accuracy_fasttext:.4f}')\n"
   ]
  },
  {
   "cell_type": "code",
   "execution_count": null,
   "metadata": {},
   "outputs": [],
   "source": []
  }
 ],
 "metadata": {
  "kernelspec": {
   "display_name": "neuroCraft",
   "language": "python",
   "name": "python3"
  },
  "language_info": {
   "codemirror_mode": {
    "name": "ipython",
    "version": 3
   },
   "file_extension": ".py",
   "mimetype": "text/x-python",
   "name": "python",
   "nbconvert_exporter": "python",
   "pygments_lexer": "ipython3",
   "version": "3.10.6"
  }
 },
 "nbformat": 4,
 "nbformat_minor": 2
}
