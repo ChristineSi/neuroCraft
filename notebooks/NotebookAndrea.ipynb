{
 "cells": [
  {
   "cell_type": "code",
   "execution_count": 1013,
   "metadata": {},
   "outputs": [],
   "source": [
    "import pandas as pd\n",
    "import numpy as np\n",
    "from ydata_profiling import ProfileReport\n",
    "import seaborn as sns\n",
    "import matplotlib.pyplot as plt\n",
    "\n",
    "#Sklearn\n",
    "from sklearn.metrics import mean_squared_error\n",
    "from sklearn.metrics import make_scorer\n",
    "from sklearn.metrics import accuracy_score\n",
    "\n",
    "from sklearn.impute import SimpleImputer\n",
    "\n",
    "from sklearn.preprocessing import StandardScaler\n",
    "from sklearn.preprocessing import OneHotEncoder\n",
    "from sklearn.preprocessing import LabelEncoder\n",
    "\n",
    "from sklearn.model_selection import train_test_split\n",
    "\n",
    "from sklearn.compose import ColumnTransformer\n",
    "\n",
    "from sklearn.pipeline import Pipeline\n",
    "\n",
    "import string\n",
    "\n",
    "import re\n",
    "\n",
    "from tensorflow.keras.preprocessing.text import text_to_word_sequence\n",
    "\n",
    "from nltk.stem import WordNetLemmatizer\n",
    "from nltk.corpus import stopwords\n",
    "\n",
    "from gensim.models import Word2Vec\n"
   ]
  },
  {
   "cell_type": "code",
   "execution_count": 1014,
   "metadata": {},
   "outputs": [],
   "source": [
    "df = pd.read_csv('/Users/andreacalcagni/code/AndreaCalcagni/neuroCraft/raw_data/CLEAR Corpus 6.01 - CLEAR Corpus 6.01.csv')\n"
   ]
  },
  {
   "cell_type": "markdown",
   "metadata": {},
   "source": [
    "# Exploration"
   ]
  },
  {
   "cell_type": "code",
   "execution_count": 1015,
   "metadata": {},
   "outputs": [
    {
     "data": {
      "text/html": [
       "<div>\n",
       "<style scoped>\n",
       "    .dataframe tbody tr th:only-of-type {\n",
       "        vertical-align: middle;\n",
       "    }\n",
       "\n",
       "    .dataframe tbody tr th {\n",
       "        vertical-align: top;\n",
       "    }\n",
       "\n",
       "    .dataframe thead th {\n",
       "        text-align: right;\n",
       "    }\n",
       "</style>\n",
       "<table border=\"1\" class=\"dataframe\">\n",
       "  <thead>\n",
       "    <tr style=\"text-align: right;\">\n",
       "      <th></th>\n",
       "      <th>ID</th>\n",
       "      <th>Last Changed</th>\n",
       "      <th>Author</th>\n",
       "      <th>Title</th>\n",
       "      <th>Anthology</th>\n",
       "      <th>URL</th>\n",
       "      <th>Source</th>\n",
       "      <th>Pub Year</th>\n",
       "      <th>Category</th>\n",
       "      <th>Location</th>\n",
       "      <th>...</th>\n",
       "      <th>CAREC_M</th>\n",
       "      <th>CARES</th>\n",
       "      <th>CML2RI</th>\n",
       "      <th>firstPlace_pred</th>\n",
       "      <th>secondPlace_pred</th>\n",
       "      <th>thirdPlace_pred</th>\n",
       "      <th>fourthPlace_pred</th>\n",
       "      <th>fifthPlace_pred</th>\n",
       "      <th>sixthPlace_pred</th>\n",
       "      <th>Kaggle split</th>\n",
       "    </tr>\n",
       "  </thead>\n",
       "  <tbody>\n",
       "    <tr>\n",
       "      <th>0</th>\n",
       "      <td>400</td>\n",
       "      <td>NaN</td>\n",
       "      <td>Carolyn Wells</td>\n",
       "      <td>Patty's Suitors</td>\n",
       "      <td>NaN</td>\n",
       "      <td>http://www.gutenberg.org/cache/epub/5631/pg563...</td>\n",
       "      <td>gutenberg</td>\n",
       "      <td>1914.0</td>\n",
       "      <td>Lit</td>\n",
       "      <td>mid</td>\n",
       "      <td>...</td>\n",
       "      <td>0.11952</td>\n",
       "      <td>0.457534</td>\n",
       "      <td>12.097815</td>\n",
       "      <td>-0.383831</td>\n",
       "      <td>-0.283604</td>\n",
       "      <td>-0.346879</td>\n",
       "      <td>-0.281620</td>\n",
       "      <td>-0.247767</td>\n",
       "      <td>-0.289945</td>\n",
       "      <td>Train</td>\n",
       "    </tr>\n",
       "    <tr>\n",
       "      <th>1</th>\n",
       "      <td>401</td>\n",
       "      <td>NaN</td>\n",
       "      <td>Carolyn Wells</td>\n",
       "      <td>Two Little Women on a Holiday</td>\n",
       "      <td>NaN</td>\n",
       "      <td>http://www.gutenberg.org/cache/epub/5893/pg589...</td>\n",
       "      <td>gutenberg</td>\n",
       "      <td>1917.0</td>\n",
       "      <td>Lit</td>\n",
       "      <td>mid</td>\n",
       "      <td>...</td>\n",
       "      <td>0.04921</td>\n",
       "      <td>0.462510</td>\n",
       "      <td>22.550179</td>\n",
       "      <td>-0.260307</td>\n",
       "      <td>-0.209960</td>\n",
       "      <td>-0.061565</td>\n",
       "      <td>-0.234231</td>\n",
       "      <td>-0.201347</td>\n",
       "      <td>-0.156156</td>\n",
       "      <td>Train</td>\n",
       "    </tr>\n",
       "    <tr>\n",
       "      <th>2</th>\n",
       "      <td>402</td>\n",
       "      <td>NaN</td>\n",
       "      <td>Carolyn Wells</td>\n",
       "      <td>Patty Blossom</td>\n",
       "      <td>NaN</td>\n",
       "      <td>http://www.gutenberg.org/cache/epub/20945/pg20...</td>\n",
       "      <td>gutenberg</td>\n",
       "      <td>1917.0</td>\n",
       "      <td>Lit</td>\n",
       "      <td>mid</td>\n",
       "      <td>...</td>\n",
       "      <td>0.09724</td>\n",
       "      <td>0.369259</td>\n",
       "      <td>18.125279</td>\n",
       "      <td>-0.615037</td>\n",
       "      <td>-0.530600</td>\n",
       "      <td>-0.527847</td>\n",
       "      <td>-0.550180</td>\n",
       "      <td>-0.565762</td>\n",
       "      <td>-0.538852</td>\n",
       "      <td>Train</td>\n",
       "    </tr>\n",
       "    <tr>\n",
       "      <th>3</th>\n",
       "      <td>403</td>\n",
       "      <td>NaN</td>\n",
       "      <td>CHARLES KINGSLEY</td>\n",
       "      <td>THE WATER-BABIES\\nA Fairy Tale for a Land-Baby</td>\n",
       "      <td>NaN</td>\n",
       "      <td>http://www.gutenberg.org/files/25564/25564-h/2...</td>\n",
       "      <td>gutenberg</td>\n",
       "      <td>1863.0</td>\n",
       "      <td>Lit</td>\n",
       "      <td>mid</td>\n",
       "      <td>...</td>\n",
       "      <td>0.08856</td>\n",
       "      <td>0.390759</td>\n",
       "      <td>10.959460</td>\n",
       "      <td>-1.528806</td>\n",
       "      <td>-1.525546</td>\n",
       "      <td>-1.471455</td>\n",
       "      <td>-1.265776</td>\n",
       "      <td>-1.422547</td>\n",
       "      <td>-1.393155</td>\n",
       "      <td>Test</td>\n",
       "    </tr>\n",
       "    <tr>\n",
       "      <th>4</th>\n",
       "      <td>404</td>\n",
       "      <td>NaN</td>\n",
       "      <td>Charles Kingsley</td>\n",
       "      <td>HOW THE ARGONAUTS WERE DRIVEN INTO THE UNKNOWN...</td>\n",
       "      <td>The Heroes\\n       or Greek Fairy Tales for my...</td>\n",
       "      <td>http://www.gutenberg.org/files/677/677-h/677-h...</td>\n",
       "      <td>gutenberg</td>\n",
       "      <td>1889.0</td>\n",
       "      <td>Lit</td>\n",
       "      <td>mid</td>\n",
       "      <td>...</td>\n",
       "      <td>0.08798</td>\n",
       "      <td>0.389226</td>\n",
       "      <td>3.195960</td>\n",
       "      <td>-1.335586</td>\n",
       "      <td>-1.321922</td>\n",
       "      <td>-1.163985</td>\n",
       "      <td>-1.122501</td>\n",
       "      <td>-1.185518</td>\n",
       "      <td>-1.271324</td>\n",
       "      <td>Train</td>\n",
       "    </tr>\n",
       "  </tbody>\n",
       "</table>\n",
       "<p>5 rows × 40 columns</p>\n",
       "</div>"
      ],
      "text/plain": [
       "    ID  Last Changed            Author  \\\n",
       "0  400           NaN     Carolyn Wells   \n",
       "1  401           NaN     Carolyn Wells   \n",
       "2  402           NaN     Carolyn Wells   \n",
       "3  403           NaN  CHARLES KINGSLEY   \n",
       "4  404           NaN  Charles Kingsley   \n",
       "\n",
       "                                               Title  \\\n",
       "0                                    Patty's Suitors   \n",
       "1                      Two Little Women on a Holiday   \n",
       "2                                      Patty Blossom   \n",
       "3     THE WATER-BABIES\\nA Fairy Tale for a Land-Baby   \n",
       "4  HOW THE ARGONAUTS WERE DRIVEN INTO THE UNKNOWN...   \n",
       "\n",
       "                                           Anthology  \\\n",
       "0                                                NaN   \n",
       "1                                                NaN   \n",
       "2                                                NaN   \n",
       "3                                                NaN   \n",
       "4  The Heroes\\n       or Greek Fairy Tales for my...   \n",
       "\n",
       "                                                 URL     Source  Pub Year  \\\n",
       "0  http://www.gutenberg.org/cache/epub/5631/pg563...  gutenberg    1914.0   \n",
       "1  http://www.gutenberg.org/cache/epub/5893/pg589...  gutenberg    1917.0   \n",
       "2  http://www.gutenberg.org/cache/epub/20945/pg20...  gutenberg    1917.0   \n",
       "3  http://www.gutenberg.org/files/25564/25564-h/2...  gutenberg    1863.0   \n",
       "4  http://www.gutenberg.org/files/677/677-h/677-h...  gutenberg    1889.0   \n",
       "\n",
       "  Category Location  ...  CAREC_M     CARES     CML2RI  firstPlace_pred  \\\n",
       "0      Lit      mid  ...  0.11952  0.457534  12.097815        -0.383831   \n",
       "1      Lit      mid  ...  0.04921  0.462510  22.550179        -0.260307   \n",
       "2      Lit      mid  ...  0.09724  0.369259  18.125279        -0.615037   \n",
       "3      Lit      mid  ...  0.08856  0.390759  10.959460        -1.528806   \n",
       "4      Lit      mid  ...  0.08798  0.389226   3.195960        -1.335586   \n",
       "\n",
       "  secondPlace_pred  thirdPlace_pred  fourthPlace_pred  fifthPlace_pred  \\\n",
       "0        -0.283604        -0.346879         -0.281620        -0.247767   \n",
       "1        -0.209960        -0.061565         -0.234231        -0.201347   \n",
       "2        -0.530600        -0.527847         -0.550180        -0.565762   \n",
       "3        -1.525546        -1.471455         -1.265776        -1.422547   \n",
       "4        -1.321922        -1.163985         -1.122501        -1.185518   \n",
       "\n",
       "  sixthPlace_pred  Kaggle split  \n",
       "0       -0.289945         Train  \n",
       "1       -0.156156         Train  \n",
       "2       -0.538852         Train  \n",
       "3       -1.393155          Test  \n",
       "4       -1.271324         Train  \n",
       "\n",
       "[5 rows x 40 columns]"
      ]
     },
     "execution_count": 1015,
     "metadata": {},
     "output_type": "execute_result"
    }
   ],
   "source": [
    "df.head()\n"
   ]
  },
  {
   "cell_type": "code",
   "execution_count": 1016,
   "metadata": {},
   "outputs": [
    {
     "data": {
      "text/plain": [
       "(4724, 40)"
      ]
     },
     "execution_count": 1016,
     "metadata": {},
     "output_type": "execute_result"
    }
   ],
   "source": [
    "df.shape\n"
   ]
  },
  {
   "cell_type": "code",
   "execution_count": 1017,
   "metadata": {},
   "outputs": [
    {
     "data": {
      "text/plain": [
       "Index(['ID', 'Last Changed', 'Author', 'Title', 'Anthology', 'URL', 'Source',\n",
       "       'Pub Year', 'Category', 'Location', 'License', 'MPAA\\nMax',\n",
       "       'MPAA \\n#Max', 'MPAA\\n#Avg', 'Excerpt', 'Google\\nWC', 'Joon\\nWC v1',\n",
       "       'British WC', 'British Words', 'Sentence\\nCount v1',\n",
       "       'Sentence\\nCount v2', 'Paragraphs', 'BT Easiness', 'BT s.e.',\n",
       "       'Flesch-Reading-Ease', 'Flesch-Kincaid-Grade-Level',\n",
       "       'Automated Readability Index', 'SMOG Readability',\n",
       "       'New Dale-Chall Readability Formula', 'CAREC', 'CAREC_M', 'CARES',\n",
       "       'CML2RI', 'firstPlace_pred', 'secondPlace_pred', 'thirdPlace_pred',\n",
       "       'fourthPlace_pred', 'fifthPlace_pred', 'sixthPlace_pred',\n",
       "       'Kaggle split'],\n",
       "      dtype='object')"
      ]
     },
     "execution_count": 1017,
     "metadata": {},
     "output_type": "execute_result"
    }
   ],
   "source": [
    "df.columns\n"
   ]
  },
  {
   "cell_type": "code",
   "execution_count": 1018,
   "metadata": {},
   "outputs": [],
   "source": [
    "df = df.drop(columns=['Last Changed', 'URL', 'Anthology', 'MPAA \\n#Max', 'Pub Year', 'MPAA\\n#Avg', 'License', 'British Words', 'firstPlace_pred', 'secondPlace_pred', 'thirdPlace_pred',\n",
    "       'fourthPlace_pred', 'fifthPlace_pred', 'sixthPlace_pred', 'ID', 'Author', 'Title', 'Source', 'Category', 'Location', 'MPAA\\nMax', 'BT s.e.', 'Kaggle split'])\n"
   ]
  },
  {
   "cell_type": "code",
   "execution_count": 1019,
   "metadata": {},
   "outputs": [
    {
     "data": {
      "text/html": [
       "<div>\n",
       "<style scoped>\n",
       "    .dataframe tbody tr th:only-of-type {\n",
       "        vertical-align: middle;\n",
       "    }\n",
       "\n",
       "    .dataframe tbody tr th {\n",
       "        vertical-align: top;\n",
       "    }\n",
       "\n",
       "    .dataframe thead th {\n",
       "        text-align: right;\n",
       "    }\n",
       "</style>\n",
       "<table border=\"1\" class=\"dataframe\">\n",
       "  <thead>\n",
       "    <tr style=\"text-align: right;\">\n",
       "      <th></th>\n",
       "      <th>Excerpt</th>\n",
       "      <th>Google\\nWC</th>\n",
       "      <th>Joon\\nWC v1</th>\n",
       "      <th>British WC</th>\n",
       "      <th>Sentence\\nCount v1</th>\n",
       "      <th>Sentence\\nCount v2</th>\n",
       "      <th>Paragraphs</th>\n",
       "      <th>BT Easiness</th>\n",
       "      <th>Flesch-Reading-Ease</th>\n",
       "      <th>Flesch-Kincaid-Grade-Level</th>\n",
       "      <th>Automated Readability Index</th>\n",
       "      <th>SMOG Readability</th>\n",
       "      <th>New Dale-Chall Readability Formula</th>\n",
       "      <th>CAREC</th>\n",
       "      <th>CAREC_M</th>\n",
       "      <th>CARES</th>\n",
       "      <th>CML2RI</th>\n",
       "    </tr>\n",
       "  </thead>\n",
       "  <tbody>\n",
       "    <tr>\n",
       "      <th>0</th>\n",
       "      <td>When the young people returned to the ballroom...</td>\n",
       "      <td>174</td>\n",
       "      <td>179</td>\n",
       "      <td>1</td>\n",
       "      <td>11</td>\n",
       "      <td>11</td>\n",
       "      <td>6</td>\n",
       "      <td>-0.340259</td>\n",
       "      <td>81.70</td>\n",
       "      <td>5.95</td>\n",
       "      <td>7.37</td>\n",
       "      <td>8.0</td>\n",
       "      <td>6.55</td>\n",
       "      <td>0.12102</td>\n",
       "      <td>0.11952</td>\n",
       "      <td>0.457534</td>\n",
       "      <td>12.097815</td>\n",
       "    </tr>\n",
       "    <tr>\n",
       "      <th>1</th>\n",
       "      <td>All through dinner time, Mrs. Fayre was somewh...</td>\n",
       "      <td>164</td>\n",
       "      <td>184</td>\n",
       "      <td>0</td>\n",
       "      <td>15</td>\n",
       "      <td>15</td>\n",
       "      <td>6</td>\n",
       "      <td>-0.315372</td>\n",
       "      <td>80.26</td>\n",
       "      <td>4.86</td>\n",
       "      <td>4.16</td>\n",
       "      <td>7.0</td>\n",
       "      <td>6.25</td>\n",
       "      <td>0.04921</td>\n",
       "      <td>0.04921</td>\n",
       "      <td>0.462510</td>\n",
       "      <td>22.550179</td>\n",
       "    </tr>\n",
       "    <tr>\n",
       "      <th>2</th>\n",
       "      <td>As Roger had predicted, the snow departed as q...</td>\n",
       "      <td>162</td>\n",
       "      <td>180</td>\n",
       "      <td>0</td>\n",
       "      <td>11</td>\n",
       "      <td>11</td>\n",
       "      <td>5</td>\n",
       "      <td>-0.580118</td>\n",
       "      <td>79.04</td>\n",
       "      <td>6.03</td>\n",
       "      <td>5.81</td>\n",
       "      <td>9.0</td>\n",
       "      <td>7.31</td>\n",
       "      <td>0.10172</td>\n",
       "      <td>0.09724</td>\n",
       "      <td>0.369259</td>\n",
       "      <td>18.125279</td>\n",
       "    </tr>\n",
       "    <tr>\n",
       "      <th>3</th>\n",
       "      <td>Mr. Grimes was to come up next morning to Sir ...</td>\n",
       "      <td>159</td>\n",
       "      <td>160</td>\n",
       "      <td>0</td>\n",
       "      <td>3</td>\n",
       "      <td>3</td>\n",
       "      <td>1</td>\n",
       "      <td>-1.785965</td>\n",
       "      <td>44.77</td>\n",
       "      <td>20.51</td>\n",
       "      <td>24.87</td>\n",
       "      <td>12.0</td>\n",
       "      <td>8.56</td>\n",
       "      <td>0.07491</td>\n",
       "      <td>0.08856</td>\n",
       "      <td>0.390759</td>\n",
       "      <td>10.959460</td>\n",
       "    </tr>\n",
       "    <tr>\n",
       "      <th>4</th>\n",
       "      <td>And outside before the palace a great garden w...</td>\n",
       "      <td>163</td>\n",
       "      <td>164</td>\n",
       "      <td>1</td>\n",
       "      <td>5</td>\n",
       "      <td>5</td>\n",
       "      <td>2</td>\n",
       "      <td>-1.054013</td>\n",
       "      <td>68.07</td>\n",
       "      <td>12.06</td>\n",
       "      <td>15.47</td>\n",
       "      <td>8.0</td>\n",
       "      <td>7.00</td>\n",
       "      <td>0.06356</td>\n",
       "      <td>0.08798</td>\n",
       "      <td>0.389226</td>\n",
       "      <td>3.195960</td>\n",
       "    </tr>\n",
       "  </tbody>\n",
       "</table>\n",
       "</div>"
      ],
      "text/plain": [
       "                                             Excerpt  Google\\nWC  Joon\\nWC v1  \\\n",
       "0  When the young people returned to the ballroom...         174          179   \n",
       "1  All through dinner time, Mrs. Fayre was somewh...         164          184   \n",
       "2  As Roger had predicted, the snow departed as q...         162          180   \n",
       "3  Mr. Grimes was to come up next morning to Sir ...         159          160   \n",
       "4  And outside before the palace a great garden w...         163          164   \n",
       "\n",
       "   British WC  Sentence\\nCount v1  Sentence\\nCount v2  Paragraphs  \\\n",
       "0           1                  11                  11           6   \n",
       "1           0                  15                  15           6   \n",
       "2           0                  11                  11           5   \n",
       "3           0                   3                   3           1   \n",
       "4           1                   5                   5           2   \n",
       "\n",
       "   BT Easiness  Flesch-Reading-Ease  Flesch-Kincaid-Grade-Level  \\\n",
       "0    -0.340259                81.70                        5.95   \n",
       "1    -0.315372                80.26                        4.86   \n",
       "2    -0.580118                79.04                        6.03   \n",
       "3    -1.785965                44.77                       20.51   \n",
       "4    -1.054013                68.07                       12.06   \n",
       "\n",
       "   Automated Readability Index  SMOG Readability  \\\n",
       "0                         7.37               8.0   \n",
       "1                         4.16               7.0   \n",
       "2                         5.81               9.0   \n",
       "3                        24.87              12.0   \n",
       "4                        15.47               8.0   \n",
       "\n",
       "   New Dale-Chall Readability Formula    CAREC  CAREC_M     CARES     CML2RI  \n",
       "0                                6.55  0.12102  0.11952  0.457534  12.097815  \n",
       "1                                6.25  0.04921  0.04921  0.462510  22.550179  \n",
       "2                                7.31  0.10172  0.09724  0.369259  18.125279  \n",
       "3                                8.56  0.07491  0.08856  0.390759  10.959460  \n",
       "4                                7.00  0.06356  0.08798  0.389226   3.195960  "
      ]
     },
     "execution_count": 1019,
     "metadata": {},
     "output_type": "execute_result"
    }
   ],
   "source": [
    "df.head()\n"
   ]
  },
  {
   "cell_type": "code",
   "execution_count": 1020,
   "metadata": {},
   "outputs": [
    {
     "name": "stdout",
     "output_type": "stream",
     "text": [
      "<class 'pandas.core.frame.DataFrame'>\n",
      "RangeIndex: 4724 entries, 0 to 4723\n",
      "Data columns (total 17 columns):\n",
      " #   Column                              Non-Null Count  Dtype  \n",
      "---  ------                              --------------  -----  \n",
      " 0   Excerpt                             4724 non-null   object \n",
      " 1   Google\n",
      "WC                           4724 non-null   int64  \n",
      " 2   Joon\n",
      "WC v1                          4724 non-null   int64  \n",
      " 3   British WC                          4724 non-null   int64  \n",
      " 4   Sentence\n",
      "Count v1                   4724 non-null   int64  \n",
      " 5   Sentence\n",
      "Count v2                   4724 non-null   int64  \n",
      " 6   Paragraphs                          4724 non-null   int64  \n",
      " 7   BT Easiness                         4724 non-null   float64\n",
      " 8   Flesch-Reading-Ease                 4724 non-null   float64\n",
      " 9   Flesch-Kincaid-Grade-Level          4724 non-null   float64\n",
      " 10  Automated Readability Index         4724 non-null   float64\n",
      " 11  SMOG Readability                    4724 non-null   float64\n",
      " 12  New Dale-Chall Readability Formula  4724 non-null   float64\n",
      " 13  CAREC                               4724 non-null   float64\n",
      " 14  CAREC_M                             4724 non-null   float64\n",
      " 15  CARES                               4724 non-null   float64\n",
      " 16  CML2RI                              4724 non-null   float64\n",
      "dtypes: float64(10), int64(6), object(1)\n",
      "memory usage: 627.5+ KB\n"
     ]
    }
   ],
   "source": [
    "df.info()\n"
   ]
  },
  {
   "cell_type": "code",
   "execution_count": 1021,
   "metadata": {},
   "outputs": [],
   "source": [
    "# profile = ProfileReport(df, title=\"Profiling Report\")\n"
   ]
  },
  {
   "cell_type": "code",
   "execution_count": 1022,
   "metadata": {},
   "outputs": [],
   "source": [
    "# profile.to_widgets()\n"
   ]
  },
  {
   "cell_type": "code",
   "execution_count": 1023,
   "metadata": {},
   "outputs": [
    {
     "data": {
      "text/plain": [
       "<Axes: xlabel='BT Easiness', ylabel='Count'>"
      ]
     },
     "execution_count": 1023,
     "metadata": {},
     "output_type": "execute_result"
    },
    {
     "data": {
      "image/png": "[encoded data removed]",
      "text/plain": [
       "<Figure size 640x480 with 1 Axes>"
      ]
     },
     "metadata": {},
     "output_type": "display_data"
    }
   ],
   "source": [
    "sns.histplot(data = df, x='BT Easiness')\n"
   ]
  },
  {
   "cell_type": "code",
   "execution_count": 1024,
   "metadata": {},
   "outputs": [
    {
     "data": {
      "text/plain": [
       "-0.9576386305268841"
      ]
     },
     "execution_count": 1024,
     "metadata": {},
     "output_type": "execute_result"
    }
   ],
   "source": [
    "np.mean(df['BT Easiness'])\n"
   ]
  },
  {
   "cell_type": "code",
   "execution_count": 1025,
   "metadata": {},
   "outputs": [
    {
     "data": {
      "text/plain": [
       "-0.9090941785"
      ]
     },
     "execution_count": 1025,
     "metadata": {},
     "output_type": "execute_result"
    }
   ],
   "source": [
    "np.median(df['BT Easiness'])\n"
   ]
  },
  {
   "cell_type": "code",
   "execution_count": 1026,
   "metadata": {},
   "outputs": [
    {
     "data": {
      "text/plain": [
       "<Axes: xlabel='BT Easiness'>"
      ]
     },
     "execution_count": 1026,
     "metadata": {},
     "output_type": "execute_result"
    },
    {
     "data": {
      "image/png": "[encoded data removed]",
      "text/plain": [
       "<Figure size 640x480 with 1 Axes>"
      ]
     },
     "metadata": {},
     "output_type": "display_data"
    }
   ],
   "source": [
    "sns.boxplot(data = df, x='BT Easiness')\n"
   ]
  },
  {
   "cell_type": "code",
   "execution_count": 1027,
   "metadata": {},
   "outputs": [
    {
     "data": {
      "text/plain": [
       "'Once upon a time there were Three Bears who lived together in a house of their own in a wood. One of them was a Little, Small, Wee Bear; and one was a Middle-sized Bear, and the other was a Great, Huge Bear. They had each a pot for their porridge; a little pot for the Little, Small, Wee Bear; and a middle-sized pot for the Middle Bear; and a great pot for the Great, Huge Bear. And they had each a chair to sit in; a little chair for the Little, Small, Wee Bear; and a middle-sized chair for the Middle Bear; and a great chair for the Great, Huge Bear. And they had each a bed to sleep in; a little bed for the Little, Small, Wee Bear; and a middle-sized bed for the Middle Bear; and a great bed for the Great, Huge Bear.'"
      ]
     },
     "execution_count": 1027,
     "metadata": {},
     "output_type": "execute_result"
    }
   ],
   "source": [
    "df[df['BT Easiness'] > 0]['Excerpt'].iloc[0]\n"
   ]
  },
  {
   "cell_type": "code",
   "execution_count": 1028,
   "metadata": {},
   "outputs": [
    {
     "data": {
      "text/plain": [
       "\"It was believed by the principal men of Virginia that Talbot's sympathies were with the revolted colonies; but the influence of his mother, to whom he had been accustomed to defer, had hitherto proved sufficient to prevent him from openly declaring himself. His visit to England, and the delightful reception he had met with there, had weakened somewhat the ties which bound him to his native country, and he found himself in a state of indecision as humiliating as it was painful. Lord Dunmore and Colonel Wilton had each made great efforts to enlist his support, on account of his wealth and position and high personal qualities. It was hinted by one that the ancient barony of the Talbots would be revived by the king; and the gratitude of a free and grateful country, with the consciousness of having materially aided in acquiring that independence which should be the birthright of every Englishman, was eloquently portrayed by the other. When to the last plea was added the personal preference of Katharine Wilton, the balance was overcome, and the hopes of the mother were doomed to disappointment.\""
      ]
     },
     "execution_count": 1028,
     "metadata": {},
     "output_type": "execute_result"
    }
   ],
   "source": [
    "df[df['BT Easiness'] < -2]['Excerpt'].iloc[0]\n"
   ]
  },
  {
   "cell_type": "markdown",
   "metadata": {},
   "source": [
    "# Feature Creation"
   ]
  },
  {
   "cell_type": "markdown",
   "metadata": {},
   "source": [
    "### Adding Excerpt lenght in characters feature"
   ]
  },
  {
   "cell_type": "code",
   "execution_count": 1029,
   "metadata": {},
   "outputs": [],
   "source": [
    "df['len_char'] = df['Excerpt'].apply(lambda x: len(x))\n"
   ]
  },
  {
   "cell_type": "markdown",
   "metadata": {},
   "source": [
    "### Adding Punctuation Ratio"
   ]
  },
  {
   "cell_type": "code",
   "execution_count": 1030,
   "metadata": {},
   "outputs": [
    {
     "data": {
      "text/html": [
       "<div>\n",
       "<style scoped>\n",
       "    .dataframe tbody tr th:only-of-type {\n",
       "        vertical-align: middle;\n",
       "    }\n",
       "\n",
       "    .dataframe tbody tr th {\n",
       "        vertical-align: top;\n",
       "    }\n",
       "\n",
       "    .dataframe thead th {\n",
       "        text-align: right;\n",
       "    }\n",
       "</style>\n",
       "<table border=\"1\" class=\"dataframe\">\n",
       "  <thead>\n",
       "    <tr style=\"text-align: right;\">\n",
       "      <th></th>\n",
       "      <th>Excerpt</th>\n",
       "      <th>Google\\nWC</th>\n",
       "      <th>Joon\\nWC v1</th>\n",
       "      <th>British WC</th>\n",
       "      <th>Sentence\\nCount v1</th>\n",
       "      <th>Sentence\\nCount v2</th>\n",
       "      <th>Paragraphs</th>\n",
       "      <th>BT Easiness</th>\n",
       "      <th>Flesch-Reading-Ease</th>\n",
       "      <th>Flesch-Kincaid-Grade-Level</th>\n",
       "      <th>Automated Readability Index</th>\n",
       "      <th>SMOG Readability</th>\n",
       "      <th>New Dale-Chall Readability Formula</th>\n",
       "      <th>CAREC</th>\n",
       "      <th>CAREC_M</th>\n",
       "      <th>CARES</th>\n",
       "      <th>CML2RI</th>\n",
       "      <th>len_char</th>\n",
       "      <th>punctuation_ratio</th>\n",
       "    </tr>\n",
       "  </thead>\n",
       "  <tbody>\n",
       "    <tr>\n",
       "      <th>0</th>\n",
       "      <td>When the young people returned to the ballroom...</td>\n",
       "      <td>174</td>\n",
       "      <td>179</td>\n",
       "      <td>1</td>\n",
       "      <td>11</td>\n",
       "      <td>11</td>\n",
       "      <td>6</td>\n",
       "      <td>-0.340259</td>\n",
       "      <td>81.70</td>\n",
       "      <td>5.95</td>\n",
       "      <td>7.37</td>\n",
       "      <td>8.0</td>\n",
       "      <td>6.55</td>\n",
       "      <td>0.12102</td>\n",
       "      <td>0.11952</td>\n",
       "      <td>0.457534</td>\n",
       "      <td>12.097815</td>\n",
       "      <td>992</td>\n",
       "      <td>0.027218</td>\n",
       "    </tr>\n",
       "    <tr>\n",
       "      <th>1</th>\n",
       "      <td>All through dinner time, Mrs. Fayre was somewh...</td>\n",
       "      <td>164</td>\n",
       "      <td>184</td>\n",
       "      <td>0</td>\n",
       "      <td>15</td>\n",
       "      <td>15</td>\n",
       "      <td>6</td>\n",
       "      <td>-0.315372</td>\n",
       "      <td>80.26</td>\n",
       "      <td>4.86</td>\n",
       "      <td>4.16</td>\n",
       "      <td>7.0</td>\n",
       "      <td>6.25</td>\n",
       "      <td>0.04921</td>\n",
       "      <td>0.04921</td>\n",
       "      <td>0.462510</td>\n",
       "      <td>22.550179</td>\n",
       "      <td>937</td>\n",
       "      <td>0.059765</td>\n",
       "    </tr>\n",
       "    <tr>\n",
       "      <th>2</th>\n",
       "      <td>As Roger had predicted, the snow departed as q...</td>\n",
       "      <td>162</td>\n",
       "      <td>180</td>\n",
       "      <td>0</td>\n",
       "      <td>11</td>\n",
       "      <td>11</td>\n",
       "      <td>5</td>\n",
       "      <td>-0.580118</td>\n",
       "      <td>79.04</td>\n",
       "      <td>6.03</td>\n",
       "      <td>5.81</td>\n",
       "      <td>9.0</td>\n",
       "      <td>7.31</td>\n",
       "      <td>0.10172</td>\n",
       "      <td>0.09724</td>\n",
       "      <td>0.369259</td>\n",
       "      <td>18.125279</td>\n",
       "      <td>908</td>\n",
       "      <td>0.051762</td>\n",
       "    </tr>\n",
       "    <tr>\n",
       "      <th>3</th>\n",
       "      <td>Mr. Grimes was to come up next morning to Sir ...</td>\n",
       "      <td>159</td>\n",
       "      <td>160</td>\n",
       "      <td>0</td>\n",
       "      <td>3</td>\n",
       "      <td>3</td>\n",
       "      <td>1</td>\n",
       "      <td>-1.785965</td>\n",
       "      <td>44.77</td>\n",
       "      <td>20.51</td>\n",
       "      <td>24.87</td>\n",
       "      <td>12.0</td>\n",
       "      <td>8.56</td>\n",
       "      <td>0.07491</td>\n",
       "      <td>0.08856</td>\n",
       "      <td>0.390759</td>\n",
       "      <td>10.959460</td>\n",
       "      <td>848</td>\n",
       "      <td>0.036557</td>\n",
       "    </tr>\n",
       "    <tr>\n",
       "      <th>4</th>\n",
       "      <td>And outside before the palace a great garden w...</td>\n",
       "      <td>163</td>\n",
       "      <td>164</td>\n",
       "      <td>1</td>\n",
       "      <td>5</td>\n",
       "      <td>5</td>\n",
       "      <td>2</td>\n",
       "      <td>-1.054013</td>\n",
       "      <td>68.07</td>\n",
       "      <td>12.06</td>\n",
       "      <td>15.47</td>\n",
       "      <td>8.0</td>\n",
       "      <td>7.00</td>\n",
       "      <td>0.06356</td>\n",
       "      <td>0.08798</td>\n",
       "      <td>0.389226</td>\n",
       "      <td>3.195960</td>\n",
       "      <td>909</td>\n",
       "      <td>0.036304</td>\n",
       "    </tr>\n",
       "  </tbody>\n",
       "</table>\n",
       "</div>"
      ],
      "text/plain": [
       "                                             Excerpt  Google\\nWC  Joon\\nWC v1  \\\n",
       "0  When the young people returned to the ballroom...         174          179   \n",
       "1  All through dinner time, Mrs. Fayre was somewh...         164          184   \n",
       "2  As Roger had predicted, the snow departed as q...         162          180   \n",
       "3  Mr. Grimes was to come up next morning to Sir ...         159          160   \n",
       "4  And outside before the palace a great garden w...         163          164   \n",
       "\n",
       "   British WC  Sentence\\nCount v1  Sentence\\nCount v2  Paragraphs  \\\n",
       "0           1                  11                  11           6   \n",
       "1           0                  15                  15           6   \n",
       "2           0                  11                  11           5   \n",
       "3           0                   3                   3           1   \n",
       "4           1                   5                   5           2   \n",
       "\n",
       "   BT Easiness  Flesch-Reading-Ease  Flesch-Kincaid-Grade-Level  \\\n",
       "0    -0.340259                81.70                        5.95   \n",
       "1    -0.315372                80.26                        4.86   \n",
       "2    -0.580118                79.04                        6.03   \n",
       "3    -1.785965                44.77                       20.51   \n",
       "4    -1.054013                68.07                       12.06   \n",
       "\n",
       "   Automated Readability Index  SMOG Readability  \\\n",
       "0                         7.37               8.0   \n",
       "1                         4.16               7.0   \n",
       "2                         5.81               9.0   \n",
       "3                        24.87              12.0   \n",
       "4                        15.47               8.0   \n",
       "\n",
       "   New Dale-Chall Readability Formula    CAREC  CAREC_M     CARES     CML2RI  \\\n",
       "0                                6.55  0.12102  0.11952  0.457534  12.097815   \n",
       "1                                6.25  0.04921  0.04921  0.462510  22.550179   \n",
       "2                                7.31  0.10172  0.09724  0.369259  18.125279   \n",
       "3                                8.56  0.07491  0.08856  0.390759  10.959460   \n",
       "4                                7.00  0.06356  0.08798  0.389226   3.195960   \n",
       "\n",
       "   len_char  punctuation_ratio  \n",
       "0       992           0.027218  \n",
       "1       937           0.059765  \n",
       "2       908           0.051762  \n",
       "3       848           0.036557  \n",
       "4       909           0.036304  "
      ]
     },
     "execution_count": 1030,
     "metadata": {},
     "output_type": "execute_result"
    }
   ],
   "source": [
    "import string\n",
    "\n",
    "def count_punctuation(x):\n",
    "\n",
    "    punc = string.punctuation\n",
    "\n",
    "    count=0\n",
    "\n",
    "    for char in x:\n",
    "        if char in punc:\n",
    "            count+=1\n",
    "\n",
    "    return count/ len(x)\n",
    "\n",
    "df['punctuation_ratio'] = df['Excerpt'].apply(count_punctuation)\n",
    "\n",
    "df.head()\n"
   ]
  },
  {
   "cell_type": "markdown",
   "metadata": {},
   "source": [
    "### Adding Average Sentence Lenght"
   ]
  },
  {
   "cell_type": "code",
   "execution_count": 1031,
   "metadata": {},
   "outputs": [],
   "source": [
    "def sentence_len(x):\n",
    "\n",
    "    x = x.replace(\"?\",'.').replace(\"!\",'.')\n",
    "\n",
    "    sentences = x.split('.')\n",
    "\n",
    "    sentences = [sentence for sentence in sentences if len(sentence) > 0]\n",
    "\n",
    "    sent_len = [len(sentence.split()) for sentence in sentences]\n",
    "\n",
    "    return np.mean(sent_len)\n"
   ]
  },
  {
   "cell_type": "code",
   "execution_count": 1032,
   "metadata": {},
   "outputs": [
    {
     "data": {
      "text/html": [
       "<div>\n",
       "<style scoped>\n",
       "    .dataframe tbody tr th:only-of-type {\n",
       "        vertical-align: middle;\n",
       "    }\n",
       "\n",
       "    .dataframe tbody tr th {\n",
       "        vertical-align: top;\n",
       "    }\n",
       "\n",
       "    .dataframe thead th {\n",
       "        text-align: right;\n",
       "    }\n",
       "</style>\n",
       "<table border=\"1\" class=\"dataframe\">\n",
       "  <thead>\n",
       "    <tr style=\"text-align: right;\">\n",
       "      <th></th>\n",
       "      <th>Excerpt</th>\n",
       "      <th>Google\\nWC</th>\n",
       "      <th>Joon\\nWC v1</th>\n",
       "      <th>British WC</th>\n",
       "      <th>Sentence\\nCount v1</th>\n",
       "      <th>Sentence\\nCount v2</th>\n",
       "      <th>Paragraphs</th>\n",
       "      <th>BT Easiness</th>\n",
       "      <th>Flesch-Reading-Ease</th>\n",
       "      <th>Flesch-Kincaid-Grade-Level</th>\n",
       "      <th>Automated Readability Index</th>\n",
       "      <th>SMOG Readability</th>\n",
       "      <th>New Dale-Chall Readability Formula</th>\n",
       "      <th>CAREC</th>\n",
       "      <th>CAREC_M</th>\n",
       "      <th>CARES</th>\n",
       "      <th>CML2RI</th>\n",
       "      <th>len_char</th>\n",
       "      <th>punctuation_ratio</th>\n",
       "      <th>avg_sentence_len</th>\n",
       "    </tr>\n",
       "  </thead>\n",
       "  <tbody>\n",
       "    <tr>\n",
       "      <th>0</th>\n",
       "      <td>When the young people returned to the ballroom...</td>\n",
       "      <td>174</td>\n",
       "      <td>179</td>\n",
       "      <td>1</td>\n",
       "      <td>11</td>\n",
       "      <td>11</td>\n",
       "      <td>6</td>\n",
       "      <td>-0.340259</td>\n",
       "      <td>81.70</td>\n",
       "      <td>5.95</td>\n",
       "      <td>7.37</td>\n",
       "      <td>8.0</td>\n",
       "      <td>6.55</td>\n",
       "      <td>0.12102</td>\n",
       "      <td>0.11952</td>\n",
       "      <td>0.457534</td>\n",
       "      <td>12.097815</td>\n",
       "      <td>992</td>\n",
       "      <td>0.027218</td>\n",
       "      <td>16.272727</td>\n",
       "    </tr>\n",
       "    <tr>\n",
       "      <th>1</th>\n",
       "      <td>All through dinner time, Mrs. Fayre was somewh...</td>\n",
       "      <td>164</td>\n",
       "      <td>184</td>\n",
       "      <td>0</td>\n",
       "      <td>15</td>\n",
       "      <td>15</td>\n",
       "      <td>6</td>\n",
       "      <td>-0.315372</td>\n",
       "      <td>80.26</td>\n",
       "      <td>4.86</td>\n",
       "      <td>4.16</td>\n",
       "      <td>7.0</td>\n",
       "      <td>6.25</td>\n",
       "      <td>0.04921</td>\n",
       "      <td>0.04921</td>\n",
       "      <td>0.462510</td>\n",
       "      <td>22.550179</td>\n",
       "      <td>937</td>\n",
       "      <td>0.059765</td>\n",
       "      <td>10.235294</td>\n",
       "    </tr>\n",
       "    <tr>\n",
       "      <th>2</th>\n",
       "      <td>As Roger had predicted, the snow departed as q...</td>\n",
       "      <td>162</td>\n",
       "      <td>180</td>\n",
       "      <td>0</td>\n",
       "      <td>11</td>\n",
       "      <td>11</td>\n",
       "      <td>5</td>\n",
       "      <td>-0.580118</td>\n",
       "      <td>79.04</td>\n",
       "      <td>6.03</td>\n",
       "      <td>5.81</td>\n",
       "      <td>9.0</td>\n",
       "      <td>7.31</td>\n",
       "      <td>0.10172</td>\n",
       "      <td>0.09724</td>\n",
       "      <td>0.369259</td>\n",
       "      <td>18.125279</td>\n",
       "      <td>908</td>\n",
       "      <td>0.051762</td>\n",
       "      <td>13.076923</td>\n",
       "    </tr>\n",
       "    <tr>\n",
       "      <th>3</th>\n",
       "      <td>Mr. Grimes was to come up next morning to Sir ...</td>\n",
       "      <td>159</td>\n",
       "      <td>160</td>\n",
       "      <td>0</td>\n",
       "      <td>3</td>\n",
       "      <td>3</td>\n",
       "      <td>1</td>\n",
       "      <td>-1.785965</td>\n",
       "      <td>44.77</td>\n",
       "      <td>20.51</td>\n",
       "      <td>24.87</td>\n",
       "      <td>12.0</td>\n",
       "      <td>8.56</td>\n",
       "      <td>0.07491</td>\n",
       "      <td>0.08856</td>\n",
       "      <td>0.390759</td>\n",
       "      <td>10.959460</td>\n",
       "      <td>848</td>\n",
       "      <td>0.036557</td>\n",
       "      <td>39.750000</td>\n",
       "    </tr>\n",
       "    <tr>\n",
       "      <th>4</th>\n",
       "      <td>And outside before the palace a great garden w...</td>\n",
       "      <td>163</td>\n",
       "      <td>164</td>\n",
       "      <td>1</td>\n",
       "      <td>5</td>\n",
       "      <td>5</td>\n",
       "      <td>2</td>\n",
       "      <td>-1.054013</td>\n",
       "      <td>68.07</td>\n",
       "      <td>12.06</td>\n",
       "      <td>15.47</td>\n",
       "      <td>8.0</td>\n",
       "      <td>7.00</td>\n",
       "      <td>0.06356</td>\n",
       "      <td>0.08798</td>\n",
       "      <td>0.389226</td>\n",
       "      <td>3.195960</td>\n",
       "      <td>909</td>\n",
       "      <td>0.036304</td>\n",
       "      <td>32.800000</td>\n",
       "    </tr>\n",
       "  </tbody>\n",
       "</table>\n",
       "</div>"
      ],
      "text/plain": [
       "                                             Excerpt  Google\\nWC  Joon\\nWC v1  \\\n",
       "0  When the young people returned to the ballroom...         174          179   \n",
       "1  All through dinner time, Mrs. Fayre was somewh...         164          184   \n",
       "2  As Roger had predicted, the snow departed as q...         162          180   \n",
       "3  Mr. Grimes was to come up next morning to Sir ...         159          160   \n",
       "4  And outside before the palace a great garden w...         163          164   \n",
       "\n",
       "   British WC  Sentence\\nCount v1  Sentence\\nCount v2  Paragraphs  \\\n",
       "0           1                  11                  11           6   \n",
       "1           0                  15                  15           6   \n",
       "2           0                  11                  11           5   \n",
       "3           0                   3                   3           1   \n",
       "4           1                   5                   5           2   \n",
       "\n",
       "   BT Easiness  Flesch-Reading-Ease  Flesch-Kincaid-Grade-Level  \\\n",
       "0    -0.340259                81.70                        5.95   \n",
       "1    -0.315372                80.26                        4.86   \n",
       "2    -0.580118                79.04                        6.03   \n",
       "3    -1.785965                44.77                       20.51   \n",
       "4    -1.054013                68.07                       12.06   \n",
       "\n",
       "   Automated Readability Index  SMOG Readability  \\\n",
       "0                         7.37               8.0   \n",
       "1                         4.16               7.0   \n",
       "2                         5.81               9.0   \n",
       "3                        24.87              12.0   \n",
       "4                        15.47               8.0   \n",
       "\n",
       "   New Dale-Chall Readability Formula    CAREC  CAREC_M     CARES     CML2RI  \\\n",
       "0                                6.55  0.12102  0.11952  0.457534  12.097815   \n",
       "1                                6.25  0.04921  0.04921  0.462510  22.550179   \n",
       "2                                7.31  0.10172  0.09724  0.369259  18.125279   \n",
       "3                                8.56  0.07491  0.08856  0.390759  10.959460   \n",
       "4                                7.00  0.06356  0.08798  0.389226   3.195960   \n",
       "\n",
       "   len_char  punctuation_ratio  avg_sentence_len  \n",
       "0       992           0.027218         16.272727  \n",
       "1       937           0.059765         10.235294  \n",
       "2       908           0.051762         13.076923  \n",
       "3       848           0.036557         39.750000  \n",
       "4       909           0.036304         32.800000  "
      ]
     },
     "execution_count": 1032,
     "metadata": {},
     "output_type": "execute_result"
    }
   ],
   "source": [
    "df['avg_sentence_len'] = df['Excerpt'].apply(sentence_len)\n",
    "\n",
    "df.head()\n"
   ]
  },
  {
   "cell_type": "markdown",
   "metadata": {},
   "source": [
    "### Adding average word lenght in chars"
   ]
  },
  {
   "cell_type": "code",
   "execution_count": 1033,
   "metadata": {},
   "outputs": [],
   "source": [
    "def avg_word_lenght(x):\n",
    "\n",
    "    punctuation = string.punctuation\n",
    "    for punc in punctuation:\n",
    "        x = x.replace(punc,' ')\n",
    "\n",
    "    words = x.split(' ')\n",
    "\n",
    "    words = [word for word in words if len(word) > 0]\n",
    "\n",
    "    word_len = [len(word) for word in words]\n",
    "\n",
    "    return np.mean(word_len)\n"
   ]
  },
  {
   "cell_type": "code",
   "execution_count": 1034,
   "metadata": {},
   "outputs": [
    {
     "data": {
      "text/html": [
       "<div>\n",
       "<style scoped>\n",
       "    .dataframe tbody tr th:only-of-type {\n",
       "        vertical-align: middle;\n",
       "    }\n",
       "\n",
       "    .dataframe tbody tr th {\n",
       "        vertical-align: top;\n",
       "    }\n",
       "\n",
       "    .dataframe thead th {\n",
       "        text-align: right;\n",
       "    }\n",
       "</style>\n",
       "<table border=\"1\" class=\"dataframe\">\n",
       "  <thead>\n",
       "    <tr style=\"text-align: right;\">\n",
       "      <th></th>\n",
       "      <th>Excerpt</th>\n",
       "      <th>Google\\nWC</th>\n",
       "      <th>Joon\\nWC v1</th>\n",
       "      <th>British WC</th>\n",
       "      <th>Sentence\\nCount v1</th>\n",
       "      <th>Sentence\\nCount v2</th>\n",
       "      <th>Paragraphs</th>\n",
       "      <th>BT Easiness</th>\n",
       "      <th>Flesch-Reading-Ease</th>\n",
       "      <th>Flesch-Kincaid-Grade-Level</th>\n",
       "      <th>...</th>\n",
       "      <th>SMOG Readability</th>\n",
       "      <th>New Dale-Chall Readability Formula</th>\n",
       "      <th>CAREC</th>\n",
       "      <th>CAREC_M</th>\n",
       "      <th>CARES</th>\n",
       "      <th>CML2RI</th>\n",
       "      <th>len_char</th>\n",
       "      <th>punctuation_ratio</th>\n",
       "      <th>avg_sentence_len</th>\n",
       "      <th>avg_word_len</th>\n",
       "    </tr>\n",
       "  </thead>\n",
       "  <tbody>\n",
       "    <tr>\n",
       "      <th>0</th>\n",
       "      <td>When the young people returned to the ballroom...</td>\n",
       "      <td>174</td>\n",
       "      <td>179</td>\n",
       "      <td>1</td>\n",
       "      <td>11</td>\n",
       "      <td>11</td>\n",
       "      <td>6</td>\n",
       "      <td>-0.340259</td>\n",
       "      <td>81.70</td>\n",
       "      <td>5.95</td>\n",
       "      <td>...</td>\n",
       "      <td>8.0</td>\n",
       "      <td>6.55</td>\n",
       "      <td>0.12102</td>\n",
       "      <td>0.11952</td>\n",
       "      <td>0.457534</td>\n",
       "      <td>12.097815</td>\n",
       "      <td>992</td>\n",
       "      <td>0.027218</td>\n",
       "      <td>16.272727</td>\n",
       "      <td>4.375691</td>\n",
       "    </tr>\n",
       "    <tr>\n",
       "      <th>1</th>\n",
       "      <td>All through dinner time, Mrs. Fayre was somewh...</td>\n",
       "      <td>164</td>\n",
       "      <td>184</td>\n",
       "      <td>0</td>\n",
       "      <td>15</td>\n",
       "      <td>15</td>\n",
       "      <td>6</td>\n",
       "      <td>-0.315372</td>\n",
       "      <td>80.26</td>\n",
       "      <td>4.86</td>\n",
       "      <td>...</td>\n",
       "      <td>7.0</td>\n",
       "      <td>6.25</td>\n",
       "      <td>0.04921</td>\n",
       "      <td>0.04921</td>\n",
       "      <td>0.462510</td>\n",
       "      <td>22.550179</td>\n",
       "      <td>937</td>\n",
       "      <td>0.059765</td>\n",
       "      <td>10.235294</td>\n",
       "      <td>4.102857</td>\n",
       "    </tr>\n",
       "    <tr>\n",
       "      <th>2</th>\n",
       "      <td>As Roger had predicted, the snow departed as q...</td>\n",
       "      <td>162</td>\n",
       "      <td>180</td>\n",
       "      <td>0</td>\n",
       "      <td>11</td>\n",
       "      <td>11</td>\n",
       "      <td>5</td>\n",
       "      <td>-0.580118</td>\n",
       "      <td>79.04</td>\n",
       "      <td>6.03</td>\n",
       "      <td>...</td>\n",
       "      <td>9.0</td>\n",
       "      <td>7.31</td>\n",
       "      <td>0.10172</td>\n",
       "      <td>0.09724</td>\n",
       "      <td>0.369259</td>\n",
       "      <td>18.125279</td>\n",
       "      <td>908</td>\n",
       "      <td>0.051762</td>\n",
       "      <td>13.076923</td>\n",
       "      <td>4.000000</td>\n",
       "    </tr>\n",
       "    <tr>\n",
       "      <th>3</th>\n",
       "      <td>Mr. Grimes was to come up next morning to Sir ...</td>\n",
       "      <td>159</td>\n",
       "      <td>160</td>\n",
       "      <td>0</td>\n",
       "      <td>3</td>\n",
       "      <td>3</td>\n",
       "      <td>1</td>\n",
       "      <td>-1.785965</td>\n",
       "      <td>44.77</td>\n",
       "      <td>20.51</td>\n",
       "      <td>...</td>\n",
       "      <td>12.0</td>\n",
       "      <td>8.56</td>\n",
       "      <td>0.07491</td>\n",
       "      <td>0.08856</td>\n",
       "      <td>0.390759</td>\n",
       "      <td>10.959460</td>\n",
       "      <td>848</td>\n",
       "      <td>0.036557</td>\n",
       "      <td>39.750000</td>\n",
       "      <td>4.018293</td>\n",
       "    </tr>\n",
       "    <tr>\n",
       "      <th>4</th>\n",
       "      <td>And outside before the palace a great garden w...</td>\n",
       "      <td>163</td>\n",
       "      <td>164</td>\n",
       "      <td>1</td>\n",
       "      <td>5</td>\n",
       "      <td>5</td>\n",
       "      <td>2</td>\n",
       "      <td>-1.054013</td>\n",
       "      <td>68.07</td>\n",
       "      <td>12.06</td>\n",
       "      <td>...</td>\n",
       "      <td>8.0</td>\n",
       "      <td>7.00</td>\n",
       "      <td>0.06356</td>\n",
       "      <td>0.08798</td>\n",
       "      <td>0.389226</td>\n",
       "      <td>3.195960</td>\n",
       "      <td>909</td>\n",
       "      <td>0.036304</td>\n",
       "      <td>32.800000</td>\n",
       "      <td>4.275449</td>\n",
       "    </tr>\n",
       "  </tbody>\n",
       "</table>\n",
       "<p>5 rows × 21 columns</p>\n",
       "</div>"
      ],
      "text/plain": [
       "                                             Excerpt  Google\\nWC  Joon\\nWC v1  \\\n",
       "0  When the young people returned to the ballroom...         174          179   \n",
       "1  All through dinner time, Mrs. Fayre was somewh...         164          184   \n",
       "2  As Roger had predicted, the snow departed as q...         162          180   \n",
       "3  Mr. Grimes was to come up next morning to Sir ...         159          160   \n",
       "4  And outside before the palace a great garden w...         163          164   \n",
       "\n",
       "   British WC  Sentence\\nCount v1  Sentence\\nCount v2  Paragraphs  \\\n",
       "0           1                  11                  11           6   \n",
       "1           0                  15                  15           6   \n",
       "2           0                  11                  11           5   \n",
       "3           0                   3                   3           1   \n",
       "4           1                   5                   5           2   \n",
       "\n",
       "   BT Easiness  Flesch-Reading-Ease  Flesch-Kincaid-Grade-Level  ...  \\\n",
       "0    -0.340259                81.70                        5.95  ...   \n",
       "1    -0.315372                80.26                        4.86  ...   \n",
       "2    -0.580118                79.04                        6.03  ...   \n",
       "3    -1.785965                44.77                       20.51  ...   \n",
       "4    -1.054013                68.07                       12.06  ...   \n",
       "\n",
       "   SMOG Readability  New Dale-Chall Readability Formula    CAREC  CAREC_M  \\\n",
       "0               8.0                                6.55  0.12102  0.11952   \n",
       "1               7.0                                6.25  0.04921  0.04921   \n",
       "2               9.0                                7.31  0.10172  0.09724   \n",
       "3              12.0                                8.56  0.07491  0.08856   \n",
       "4               8.0                                7.00  0.06356  0.08798   \n",
       "\n",
       "      CARES     CML2RI  len_char  punctuation_ratio  avg_sentence_len  \\\n",
       "0  0.457534  12.097815       992           0.027218         16.272727   \n",
       "1  0.462510  22.550179       937           0.059765         10.235294   \n",
       "2  0.369259  18.125279       908           0.051762         13.076923   \n",
       "3  0.390759  10.959460       848           0.036557         39.750000   \n",
       "4  0.389226   3.195960       909           0.036304         32.800000   \n",
       "\n",
       "   avg_word_len  \n",
       "0      4.375691  \n",
       "1      4.102857  \n",
       "2      4.000000  \n",
       "3      4.018293  \n",
       "4      4.275449  \n",
       "\n",
       "[5 rows x 21 columns]"
      ]
     },
     "execution_count": 1034,
     "metadata": {},
     "output_type": "execute_result"
    }
   ],
   "source": [
    "df['avg_word_len'] = df['Excerpt'].apply(avg_word_lenght)\n",
    "\n",
    "df.head()\n"
   ]
  },
  {
   "cell_type": "markdown",
   "metadata": {},
   "source": [
    "### Adding Average Number of Words per Sentence"
   ]
  },
  {
   "cell_type": "code",
   "execution_count": 1035,
   "metadata": {},
   "outputs": [
    {
     "data": {
      "text/html": [
       "<div>\n",
       "<style scoped>\n",
       "    .dataframe tbody tr th:only-of-type {\n",
       "        vertical-align: middle;\n",
       "    }\n",
       "\n",
       "    .dataframe tbody tr th {\n",
       "        vertical-align: top;\n",
       "    }\n",
       "\n",
       "    .dataframe thead th {\n",
       "        text-align: right;\n",
       "    }\n",
       "</style>\n",
       "<table border=\"1\" class=\"dataframe\">\n",
       "  <thead>\n",
       "    <tr style=\"text-align: right;\">\n",
       "      <th></th>\n",
       "      <th>Excerpt</th>\n",
       "      <th>Google\\nWC</th>\n",
       "      <th>Joon\\nWC v1</th>\n",
       "      <th>British WC</th>\n",
       "      <th>Sentence\\nCount v1</th>\n",
       "      <th>Sentence\\nCount v2</th>\n",
       "      <th>Paragraphs</th>\n",
       "      <th>BT Easiness</th>\n",
       "      <th>Flesch-Reading-Ease</th>\n",
       "      <th>Flesch-Kincaid-Grade-Level</th>\n",
       "      <th>...</th>\n",
       "      <th>New Dale-Chall Readability Formula</th>\n",
       "      <th>CAREC</th>\n",
       "      <th>CAREC_M</th>\n",
       "      <th>CARES</th>\n",
       "      <th>CML2RI</th>\n",
       "      <th>len_char</th>\n",
       "      <th>punctuation_ratio</th>\n",
       "      <th>avg_sentence_len</th>\n",
       "      <th>avg_word_len</th>\n",
       "      <th>avg_word_sent</th>\n",
       "    </tr>\n",
       "  </thead>\n",
       "  <tbody>\n",
       "    <tr>\n",
       "      <th>0</th>\n",
       "      <td>When the young people returned to the ballroom...</td>\n",
       "      <td>174</td>\n",
       "      <td>179</td>\n",
       "      <td>1</td>\n",
       "      <td>11</td>\n",
       "      <td>11</td>\n",
       "      <td>6</td>\n",
       "      <td>-0.340259</td>\n",
       "      <td>81.70</td>\n",
       "      <td>5.95</td>\n",
       "      <td>...</td>\n",
       "      <td>6.55</td>\n",
       "      <td>0.12102</td>\n",
       "      <td>0.11952</td>\n",
       "      <td>0.457534</td>\n",
       "      <td>12.097815</td>\n",
       "      <td>992</td>\n",
       "      <td>0.027218</td>\n",
       "      <td>16.272727</td>\n",
       "      <td>4.375691</td>\n",
       "      <td>15.818182</td>\n",
       "    </tr>\n",
       "    <tr>\n",
       "      <th>1</th>\n",
       "      <td>All through dinner time, Mrs. Fayre was somewh...</td>\n",
       "      <td>164</td>\n",
       "      <td>184</td>\n",
       "      <td>0</td>\n",
       "      <td>15</td>\n",
       "      <td>15</td>\n",
       "      <td>6</td>\n",
       "      <td>-0.315372</td>\n",
       "      <td>80.26</td>\n",
       "      <td>4.86</td>\n",
       "      <td>...</td>\n",
       "      <td>6.25</td>\n",
       "      <td>0.04921</td>\n",
       "      <td>0.04921</td>\n",
       "      <td>0.462510</td>\n",
       "      <td>22.550179</td>\n",
       "      <td>937</td>\n",
       "      <td>0.059765</td>\n",
       "      <td>10.235294</td>\n",
       "      <td>4.102857</td>\n",
       "      <td>10.933333</td>\n",
       "    </tr>\n",
       "    <tr>\n",
       "      <th>2</th>\n",
       "      <td>As Roger had predicted, the snow departed as q...</td>\n",
       "      <td>162</td>\n",
       "      <td>180</td>\n",
       "      <td>0</td>\n",
       "      <td>11</td>\n",
       "      <td>11</td>\n",
       "      <td>5</td>\n",
       "      <td>-0.580118</td>\n",
       "      <td>79.04</td>\n",
       "      <td>6.03</td>\n",
       "      <td>...</td>\n",
       "      <td>7.31</td>\n",
       "      <td>0.10172</td>\n",
       "      <td>0.09724</td>\n",
       "      <td>0.369259</td>\n",
       "      <td>18.125279</td>\n",
       "      <td>908</td>\n",
       "      <td>0.051762</td>\n",
       "      <td>13.076923</td>\n",
       "      <td>4.000000</td>\n",
       "      <td>14.727273</td>\n",
       "    </tr>\n",
       "    <tr>\n",
       "      <th>3</th>\n",
       "      <td>Mr. Grimes was to come up next morning to Sir ...</td>\n",
       "      <td>159</td>\n",
       "      <td>160</td>\n",
       "      <td>0</td>\n",
       "      <td>3</td>\n",
       "      <td>3</td>\n",
       "      <td>1</td>\n",
       "      <td>-1.785965</td>\n",
       "      <td>44.77</td>\n",
       "      <td>20.51</td>\n",
       "      <td>...</td>\n",
       "      <td>8.56</td>\n",
       "      <td>0.07491</td>\n",
       "      <td>0.08856</td>\n",
       "      <td>0.390759</td>\n",
       "      <td>10.959460</td>\n",
       "      <td>848</td>\n",
       "      <td>0.036557</td>\n",
       "      <td>39.750000</td>\n",
       "      <td>4.018293</td>\n",
       "      <td>53.000000</td>\n",
       "    </tr>\n",
       "    <tr>\n",
       "      <th>4</th>\n",
       "      <td>And outside before the palace a great garden w...</td>\n",
       "      <td>163</td>\n",
       "      <td>164</td>\n",
       "      <td>1</td>\n",
       "      <td>5</td>\n",
       "      <td>5</td>\n",
       "      <td>2</td>\n",
       "      <td>-1.054013</td>\n",
       "      <td>68.07</td>\n",
       "      <td>12.06</td>\n",
       "      <td>...</td>\n",
       "      <td>7.00</td>\n",
       "      <td>0.06356</td>\n",
       "      <td>0.08798</td>\n",
       "      <td>0.389226</td>\n",
       "      <td>3.195960</td>\n",
       "      <td>909</td>\n",
       "      <td>0.036304</td>\n",
       "      <td>32.800000</td>\n",
       "      <td>4.275449</td>\n",
       "      <td>32.600000</td>\n",
       "    </tr>\n",
       "  </tbody>\n",
       "</table>\n",
       "<p>5 rows × 22 columns</p>\n",
       "</div>"
      ],
      "text/plain": [
       "                                             Excerpt  Google\\nWC  Joon\\nWC v1  \\\n",
       "0  When the young people returned to the ballroom...         174          179   \n",
       "1  All through dinner time, Mrs. Fayre was somewh...         164          184   \n",
       "2  As Roger had predicted, the snow departed as q...         162          180   \n",
       "3  Mr. Grimes was to come up next morning to Sir ...         159          160   \n",
       "4  And outside before the palace a great garden w...         163          164   \n",
       "\n",
       "   British WC  Sentence\\nCount v1  Sentence\\nCount v2  Paragraphs  \\\n",
       "0           1                  11                  11           6   \n",
       "1           0                  15                  15           6   \n",
       "2           0                  11                  11           5   \n",
       "3           0                   3                   3           1   \n",
       "4           1                   5                   5           2   \n",
       "\n",
       "   BT Easiness  Flesch-Reading-Ease  Flesch-Kincaid-Grade-Level  ...  \\\n",
       "0    -0.340259                81.70                        5.95  ...   \n",
       "1    -0.315372                80.26                        4.86  ...   \n",
       "2    -0.580118                79.04                        6.03  ...   \n",
       "3    -1.785965                44.77                       20.51  ...   \n",
       "4    -1.054013                68.07                       12.06  ...   \n",
       "\n",
       "   New Dale-Chall Readability Formula    CAREC  CAREC_M     CARES     CML2RI  \\\n",
       "0                                6.55  0.12102  0.11952  0.457534  12.097815   \n",
       "1                                6.25  0.04921  0.04921  0.462510  22.550179   \n",
       "2                                7.31  0.10172  0.09724  0.369259  18.125279   \n",
       "3                                8.56  0.07491  0.08856  0.390759  10.959460   \n",
       "4                                7.00  0.06356  0.08798  0.389226   3.195960   \n",
       "\n",
       "   len_char  punctuation_ratio  avg_sentence_len  avg_word_len  avg_word_sent  \n",
       "0       992           0.027218         16.272727      4.375691      15.818182  \n",
       "1       937           0.059765         10.235294      4.102857      10.933333  \n",
       "2       908           0.051762         13.076923      4.000000      14.727273  \n",
       "3       848           0.036557         39.750000      4.018293      53.000000  \n",
       "4       909           0.036304         32.800000      4.275449      32.600000  \n",
       "\n",
       "[5 rows x 22 columns]"
      ]
     },
     "execution_count": 1035,
     "metadata": {},
     "output_type": "execute_result"
    }
   ],
   "source": [
    "df['avg_word_sent'] = df['Google\\nWC']/df['Sentence\\nCount v1']\n",
    "df.head()\n"
   ]
  },
  {
   "cell_type": "markdown",
   "metadata": {},
   "source": [
    "### Adding Lexical Diversity Scores"
   ]
  },
  {
   "cell_type": "code",
   "execution_count": null,
   "metadata": {},
   "outputs": [],
   "source": []
  },
  {
   "cell_type": "markdown",
   "metadata": {},
   "source": [
    "### Adding Morphological Information"
   ]
  },
  {
   "cell_type": "markdown",
   "metadata": {},
   "source": [
    "# Dummy baseline model (Deprecated)"
   ]
  },
  {
   "cell_type": "markdown",
   "metadata": {},
   "source": [
    "### Train Test Split"
   ]
  },
  {
   "cell_type": "code",
   "execution_count": 1036,
   "metadata": {},
   "outputs": [],
   "source": [
    "# # 60% train test split as the Kaggle competition\n",
    "# df_train = df[df['Kaggle split'] == 'Train']\n",
    "# df_test = df[df['Kaggle split'] == 'Test']\n"
   ]
  },
  {
   "cell_type": "code",
   "execution_count": 1037,
   "metadata": {},
   "outputs": [],
   "source": [
    "# X_train = df_train.drop(columns=['Kaggle split', 'BT Easiness', 'BT s.e.'])\n",
    "# y_train = df_train['BT Easiness']\n"
   ]
  },
  {
   "cell_type": "code",
   "execution_count": 1038,
   "metadata": {},
   "outputs": [],
   "source": [
    "# X_test = df_test.drop(columns=['Kaggle split', 'BT Easiness', 'BT s.e.'])\n",
    "# y_test = df_test['BT Easiness']\n"
   ]
  },
  {
   "cell_type": "markdown",
   "metadata": {},
   "source": [
    "### Dummy prediction using BE Average (Deprecated)"
   ]
  },
  {
   "cell_type": "code",
   "execution_count": 1039,
   "metadata": {},
   "outputs": [],
   "source": [
    "# y_pred = np.mean(y_train)\n",
    "# y_pred = array = np.full(y_test.shape, y_pred)\n",
    "# y_pred\n"
   ]
  },
  {
   "cell_type": "code",
   "execution_count": 1040,
   "metadata": {},
   "outputs": [],
   "source": [
    "# baseline_mse = mean_squared_error(y_test, y_pred)\n",
    "# baseline_mse\n"
   ]
  },
  {
   "cell_type": "code",
   "execution_count": 1041,
   "metadata": {},
   "outputs": [],
   "source": [
    "# baseline_rmse = mean_squared_error(y_test, y_pred, squared=False)\n",
    "# baseline_rmse\n"
   ]
  },
  {
   "cell_type": "markdown",
   "metadata": {},
   "source": [
    "### Creating RMSE score"
   ]
  },
  {
   "cell_type": "code",
   "execution_count": 1042,
   "metadata": {},
   "outputs": [],
   "source": [
    "# rmsle_neg = make_scorer(\n",
    "#     lambda y_true, y_pred: mean_squared_error(y_true, y_pred)**0.5,\n",
    "#     greater_is_better=False\n",
    "# )\n"
   ]
  },
  {
   "cell_type": "markdown",
   "metadata": {},
   "source": [
    "# Preprocessing Workflow"
   ]
  },
  {
   "cell_type": "code",
   "execution_count": 1043,
   "metadata": {},
   "outputs": [
    {
     "name": "stdout",
     "output_type": "stream",
     "text": [
      "<class 'pandas.core.frame.DataFrame'>\n",
      "RangeIndex: 4724 entries, 0 to 4723\n",
      "Data columns (total 22 columns):\n",
      " #   Column                              Non-Null Count  Dtype  \n",
      "---  ------                              --------------  -----  \n",
      " 0   Excerpt                             4724 non-null   object \n",
      " 1   Google\n",
      "WC                           4724 non-null   int64  \n",
      " 2   Joon\n",
      "WC v1                          4724 non-null   int64  \n",
      " 3   British WC                          4724 non-null   int64  \n",
      " 4   Sentence\n",
      "Count v1                   4724 non-null   int64  \n",
      " 5   Sentence\n",
      "Count v2                   4724 non-null   int64  \n",
      " 6   Paragraphs                          4724 non-null   int64  \n",
      " 7   BT Easiness                         4724 non-null   float64\n",
      " 8   Flesch-Reading-Ease                 4724 non-null   float64\n",
      " 9   Flesch-Kincaid-Grade-Level          4724 non-null   float64\n",
      " 10  Automated Readability Index         4724 non-null   float64\n",
      " 11  SMOG Readability                    4724 non-null   float64\n",
      " 12  New Dale-Chall Readability Formula  4724 non-null   float64\n",
      " 13  CAREC                               4724 non-null   float64\n",
      " 14  CAREC_M                             4724 non-null   float64\n",
      " 15  CARES                               4724 non-null   float64\n",
      " 16  CML2RI                              4724 non-null   float64\n",
      " 17  len_char                            4724 non-null   int64  \n",
      " 18  punctuation_ratio                   4724 non-null   float64\n",
      " 19  avg_sentence_len                    4724 non-null   float64\n",
      " 20  avg_word_len                        4724 non-null   float64\n",
      " 21  avg_word_sent                       4724 non-null   float64\n",
      "dtypes: float64(14), int64(7), object(1)\n",
      "memory usage: 812.1+ KB\n"
     ]
    }
   ],
   "source": [
    "df.info()\n"
   ]
  },
  {
   "cell_type": "markdown",
   "metadata": {},
   "source": [
    "## Drop Duplicates"
   ]
  },
  {
   "cell_type": "code",
   "execution_count": 1044,
   "metadata": {},
   "outputs": [
    {
     "data": {
      "text/plain": [
       "0"
      ]
     },
     "execution_count": 1044,
     "metadata": {},
     "output_type": "execute_result"
    }
   ],
   "source": [
    "X_train.duplicated().sum()\n"
   ]
  },
  {
   "cell_type": "code",
   "execution_count": 1045,
   "metadata": {},
   "outputs": [
    {
     "data": {
      "text/plain": [
       "0"
      ]
     },
     "execution_count": 1045,
     "metadata": {},
     "output_type": "execute_result"
    }
   ],
   "source": [
    "X_test.duplicated().sum()\n"
   ]
  },
  {
   "cell_type": "markdown",
   "metadata": {},
   "source": [
    "#### No duplicates found"
   ]
  },
  {
   "cell_type": "markdown",
   "metadata": {},
   "source": [
    "## Missing Values"
   ]
  },
  {
   "cell_type": "markdown",
   "metadata": {},
   "source": [
    "#### only pub year has misisng values, decide wheather to drop or not"
   ]
  },
  {
   "cell_type": "code",
   "execution_count": 1046,
   "metadata": {},
   "outputs": [
    {
     "data": {
      "text/plain": [
       "Excerpt                               0\n",
       "Google\\nWC                            0\n",
       "avg_word_len                          0\n",
       "avg_sentence_len                      0\n",
       "punctuation_ratio                     0\n",
       "len_char                              0\n",
       "CML2RI                                0\n",
       "CARES                                 0\n",
       "CAREC_M                               0\n",
       "CAREC                                 0\n",
       "New Dale-Chall Readability Formula    0\n",
       "SMOG Readability                      0\n",
       "Automated Readability Index           0\n",
       "Flesch-Kincaid-Grade-Level            0\n",
       "Flesch-Reading-Ease                   0\n",
       "BT Easiness                           0\n",
       "Paragraphs                            0\n",
       "Sentence\\nCount v2                    0\n",
       "Sentence\\nCount v1                    0\n",
       "British WC                            0\n",
       "Joon\\nWC v1                           0\n",
       "avg_word_sent                         0\n",
       "dtype: int64"
      ]
     },
     "execution_count": 1046,
     "metadata": {},
     "output_type": "execute_result"
    }
   ],
   "source": [
    "# Counting the number of NaN for each column\n",
    "df.isnull().sum().sort_values(ascending=False)\n"
   ]
  },
  {
   "cell_type": "markdown",
   "metadata": {},
   "source": [
    "## checking outliers"
   ]
  },
  {
   "cell_type": "markdown",
   "metadata": {},
   "source": [
    "#### let's start with standard scaling, otherwise we can check also robust"
   ]
  },
  {
   "cell_type": "code",
   "execution_count": 1047,
   "metadata": {},
   "outputs": [],
   "source": [
    "numerical_df = df.select_dtypes(include=['int64', 'float64'])\n"
   ]
  },
  {
   "cell_type": "code",
   "execution_count": 1048,
   "metadata": {},
   "outputs": [],
   "source": [
    "# # checking outliers with boxplots\n",
    "# for column in numerical_df.columns:\n",
    "#     plt.figure()  # Create a new figure\n",
    "#     numerical_df[[column]].boxplot()\n",
    "#     plt.title(column)  # Optional: adds a title to each plot\n",
    "#     plt.show()\n"
   ]
  },
  {
   "cell_type": "markdown",
   "metadata": {},
   "source": [
    "## Scaling"
   ]
  },
  {
   "cell_type": "code",
   "execution_count": 1049,
   "metadata": {},
   "outputs": [],
   "source": [
    "# sklearn.preprocessing.RobustScaler\n",
    "# or standard scaler\n"
   ]
  },
  {
   "cell_type": "markdown",
   "metadata": {},
   "source": [
    "## Encoding"
   ]
  },
  {
   "cell_type": "code",
   "execution_count": 1050,
   "metadata": {},
   "outputs": [],
   "source": [
    "# https://scikit-learn.org/stable/modules/generated/sklearn.preprocessing.OneHotEncoder.html\n"
   ]
  },
  {
   "cell_type": "markdown",
   "metadata": {},
   "source": []
  },
  {
   "cell_type": "markdown",
   "metadata": {},
   "source": [
    "## Discretizing target"
   ]
  },
  {
   "cell_type": "code",
   "execution_count": 1051,
   "metadata": {},
   "outputs": [],
   "source": [
    "# data['SalePriceBinary'] = pd.cut(x = data['SalePrice'],\n",
    "#                                  bins=[data['SalePrice'].min()-1,\n",
    "#                                        data['SalePrice'].mean(),\n",
    "#                                        data['SalePrice'].max()+1],\n",
    "#                                  labels=['cheap', 'expensive'])\n",
    "\n",
    "# data.head()\n"
   ]
  },
  {
   "cell_type": "markdown",
   "metadata": {},
   "source": [
    "## Feature Permutation"
   ]
  },
  {
   "cell_type": "code",
   "execution_count": null,
   "metadata": {},
   "outputs": [],
   "source": []
  },
  {
   "cell_type": "markdown",
   "metadata": {},
   "source": []
  },
  {
   "cell_type": "markdown",
   "metadata": {},
   "source": [
    "# Preprocessing Pipeline"
   ]
  },
  {
   "cell_type": "markdown",
   "metadata": {},
   "source": [
    "### num Features pipe"
   ]
  },
  {
   "cell_type": "code",
   "execution_count": 1052,
   "metadata": {},
   "outputs": [],
   "source": [
    "# Build the pipeline with the different steps\n",
    "num_preproc_pipeline = Pipeline([\n",
    "    ('standard_scaler', StandardScaler()),\n",
    "\n",
    "])\n"
   ]
  },
  {
   "cell_type": "markdown",
   "metadata": {},
   "source": [
    "### Cat Features pipe"
   ]
  },
  {
   "cell_type": "markdown",
   "metadata": {},
   "source": [
    "#### As of now I am dropping the categorical features as they are probably note relevant for our final objective"
   ]
  },
  {
   "cell_type": "markdown",
   "metadata": {},
   "source": [
    "### Discretizing Target"
   ]
  },
  {
   "cell_type": "markdown",
   "metadata": {},
   "source": [
    "#### discretizing target in two categories 0 = Hard and 1 = Easy"
   ]
  },
  {
   "cell_type": "code",
   "execution_count": 1053,
   "metadata": {},
   "outputs": [
    {
     "data": {
      "text/plain": [
       "[-3.676267773,\n",
       " -2.0329096932509003,\n",
       " -1.409577679951,\n",
       " -0.9090941785,\n",
       " -0.46278055254539985,\n",
       " 0.08201879812629961,\n",
       " 1.711389827]"
      ]
     },
     "execution_count": 1053,
     "metadata": {},
     "output_type": "execute_result"
    }
   ],
   "source": [
    "# Calculating quantiles for bin edges - 7 edges for 6 bins\n",
    "quantiles = df['BT Easiness'].quantile([0, 0.1667, 0.3333, 0.5, 0.6667, 0.8333, 1]).tolist()\n",
    "quantiles\n"
   ]
  },
  {
   "cell_type": "code",
   "execution_count": 1054,
   "metadata": {},
   "outputs": [
    {
     "data": {
      "text/html": [
       "<div>\n",
       "<style scoped>\n",
       "    .dataframe tbody tr th:only-of-type {\n",
       "        vertical-align: middle;\n",
       "    }\n",
       "\n",
       "    .dataframe tbody tr th {\n",
       "        vertical-align: top;\n",
       "    }\n",
       "\n",
       "    .dataframe thead th {\n",
       "        text-align: right;\n",
       "    }\n",
       "</style>\n",
       "<table border=\"1\" class=\"dataframe\">\n",
       "  <thead>\n",
       "    <tr style=\"text-align: right;\">\n",
       "      <th></th>\n",
       "      <th>Excerpt</th>\n",
       "      <th>Google\\nWC</th>\n",
       "      <th>Joon\\nWC v1</th>\n",
       "      <th>British WC</th>\n",
       "      <th>Sentence\\nCount v1</th>\n",
       "      <th>Sentence\\nCount v2</th>\n",
       "      <th>Paragraphs</th>\n",
       "      <th>BT Easiness</th>\n",
       "      <th>Flesch-Reading-Ease</th>\n",
       "      <th>Flesch-Kincaid-Grade-Level</th>\n",
       "      <th>...</th>\n",
       "      <th>New Dale-Chall Readability Formula</th>\n",
       "      <th>CAREC</th>\n",
       "      <th>CAREC_M</th>\n",
       "      <th>CARES</th>\n",
       "      <th>CML2RI</th>\n",
       "      <th>len_char</th>\n",
       "      <th>punctuation_ratio</th>\n",
       "      <th>avg_sentence_len</th>\n",
       "      <th>avg_word_len</th>\n",
       "      <th>avg_word_sent</th>\n",
       "    </tr>\n",
       "  </thead>\n",
       "  <tbody>\n",
       "    <tr>\n",
       "      <th>0</th>\n",
       "      <td>When the young people returned to the ballroom...</td>\n",
       "      <td>174</td>\n",
       "      <td>179</td>\n",
       "      <td>1</td>\n",
       "      <td>11</td>\n",
       "      <td>11</td>\n",
       "      <td>6</td>\n",
       "      <td>4</td>\n",
       "      <td>81.70</td>\n",
       "      <td>5.95</td>\n",
       "      <td>...</td>\n",
       "      <td>6.55</td>\n",
       "      <td>0.12102</td>\n",
       "      <td>0.11952</td>\n",
       "      <td>0.457534</td>\n",
       "      <td>12.097815</td>\n",
       "      <td>992</td>\n",
       "      <td>0.027218</td>\n",
       "      <td>16.272727</td>\n",
       "      <td>4.375691</td>\n",
       "      <td>15.818182</td>\n",
       "    </tr>\n",
       "    <tr>\n",
       "      <th>1</th>\n",
       "      <td>All through dinner time, Mrs. Fayre was somewh...</td>\n",
       "      <td>164</td>\n",
       "      <td>184</td>\n",
       "      <td>0</td>\n",
       "      <td>15</td>\n",
       "      <td>15</td>\n",
       "      <td>6</td>\n",
       "      <td>4</td>\n",
       "      <td>80.26</td>\n",
       "      <td>4.86</td>\n",
       "      <td>...</td>\n",
       "      <td>6.25</td>\n",
       "      <td>0.04921</td>\n",
       "      <td>0.04921</td>\n",
       "      <td>0.462510</td>\n",
       "      <td>22.550179</td>\n",
       "      <td>937</td>\n",
       "      <td>0.059765</td>\n",
       "      <td>10.235294</td>\n",
       "      <td>4.102857</td>\n",
       "      <td>10.933333</td>\n",
       "    </tr>\n",
       "    <tr>\n",
       "      <th>2</th>\n",
       "      <td>As Roger had predicted, the snow departed as q...</td>\n",
       "      <td>162</td>\n",
       "      <td>180</td>\n",
       "      <td>0</td>\n",
       "      <td>11</td>\n",
       "      <td>11</td>\n",
       "      <td>5</td>\n",
       "      <td>3</td>\n",
       "      <td>79.04</td>\n",
       "      <td>6.03</td>\n",
       "      <td>...</td>\n",
       "      <td>7.31</td>\n",
       "      <td>0.10172</td>\n",
       "      <td>0.09724</td>\n",
       "      <td>0.369259</td>\n",
       "      <td>18.125279</td>\n",
       "      <td>908</td>\n",
       "      <td>0.051762</td>\n",
       "      <td>13.076923</td>\n",
       "      <td>4.000000</td>\n",
       "      <td>14.727273</td>\n",
       "    </tr>\n",
       "    <tr>\n",
       "      <th>3</th>\n",
       "      <td>Mr. Grimes was to come up next morning to Sir ...</td>\n",
       "      <td>159</td>\n",
       "      <td>160</td>\n",
       "      <td>0</td>\n",
       "      <td>3</td>\n",
       "      <td>3</td>\n",
       "      <td>1</td>\n",
       "      <td>1</td>\n",
       "      <td>44.77</td>\n",
       "      <td>20.51</td>\n",
       "      <td>...</td>\n",
       "      <td>8.56</td>\n",
       "      <td>0.07491</td>\n",
       "      <td>0.08856</td>\n",
       "      <td>0.390759</td>\n",
       "      <td>10.959460</td>\n",
       "      <td>848</td>\n",
       "      <td>0.036557</td>\n",
       "      <td>39.750000</td>\n",
       "      <td>4.018293</td>\n",
       "      <td>53.000000</td>\n",
       "    </tr>\n",
       "    <tr>\n",
       "      <th>4</th>\n",
       "      <td>And outside before the palace a great garden w...</td>\n",
       "      <td>163</td>\n",
       "      <td>164</td>\n",
       "      <td>1</td>\n",
       "      <td>5</td>\n",
       "      <td>5</td>\n",
       "      <td>2</td>\n",
       "      <td>2</td>\n",
       "      <td>68.07</td>\n",
       "      <td>12.06</td>\n",
       "      <td>...</td>\n",
       "      <td>7.00</td>\n",
       "      <td>0.06356</td>\n",
       "      <td>0.08798</td>\n",
       "      <td>0.389226</td>\n",
       "      <td>3.195960</td>\n",
       "      <td>909</td>\n",
       "      <td>0.036304</td>\n",
       "      <td>32.800000</td>\n",
       "      <td>4.275449</td>\n",
       "      <td>32.600000</td>\n",
       "    </tr>\n",
       "  </tbody>\n",
       "</table>\n",
       "<p>5 rows × 22 columns</p>\n",
       "</div>"
      ],
      "text/plain": [
       "                                             Excerpt  Google\\nWC  Joon\\nWC v1  \\\n",
       "0  When the young people returned to the ballroom...         174          179   \n",
       "1  All through dinner time, Mrs. Fayre was somewh...         164          184   \n",
       "2  As Roger had predicted, the snow departed as q...         162          180   \n",
       "3  Mr. Grimes was to come up next morning to Sir ...         159          160   \n",
       "4  And outside before the palace a great garden w...         163          164   \n",
       "\n",
       "   British WC  Sentence\\nCount v1  Sentence\\nCount v2  Paragraphs BT Easiness  \\\n",
       "0           1                  11                  11           6           4   \n",
       "1           0                  15                  15           6           4   \n",
       "2           0                  11                  11           5           3   \n",
       "3           0                   3                   3           1           1   \n",
       "4           1                   5                   5           2           2   \n",
       "\n",
       "   Flesch-Reading-Ease  Flesch-Kincaid-Grade-Level  ...  \\\n",
       "0                81.70                        5.95  ...   \n",
       "1                80.26                        4.86  ...   \n",
       "2                79.04                        6.03  ...   \n",
       "3                44.77                       20.51  ...   \n",
       "4                68.07                       12.06  ...   \n",
       "\n",
       "   New Dale-Chall Readability Formula    CAREC  CAREC_M     CARES     CML2RI  \\\n",
       "0                                6.55  0.12102  0.11952  0.457534  12.097815   \n",
       "1                                6.25  0.04921  0.04921  0.462510  22.550179   \n",
       "2                                7.31  0.10172  0.09724  0.369259  18.125279   \n",
       "3                                8.56  0.07491  0.08856  0.390759  10.959460   \n",
       "4                                7.00  0.06356  0.08798  0.389226   3.195960   \n",
       "\n",
       "   len_char  punctuation_ratio  avg_sentence_len  avg_word_len  avg_word_sent  \n",
       "0       992           0.027218         16.272727      4.375691      15.818182  \n",
       "1       937           0.059765         10.235294      4.102857      10.933333  \n",
       "2       908           0.051762         13.076923      4.000000      14.727273  \n",
       "3       848           0.036557         39.750000      4.018293      53.000000  \n",
       "4       909           0.036304         32.800000      4.275449      32.600000  \n",
       "\n",
       "[5 rows x 22 columns]"
      ]
     },
     "execution_count": 1054,
     "metadata": {},
     "output_type": "execute_result"
    }
   ],
   "source": [
    "# Correct number of labels for 6 bins\n",
    "labels_dict = {'very hard':0, 'hard':1, 'moderately hard':2, 'acceptable':3, 'easy':4, 'very easy':5}\n",
    "\n",
    "# Using 'quantiles' for bins and including 6 labels\n",
    "df['BT Easiness'] = pd.cut(\n",
    "    x=df['BT Easiness'],\n",
    "    bins=quantiles,\n",
    "    labels=labels_dict.values(),\n",
    "    include_lowest=True\n",
    ")\n",
    "\n",
    "# Displaying the first few rows of the DataFrame\n",
    "df.head()\n"
   ]
  },
  {
   "cell_type": "code",
   "execution_count": 1055,
   "metadata": {},
   "outputs": [],
   "source": [
    "# df['BT Easiness'] = pd.cut(x = df['BT Easiness'],\n",
    "#                                  bins=[df['BT Easiness'].min()-1,\n",
    "#                                        df['BT Easiness'].mean(),\n",
    "#                                        df['BT Easiness'].max()+1],\n",
    "#                                  labels=[0, 1])\n"
   ]
  },
  {
   "cell_type": "code",
   "execution_count": 1056,
   "metadata": {},
   "outputs": [
    {
     "data": {
      "text/html": [
       "<div>\n",
       "<style scoped>\n",
       "    .dataframe tbody tr th:only-of-type {\n",
       "        vertical-align: middle;\n",
       "    }\n",
       "\n",
       "    .dataframe tbody tr th {\n",
       "        vertical-align: top;\n",
       "    }\n",
       "\n",
       "    .dataframe thead th {\n",
       "        text-align: right;\n",
       "    }\n",
       "</style>\n",
       "<table border=\"1\" class=\"dataframe\">\n",
       "  <thead>\n",
       "    <tr style=\"text-align: right;\">\n",
       "      <th></th>\n",
       "      <th>Excerpt</th>\n",
       "      <th>BT Easiness</th>\n",
       "    </tr>\n",
       "  </thead>\n",
       "  <tbody>\n",
       "    <tr>\n",
       "      <th>0</th>\n",
       "      <td>When the young people returned to the ballroom...</td>\n",
       "      <td>4</td>\n",
       "    </tr>\n",
       "    <tr>\n",
       "      <th>1</th>\n",
       "      <td>All through dinner time, Mrs. Fayre was somewh...</td>\n",
       "      <td>4</td>\n",
       "    </tr>\n",
       "    <tr>\n",
       "      <th>2</th>\n",
       "      <td>As Roger had predicted, the snow departed as q...</td>\n",
       "      <td>3</td>\n",
       "    </tr>\n",
       "    <tr>\n",
       "      <th>3</th>\n",
       "      <td>Mr. Grimes was to come up next morning to Sir ...</td>\n",
       "      <td>1</td>\n",
       "    </tr>\n",
       "    <tr>\n",
       "      <th>4</th>\n",
       "      <td>And outside before the palace a great garden w...</td>\n",
       "      <td>2</td>\n",
       "    </tr>\n",
       "  </tbody>\n",
       "</table>\n",
       "</div>"
      ],
      "text/plain": [
       "                                             Excerpt BT Easiness\n",
       "0  When the young people returned to the ballroom...           4\n",
       "1  All through dinner time, Mrs. Fayre was somewh...           4\n",
       "2  As Roger had predicted, the snow departed as q...           3\n",
       "3  Mr. Grimes was to come up next morning to Sir ...           1\n",
       "4  And outside before the palace a great garden w...           2"
      ]
     },
     "execution_count": 1056,
     "metadata": {},
     "output_type": "execute_result"
    }
   ],
   "source": [
    "df[['Excerpt', 'BT Easiness']].head()\n"
   ]
  },
  {
   "cell_type": "markdown",
   "metadata": {},
   "source": [
    "### Label Encoding"
   ]
  },
  {
   "cell_type": "code",
   "execution_count": 1057,
   "metadata": {},
   "outputs": [],
   "source": [
    "# # Instantiate the LabelEncoder\n",
    "# label_encoder = LabelEncoder()\n",
    "\n",
    "# # Fit it to the target\n",
    "# label_encoder.fit(df['BT Easiness'])\n",
    "\n",
    "# # Find the encoded classes\n",
    "# print(f\"The Label Encoder has encoded the penguin classes into {label_encoder.classes_}\")\n",
    "\n",
    "# # Transform the targets\n",
    "# df['encoded_target'] = label_encoder.transform(df['BT Easiness'])\n"
   ]
  },
  {
   "cell_type": "code",
   "execution_count": 1058,
   "metadata": {},
   "outputs": [],
   "source": [
    "# df[['Excerpt', 'BT Easiness','encoded_target']]\n"
   ]
  },
  {
   "cell_type": "markdown",
   "metadata": {},
   "source": [
    "# Train Test Split"
   ]
  },
  {
   "cell_type": "code",
   "execution_count": 1059,
   "metadata": {},
   "outputs": [],
   "source": [
    "X = df.drop(columns=['BT Easiness'])\n",
    "y = df['BT Easiness']\n"
   ]
  },
  {
   "cell_type": "code",
   "execution_count": 1060,
   "metadata": {},
   "outputs": [],
   "source": [
    "X_train, X_test, y_train, y_test = train_test_split(X, y, test_size=0.3, random_state=42)\n"
   ]
  },
  {
   "cell_type": "markdown",
   "metadata": {},
   "source": [
    "## Text Preprocessing"
   ]
  },
  {
   "cell_type": "markdown",
   "metadata": {},
   "source": [
    "### Basic Cleaning"
   ]
  },
  {
   "cell_type": "code",
   "execution_count": 1061,
   "metadata": {},
   "outputs": [],
   "source": [
    "def basic_cleaning(sentence):\n",
    "    sentence = sentence.lower()\n",
    "    sentence = ''.join(char for char in sentence if not char.isdigit())\n",
    "\n",
    "    # Adding special quotes to the regular expression pattern\n",
    "    special_quotes = '“”‘’'\n",
    "    pattern = '[' + re.escape(string.punctuation + special_quotes) + ']'\n",
    "\n",
    "    sentence = re.sub(pattern, '', sentence)\n",
    "    sentence = sentence.strip()\n",
    "\n",
    "    return sentence\n"
   ]
  },
  {
   "cell_type": "code",
   "execution_count": 1062,
   "metadata": {},
   "outputs": [
    {
     "data": {
      "text/plain": [
       "0       when the young people returned to the ballroom...\n",
       "1       all through dinner time mrs fayre was somewhat...\n",
       "2       as roger had predicted the snow departed as qu...\n",
       "3       mr grimes was to come up next morning to sir j...\n",
       "4       and outside before the palace a great garden w...\n",
       "                              ...                        \n",
       "4719    the name monarch means king an adult monarch b...\n",
       "4720    walking sticks are long thin and slowmoving bu...\n",
       "4721    a black widow is a shiny black spider it has a...\n",
       "4722    solids are shapes that you can actually touch ...\n",
       "4723    animals are made of many cells they eat things...\n",
       "Name: Excerpt, Length: 4724, dtype: object"
      ]
     },
     "execution_count": 1062,
     "metadata": {},
     "output_type": "execute_result"
    }
   ],
   "source": [
    "df['Excerpt'] = df['Excerpt'].apply(basic_cleaning)\n",
    "df['Excerpt']\n"
   ]
  },
  {
   "cell_type": "markdown",
   "metadata": {},
   "source": [
    "### Tokenizing"
   ]
  },
  {
   "cell_type": "code",
   "execution_count": 1063,
   "metadata": {},
   "outputs": [
    {
     "data": {
      "text/plain": [
       "0       [when, the, young, people, returned, to, the, ...\n",
       "1       [all, through, dinner, time, mrs, fayre, was, ...\n",
       "2       [as, roger, had, predicted, the, snow, departe...\n",
       "3       [mr, grimes, was, to, come, up, next, morning,...\n",
       "4       [and, outside, before, the, palace, a, great, ...\n",
       "                              ...                        \n",
       "4719    [the, name, monarch, means, king, an, adult, m...\n",
       "4720    [walking, sticks, are, long, thin, and, slowmo...\n",
       "4721    [a, black, widow, is, a, shiny, black, spider,...\n",
       "4722    [solids, are, shapes, that, you, can, actually...\n",
       "4723    [animals, are, made, of, many, cells, they, ea...\n",
       "Name: Excerpt, Length: 4724, dtype: object"
      ]
     },
     "execution_count": 1063,
     "metadata": {},
     "output_type": "execute_result"
    }
   ],
   "source": [
    "#tokenizing\n",
    "df['Excerpt'] = df['Excerpt'].apply(lambda x: text_to_word_sequence(x))\n",
    "df['Excerpt']\n"
   ]
  },
  {
   "cell_type": "markdown",
   "metadata": {},
   "source": [
    "### Lemmatizing"
   ]
  },
  {
   "cell_type": "code",
   "execution_count": 1064,
   "metadata": {},
   "outputs": [],
   "source": [
    "def lemmatizer(sentence):\n",
    "    wnl = WordNetLemmatizer()\n",
    "    verbs_lemmatized = []\n",
    "    for word in sentence:\n",
    "        verbs_lemmatized.append(wnl.lemmatize(word, pos = 'v'))\n",
    "    nouns_lemmatized = []\n",
    "    for word in verbs_lemmatized:\n",
    "        nouns_lemmatized.append(wnl.lemmatize(word, pos = 'n'))\n",
    "    adverbs_lemmatized = []\n",
    "    for word in nouns_lemmatized:\n",
    "        adverbs_lemmatized.append(wnl.lemmatize(word, pos = 'r'))\n",
    "    adj_lemmatized = []\n",
    "    for word in adverbs_lemmatized:\n",
    "        adj_lemmatized.append(wnl.lemmatize(word, pos = 'a'))\n",
    "    sat_lemmatized = []\n",
    "    for word in adj_lemmatized:\n",
    "        sat_lemmatized.append(wnl.lemmatize(word, pos = 'a'))\n",
    "    return sat_lemmatized\n"
   ]
  },
  {
   "cell_type": "code",
   "execution_count": 1065,
   "metadata": {},
   "outputs": [
    {
     "data": {
      "text/plain": [
       "0       [when, the, young, people, return, to, the, ba...\n",
       "1       [all, through, dinner, time, mr, fayre, be, so...\n",
       "2       [a, roger, have, predict, the, snow, depart, a...\n",
       "3       [mr, grime, be, to, come, up, next, morning, t...\n",
       "4       [and, outside, before, the, palace, a, great, ...\n",
       "                              ...                        \n",
       "4719    [the, name, monarch, mean, king, an, adult, mo...\n",
       "4720    [walk, stick, be, long, thin, and, slowmoving,...\n",
       "4721    [a, black, widow, be, a, shiny, black, spider,...\n",
       "4722    [solid, be, shape, that, you, can, actually, t...\n",
       "4723    [animal, be, make, of, many, cell, they, eat, ...\n",
       "Name: Excerpt, Length: 4724, dtype: object"
      ]
     },
     "execution_count": 1065,
     "metadata": {},
     "output_type": "execute_result"
    }
   ],
   "source": [
    "df['Excerpt'] = df['Excerpt'].apply(lambda x: lemmatizer(x))\n",
    "df['Excerpt']\n"
   ]
  },
  {
   "cell_type": "markdown",
   "metadata": {},
   "source": [
    "### Removing Stopwords"
   ]
  },
  {
   "cell_type": "code",
   "execution_count": 1066,
   "metadata": {},
   "outputs": [],
   "source": [
    "def removing_stopwords(sentence):\n",
    "    stop_words = set(stopwords.words('english'))\n",
    "    sentence_new = [w for w in sentence if not w in stop_words]\n",
    "    return sentence_new\n"
   ]
  },
  {
   "cell_type": "code",
   "execution_count": 1067,
   "metadata": {},
   "outputs": [
    {
     "data": {
      "text/plain": [
       "0       [young, people, return, ballroom, present, dec...\n",
       "1       [dinner, time, mr, fayre, somewhat, silent, ey...\n",
       "2       [roger, predict, snow, depart, quickly, come, ...\n",
       "3       [mr, grime, come, next, morning, sir, john, ha...\n",
       "4       [outside, palace, great, garden, wall, round, ...\n",
       "                              ...                        \n",
       "4719    [name, monarch, mean, king, adult, monarch, bu...\n",
       "4720    [walk, stick, long, thin, slowmoving, bug, loo...\n",
       "4721    [black, widow, shiny, black, spider, orange, r...\n",
       "4722    [solid, shape, actually, touch, three, dimensi...\n",
       "4723    [animal, make, many, cell, eat, thing, digest,...\n",
       "Name: Excerpt, Length: 4724, dtype: object"
      ]
     },
     "execution_count": 1067,
     "metadata": {},
     "output_type": "execute_result"
    }
   ],
   "source": [
    "df['Excerpt'] = df['Excerpt'].apply(lambda x: removing_stopwords(x))\n",
    "df['Excerpt']\n"
   ]
  },
  {
   "cell_type": "markdown",
   "metadata": {},
   "source": [
    "# Dummy Baseline Model"
   ]
  },
  {
   "cell_type": "code",
   "execution_count": 1068,
   "metadata": {},
   "outputs": [
    {
     "data": {
      "text/plain": [
       "BT Easiness\n",
       "2    571\n",
       "3    557\n",
       "0    551\n",
       "1    551\n",
       "4    539\n",
       "5    537\n",
       "Name: count, dtype: int64"
      ]
     },
     "execution_count": 1068,
     "metadata": {},
     "output_type": "execute_result"
    }
   ],
   "source": [
    "y_train.value_counts()\n"
   ]
  },
  {
   "cell_type": "code",
   "execution_count": 1069,
   "metadata": {},
   "outputs": [
    {
     "data": {
      "text/plain": [
       "array([2, 2, 2, ..., 2, 2, 2])"
      ]
     },
     "execution_count": 1069,
     "metadata": {},
     "output_type": "execute_result"
    }
   ],
   "source": [
    "y_pred = y_train.value_counts().idxmax()\n",
    "y_pred = np.full(y_test.shape, y_pred)\n",
    "y_pred\n"
   ]
  },
  {
   "cell_type": "code",
   "execution_count": 1070,
   "metadata": {},
   "outputs": [
    {
     "data": {
      "text/plain": [
       "0.152327221438646"
      ]
     },
     "execution_count": 1070,
     "metadata": {},
     "output_type": "execute_result"
    }
   ],
   "source": [
    "accuracy_baseline = accuracy_score(y_test, y_pred)\n",
    "accuracy_baseline\n"
   ]
  },
  {
   "cell_type": "code",
   "execution_count": null,
   "metadata": {},
   "outputs": [],
   "source": []
  }
 ],
 "metadata": {
  "kernelspec": {
   "display_name": "neuroCraft",
   "language": "python",
   "name": "python3"
  },
  "language_info": {
   "codemirror_mode": {
    "name": "ipython",
    "version": 3
   },
   "file_extension": ".py",
   "mimetype": "text/x-python",
   "name": "python",
   "nbconvert_exporter": "python",
   "pygments_lexer": "ipython3",
   "version": "3.10.6"
  }
 },
 "nbformat": 4,
 "nbformat_minor": 2
}
